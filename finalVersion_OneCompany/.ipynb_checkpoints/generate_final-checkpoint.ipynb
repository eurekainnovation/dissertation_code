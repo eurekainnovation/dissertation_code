{
 "cells": [
  {
   "cell_type": "code",
   "execution_count": 68,
   "metadata": {
    "collapsed": false
   },
   "outputs": [],
   "source": [
    "import gmodel_final\n",
    "import makepredictions_final\n",
    "\n",
    "import datetime, time\n",
    "import numpy as np\n",
    "import pandas as pd\n",
    "import os\n",
    "\n",
    "from math import ceil\n",
    "\n"
   ]
  },
  {
   "cell_type": "code",
   "execution_count": 69,
   "metadata": {
    "collapsed": false
   },
   "outputs": [
    {
     "name": "stdout",
     "output_type": "stream",
     "text": [
      "364\n"
     ]
    }
   ],
   "source": [
    "def create(company, delta_start, id_file):\n",
    "\n",
    "    # delta_start is a random number of days to shift when we finish training the model and start predicting.\n",
    "    \n",
    "    ########################################\n",
    "    num_tests = 200 \n",
    "    nstates = 5\n",
    "    print (\" Company: \", company, \"Delta start days: \", delta_start)\n",
    "    ########################################\n",
    "\n",
    "    #date range used to train the model\n",
    "    date1 = datetime.date(1980, 1, 1)\n",
    "    date2 = datetime.date(2000, 1, 1) + datetime.timedelta(days=delta_start)\n",
    "\n",
    "    # Note, for the one state model the expected remain time is inf, therefore it will be stored in tmp and ignored\n",
    "    \n",
    "    tmp1, tmp2 = gmodel_final.cmodel(company,date1,date2,1)\n",
    "    d, tr_prob = gmodel_final.cmodel(company,date1,date2,nstates)\n",
    "\n",
    "    #print(\"Expected days in starting state: \", d)\n",
    "    \n",
    "    # Note: days_into_future is used to define the number of days into the future we are going to predict. \n",
    "    days_into_future = 182\n",
    "    \n",
    "    # Prepare the model filenames for 1 and 5 states to load it in the function that makes predictions\n",
    "    filename1 = company+\"_1_states_model_final.pkl\"\n",
    "    filename1 = os.path.join('./sims_final', filename1)\n",
    "    filename5 = company+\"_\"+str(nstates)+\"_states_model_final.pkl\"\n",
    "    filename5 = os.path.join('./sims_final', filename5)    \n",
    "\n",
    "    # We are going to make market predictions for 1 & 5 states models, using MLS starting strategy\n",
    "    # The results will be stored by the makepredictions function in a CSV file   \n",
    "    \n",
    "    \n",
    "    np.array(makepredictions_final.predictions_mls(filename1, company, date1, \n",
    "                                                       date2, 1, num_tests, days_into_future, tr_prob, id_file))\n",
    "    \n",
    "    np.array(makepredictions_final.predictions_mls(filename5, company, date1, \n",
    "                                                       date2, nstates, num_tests, days_into_future, tr_prob, id_file))\n"
   ]
  }
 ],
 "metadata": {
  "kernelspec": {
   "display_name": "Python [Root]",
   "language": "python",
   "name": "Python [Root]"
  },
  "language_info": {
   "codemirror_mode": {
    "name": "ipython",
    "version": 2
   },
   "file_extension": ".py",
   "mimetype": "text/x-python",
   "name": "python",
   "nbconvert_exporter": "python",
   "pygments_lexer": "ipython2",
   "version": "2.7.12"
  }
 },
 "nbformat": 4,
 "nbformat_minor": 0
}
