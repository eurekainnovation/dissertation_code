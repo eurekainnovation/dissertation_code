{
 "cells": [
  {
   "cell_type": "code",
   "execution_count": 197,
   "metadata": {
    "collapsed": false
   },
   "outputs": [],
   "source": [
    "import matplotlib.pyplot as plt\n",
    "%matplotlib inline\n",
    "\n",
    "import generatekdes\n",
    "import datetime, time\n",
    "import numpy as np\n",
    "import pandas as pd\n",
    "from scipy import stats\n",
    "import os\n",
    "import subprocess"
   ]
  },
  {
   "cell_type": "code",
   "execution_count": 198,
   "metadata": {
    "collapsed": false
   },
   "outputs": [],
   "source": [
    "states = 5\n",
    "days = 10\n",
    "\n",
    "sp = np.genfromtxt(os.path.join('./sims1', 'companies_final.csv'), delimiter=',', dtype=None)\n",
    "tickers = sp[:,0]\n",
    "t = tickers[0:]\n",
    "samples = t.size\n",
    "m=np.zeros(samples)\n",
    "r=np.zeros(samples)\n",
    "v=np.zeros(samples)\n",
    "p=np.zeros(samples)\n",
    "l=np.zeros(samples)\n",
    "ml=np.zeros(samples)"
   ]
  },
  {
   "cell_type": "code",
   "execution_count": 199,
   "metadata": {
    "collapsed": false
   },
   "outputs": [
    {
     "name": "stdout",
     "output_type": "stream",
     "text": [
      "['MMM' 'ABT' 'ACN' 'ATVI' 'AET' 'AMG' 'A' 'APD' 'AKAM' 'ALK' 'ALB' 'AA'\n",
      " 'AGN' 'ADS' 'LNT' 'ALL' 'GOOGL' 'GOOG' 'MO' 'AMZN' 'AEE' 'AAL' 'AEP' 'AXP'\n",
      " 'AIG' 'AMT' 'AMP' 'ABC' 'AME' 'AMGN' 'APH' 'APC' 'ADI' 'AON' 'APA' 'AIV'\n",
      " 'AAPL' 'AMAT' 'ADM' 'AJG' 'AIZ' 'T' 'ADSK' 'AN' 'AZO' 'AVB' 'AVY' 'BHI'\n",
      " 'BLL' 'BAC' 'BCR' 'BAX' 'BBT' 'BDX' 'BBBY' 'BRK-B' 'BBY' 'BIIB' 'BLK'\n",
      " 'HRB' 'BA' 'BWA' 'BXP' 'BSX' 'BMY' 'BF-B' 'CHRW' 'CA' 'COG' 'CPB' 'COF'\n",
      " 'CAH' 'KMX' 'CCL' 'CAT' 'CBG' 'CBS' 'CELG' 'CNC' 'CNP' 'CTL' 'CERN' 'CF'\n",
      " 'SCHW' 'CHK' 'CVX' 'CB' 'CHD' 'CI' 'XEC' 'CINF' 'CTAS' 'CSCO' 'C' 'CTXS'\n",
      " 'CME' 'CMS' 'COH' 'CTSH' 'CL' 'CMCSA' 'CMA' 'CAG' 'CXO' 'COP' 'ED' 'STZ'\n",
      " 'GLW' 'COST' 'CCI' 'CSX' 'CMI' 'CVS' 'DHI' 'DHR' 'DRI' 'DVA' 'DE' 'DAL'\n",
      " 'XRAY' 'DVN' 'DO' 'DLR' 'DFS' 'DISCA' 'DLTR' 'D' 'DOV' 'DOW' 'DPS' 'DTE'\n",
      " 'DD' 'DUK' 'DNB' 'EMN' 'ETN' 'EBAY' 'ECL' 'EIX' 'EW' 'EA' 'EMC' 'EMR'\n",
      " 'ETR' 'EOG' 'EQT' 'EFX' 'EQR' 'ESS' 'EL' 'ES' 'EXC' 'EXPE' 'EXPD' 'ESRX'\n",
      " 'EXR' 'XOM' 'FFIV' 'FAST' 'FRT' 'FDX' 'FIS' 'FITB' 'FSLR' 'FE' 'FISV'\n",
      " 'FLIR' 'FLS' 'FLR' 'FMC' 'FTI' 'FL' 'F' 'BEN' 'FCX' 'FTR' 'GPS' 'GRMN'\n",
      " 'GD' 'GE' 'GGP' 'GIS' 'GPC' 'GPN' 'GS' 'GT' 'GWW' 'HAL' 'HBI' 'HOG' 'HAR'\n",
      " 'HRS' 'HIG' 'HAS' 'HCP' 'HP' 'HSIC' 'HES' 'HOLX' 'HD' 'HON' 'HRL' 'HST'\n",
      " 'HPQ' 'HUM' 'ITW' 'ILMN' 'IR' 'INTC' 'IBM' 'IP' 'IPG' 'IFF' 'INTU' 'ISRG'\n",
      " 'IVZ' 'IRM' 'JBHT' 'JEC' 'JNJ' 'JCI' 'JPM' 'JNPR' 'K' 'KEY' 'KMB' 'KIM'\n",
      " 'KLAC' 'KSS' 'KR' 'LB' 'LLL' 'LH' 'LRCX' 'LM' 'LEG' 'LEN' 'LUK' 'LVLT'\n",
      " 'LLY' 'LNC' 'LLTC' 'LKQ' 'LMT' 'L' 'LOW' 'MTB' 'MAC' 'M' 'MRO' 'MAR' 'MMC'\n",
      " 'MLM' 'MAS' 'MA' 'MAT' 'MKC' 'MCD' 'MCK' 'MDT' 'MRK' 'MET' 'MCHP' 'MU'\n",
      " 'MSFT' 'MHK' 'TAP' 'MDLZ' 'MON' 'MCO' 'MS' 'MSI' 'MUR' 'MYL' 'NDAQ' 'NOV'\n",
      " 'NTAP' 'NFLX' 'NWL' 'NFX' 'NEM' 'NKE' 'NI' 'NBL' 'JWN' 'NSC' 'NTRS' 'NOC'\n",
      " 'NRG' 'NUE' 'NVDA' 'ORLY' 'OXY' 'OMC' 'OKE' 'ORCL' 'OI' 'PCAR' 'PH' 'PDCO'\n",
      " 'PAYX' 'PNR' 'PBCT' 'PKI' 'PRGO' 'PFE' 'PCG' 'PNW' 'PXD' 'PBI' 'PNC' 'RL'\n",
      " 'PPG' 'PPL' 'PX' 'PCLN' 'PFG' 'PGR' 'PLD' 'PRU' 'PEG' 'PSA' 'PHM' 'PVH'\n",
      " 'QCOM' 'PWR' 'DGX' 'RRC' 'RTN' 'O' 'RHT' 'REGN' 'RF' 'RSG' 'RHI' 'ROK'\n",
      " 'COL' 'ROP' 'ROST' 'RCL' 'R' 'SPGI' 'CRM' 'SCG' 'SLB' 'STX' 'SEE' 'SRE'\n",
      " 'SHW' 'SIG' 'SPG' 'SWKS' 'SLG' 'SNA' 'SO' 'LUV' 'SWN' 'SE' 'STJ' 'SPLS'\n",
      " 'SBUX' 'HOT' 'STT' 'SRCL' 'SYK' 'STI' 'SYMC' 'TROW' 'TGT' 'TGNA' 'TDC'\n",
      " 'TSO' 'TXT' 'BK' 'TRV' 'DIS' 'TMO' 'TIF' 'TJX' 'TMK' 'TSCO' 'TDG' 'RIG'\n",
      " 'FOXA' 'FOX' 'USB' 'UDR' 'ULTA' 'UNP' 'UAL' 'UNH' 'UPS' 'URI' 'UTX' 'UHS'\n",
      " 'UNM' 'URBN' 'VFC' 'VLO' 'VAR' 'VTR' 'VRSK' 'VZ' 'VRTX' 'VIAB' 'VNO' 'VMC'\n",
      " 'WM' 'WAT' 'WFC' 'HCN' 'WY' 'WHR' 'WMB' 'WEC' 'WYN' 'WYNN' 'XEL']\n"
     ]
    }
   ],
   "source": [
    "\n",
    "print (t)"
   ]
  },
  {
   "cell_type": "code",
   "execution_count": 200,
   "metadata": {
    "collapsed": false
   },
   "outputs": [],
   "source": [
    "i=0\n",
    "pd.options.display.float_format = '{:,.4f}'.format\n",
    "for company in t:\n",
    "    fname = company +\"_\"+ str(states) + \"_\" + str(days) + \"_kdes.csv\"\n",
    "    dfrtmp = pd.read_csv(os.path.join('./sims1', fname))\n",
    "    #print (dfrtmp)\n",
    "    #print(dfrtmp.at[0,'E']) #MLS\n",
    "    m[i] = dfrtmp.at[0,'E']\n",
    "    #print(dfrtmp.at[1,'E']) #RAND\n",
    "    r[i] = dfrtmp.at[1,'E']\n",
    "    #print(dfrtmp.at[2,'E']) #MLS\n",
    "    v[i] = dfrtmp.at[2,'E']\n",
    "    #print(dfrtmp.at[3,'E']) #MLS\n",
    "    p[i] = dfrtmp.at[3,'E']\n",
    "    #print(dfrtmp.at[4,'E']) #MLS\n",
    "    l[i] = dfrtmp.at[4,'E']\n",
    "    #print(dfrtmp.at[5,'E']) #MLS\n",
    "    ml[i] = dfrtmp.at[5,'E']\n",
    "    i=i+1"
   ]
  },
  {
   "cell_type": "code",
   "execution_count": 201,
   "metadata": {
    "collapsed": false
   },
   "outputs": [],
   "source": [
    "dfr = pd.DataFrame({  #\"MLS\", \"Rand\",\"Vtr\",\"Psd\",\"Lls\",\"Mlns\n",
    "                    'MLS' : m,\n",
    "                    'RAND' : r,\n",
    "                    'VTR' : v,\n",
    "                    'PSD' : p,\n",
    "                    'LLS' : l,\n",
    "                    'MLNS' : ml,        \n",
    "                     })"
   ]
  },
  {
   "cell_type": "code",
   "execution_count": 202,
   "metadata": {
    "collapsed": false
   },
   "outputs": [
    {
     "data": {
      "text/html": [
       "<div style=\"max-height:1000px;max-width:1500px;overflow:auto;\">\n",
       "<table border=\"1\" class=\"dataframe\">\n",
       "  <thead>\n",
       "    <tr style=\"text-align: right;\">\n",
       "      <th></th>\n",
       "      <th>LLS</th>\n",
       "      <th>MLNS</th>\n",
       "      <th>MLS</th>\n",
       "      <th>PSD</th>\n",
       "      <th>RAND</th>\n",
       "      <th>VTR</th>\n",
       "    </tr>\n",
       "  </thead>\n",
       "  <tbody>\n",
       "    <tr>\n",
       "      <th>415</th>\n",
       "      <td>0.1992</td>\n",
       "      <td>0.1531</td>\n",
       "      <td>0.1550</td>\n",
       "      <td>0.1683</td>\n",
       "      <td>0.2278</td>\n",
       "      <td>0.1549</td>\n",
       "    </tr>\n",
       "    <tr>\n",
       "      <th>416</th>\n",
       "      <td>0.1598</td>\n",
       "      <td>0.0644</td>\n",
       "      <td>0.0665</td>\n",
       "      <td>0.0594</td>\n",
       "      <td>0.0946</td>\n",
       "      <td>0.0666</td>\n",
       "    </tr>\n",
       "    <tr>\n",
       "      <th>417</th>\n",
       "      <td>0.0134</td>\n",
       "      <td>0.1232</td>\n",
       "      <td>0.1846</td>\n",
       "      <td>0.1678</td>\n",
       "      <td>0.1764</td>\n",
       "      <td>0.1823</td>\n",
       "    </tr>\n",
       "  </tbody>\n",
       "</table>\n",
       "</div>"
      ],
      "text/plain": [
       "       LLS   MLNS    MLS    PSD   RAND    VTR\n",
       "415 0.1992 0.1531 0.1550 0.1683 0.2278 0.1549\n",
       "416 0.1598 0.0644 0.0665 0.0594 0.0946 0.0666\n",
       "417 0.0134 0.1232 0.1846 0.1678 0.1764 0.1823"
      ]
     },
     "execution_count": 202,
     "metadata": {},
     "output_type": "execute_result"
    }
   ],
   "source": [
    "dfr.tail(3)"
   ]
  },
  {
   "cell_type": "code",
   "execution_count": 203,
   "metadata": {
    "collapsed": false
   },
   "outputs": [
    {
     "data": {
      "text/html": [
       "<div style=\"max-height:1000px;max-width:1500px;overflow:auto;\">\n",
       "<table border=\"1\" class=\"dataframe\">\n",
       "  <thead>\n",
       "    <tr style=\"text-align: right;\">\n",
       "      <th></th>\n",
       "      <th>LLS</th>\n",
       "      <th>MLNS</th>\n",
       "      <th>MLS</th>\n",
       "      <th>PSD</th>\n",
       "      <th>RAND</th>\n",
       "      <th>VTR</th>\n",
       "    </tr>\n",
       "  </thead>\n",
       "  <tbody>\n",
       "    <tr>\n",
       "      <th>count</th>\n",
       "      <td>418.0000</td>\n",
       "      <td>418.0000</td>\n",
       "      <td>418.0000</td>\n",
       "      <td>418.0000</td>\n",
       "      <td>418.0000</td>\n",
       "      <td>418.0000</td>\n",
       "    </tr>\n",
       "    <tr>\n",
       "      <th>mean</th>\n",
       "      <td>  0.1755</td>\n",
       "      <td>  0.1870</td>\n",
       "      <td>  0.1938</td>\n",
       "      <td>  0.1916</td>\n",
       "      <td>  0.1846</td>\n",
       "      <td>  0.1870</td>\n",
       "    </tr>\n",
       "    <tr>\n",
       "      <th>std</th>\n",
       "      <td>  0.2241</td>\n",
       "      <td>  0.1827</td>\n",
       "      <td>  0.1864</td>\n",
       "      <td>  0.1794</td>\n",
       "      <td>  0.1649</td>\n",
       "      <td>  0.1805</td>\n",
       "    </tr>\n",
       "  </tbody>\n",
       "</table>\n",
       "</div>"
      ],
      "text/plain": [
       "           LLS     MLNS      MLS      PSD     RAND      VTR\n",
       "count 418.0000 418.0000 418.0000 418.0000 418.0000 418.0000\n",
       "mean    0.1755   0.1870   0.1938   0.1916   0.1846   0.1870\n",
       "std     0.2241   0.1827   0.1864   0.1794   0.1649   0.1805"
      ]
     },
     "execution_count": 203,
     "metadata": {},
     "output_type": "execute_result"
    }
   ],
   "source": [
    "dfr.describe()[:3]"
   ]
  },
  {
   "cell_type": "code",
   "execution_count": 216,
   "metadata": {
    "collapsed": false
   },
   "outputs": [
    {
     "data": {
      "image/png": "[encoded data removed]",
      "text/plain": [
       "<matplotlib.figure.Figure at 0x10ab4310>"
      ]
     },
     "metadata": {},
     "output_type": "display_data"
    }
   ],
   "source": [
    "plt.figure(figsize=(9, 6))\n",
    "data = [l,ml,m,p,r,v]\n",
    "plt.boxplot(data, 0, '',widths=0.75);\n",
    "plt.xticks([1, 2, 3,4,5,6], ['LLS', 'MLNS', 'MLS', 'PSD', 'RAND', 'VTR']);\n",
    "plt.ylabel(\"Gaussian KDE\")\n",
    "plt.savefig('boxplot_starting_states.png', bbox_inches='tight')"
   ]
  },
  {
   "cell_type": "code",
   "execution_count": null,
   "metadata": {
    "collapsed": false
   },
   "outputs": [],
   "source": []
  },
  {
   "cell_type": "code",
   "execution_count": 217,
   "metadata": {
    "collapsed": false
   },
   "outputs": [],
   "source": [
    "d1 = dfr['MLS']\n",
    "d2 = dfr['RAND']\n",
    "d3 = dfr['LLS']\n",
    "d4 = dfr['PSD']\n",
    "d5 = dfr['VTR']\n",
    "d6 = dfr['MLNS']"
   ]
  },
  {
   "cell_type": "code",
   "execution_count": 218,
   "metadata": {
    "collapsed": true
   },
   "outputs": [],
   "source": [
    "#z_stat, p_val = stats.ranksums(d1,d2)"
   ]
  },
  {
   "cell_type": "code",
   "execution_count": 219,
   "metadata": {
    "collapsed": false
   },
   "outputs": [],
   "source": [
    "#print (p_val)"
   ]
  },
  {
   "cell_type": "code",
   "execution_count": 227,
   "metadata": {
    "collapsed": true
   },
   "outputs": [],
   "source": [
    "p_val1 = stats.wilcoxon(d1,d2, zero_method='wilcox', correction=False)[1]\n",
    "p_val2 = stats.wilcoxon(d1,d3, zero_method='wilcox', correction=False)[1]\n",
    "p_val3 = stats.wilcoxon(d1,d4, zero_method='wilcox', correction=False)[1]\n",
    "p_val4 = stats.wilcoxon(d1,d5, zero_method='wilcox', correction=False)[1]\n",
    "p_val5 = stats.wilcoxon(d1,d6, zero_method='wilcox', correction=False)[1]"
   ]
  },
  {
   "cell_type": "code",
   "execution_count": 228,
   "metadata": {
    "collapsed": false
   },
   "outputs": [
    {
     "name": "stdout",
     "output_type": "stream",
     "text": [
      "('P-value comparison between MLS and RAND: ', 0.00015369546253061553)\n",
      "('P-value comparison between MLS and LLS: ', 1.3900915618323364e-05)\n",
      "('P-value comparison between MLS and PSD: ', 0.0039986657131438437)\n",
      "('P-value comparison between MLS and VTR: ', 0.034658957971140651)\n",
      "('P-value comparison between MLS and MLNS: ', 0.018659701752548753)\n"
     ]
    }
   ],
   "source": [
    "print(\"P-value comparison between MLS and RAND: \", p_val1) # Used because data is paired  :D\n",
    "print(\"P-value comparison between MLS and LLS: \", p_val2)\n",
    "print(\"P-value comparison between MLS and PSD: \", p_val3)\n",
    "print(\"P-value comparison between MLS and VTR: \", p_val4)\n",
    "print(\"P-value comparison between MLS and MLNS: \", p_val5)"
   ]
  },
  {
   "cell_type": "code",
   "execution_count": 229,
   "metadata": {
    "collapsed": false
   },
   "outputs": [
    {
     "data": {
      "text/plain": [
       "0"
      ]
     },
     "execution_count": 229,
     "metadata": {},
     "output_type": "execute_result"
    }
   ],
   "source": [
    "filename = \"Table_Comparison_\" + str(states) + \"_States_\" + str(days) + \"Days\" + '.tex'\n",
    "\n",
    "template = r'''\\documentclass[preview]{{standalone}}\n",
    "\\usepackage{{booktabs}}\n",
    "\\begin{{document}}\n",
    "{}\n",
    "\\end{{document}}\n",
    "'''\n",
    "\n",
    "with open(filename, 'wb') as f:\n",
    "    f.write(template.format(dfr.describe()[:3].to_latex()))\n",
    "\n",
    "subprocess.call(['pdflatex', filename])"
   ]
  },
  {
   "cell_type": "code",
   "execution_count": 230,
   "metadata": {
    "collapsed": false
   },
   "outputs": [],
   "source": [
    "pd.options.display.float_format = '{:,.6f}'.format\n",
    "dfr_pvalues =  pd.DataFrame({       \n",
    "                    '': pd.Categorical([\"MLS vs.\"]),\n",
    "                    'RAND':p_val1,\n",
    "                    'LLS':p_val2,\n",
    "                    'PSD':p_val3,\n",
    "                    'VTR':p_val4,\n",
    "                    'MLNS':p_val5,\n",
    "                    \n",
    "                     }, index=['p-value'])\n",
    "#'D':np.array([0] * 2,dtype='int32'),"
   ]
  },
  {
   "cell_type": "code",
   "execution_count": 231,
   "metadata": {
    "collapsed": false
   },
   "outputs": [
    {
     "data": {
      "text/html": [
       "<div style=\"max-height:1000px;max-width:1500px;overflow:auto;\">\n",
       "<table border=\"1\" class=\"dataframe\">\n",
       "  <thead>\n",
       "    <tr style=\"text-align: right;\">\n",
       "      <th></th>\n",
       "      <th></th>\n",
       "      <th>LLS</th>\n",
       "      <th>MLNS</th>\n",
       "      <th>PSD</th>\n",
       "      <th>RAND</th>\n",
       "      <th>VTR</th>\n",
       "    </tr>\n",
       "  </thead>\n",
       "  <tbody>\n",
       "    <tr>\n",
       "      <th>p-value</th>\n",
       "      <td> MLS vs.</td>\n",
       "      <td>0.000014</td>\n",
       "      <td>0.018660</td>\n",
       "      <td>0.003999</td>\n",
       "      <td>0.000154</td>\n",
       "      <td>0.034659</td>\n",
       "    </tr>\n",
       "  </tbody>\n",
       "</table>\n",
       "</div>"
      ],
      "text/plain": [
       "                      LLS     MLNS      PSD     RAND      VTR\n",
       "p-value  MLS vs. 0.000014 0.018660 0.003999 0.000154 0.034659"
      ]
     },
     "execution_count": 231,
     "metadata": {},
     "output_type": "execute_result"
    }
   ],
   "source": [
    "dfr_pvalues"
   ]
  },
  {
   "cell_type": "code",
   "execution_count": 214,
   "metadata": {
    "collapsed": false
   },
   "outputs": [
    {
     "data": {
      "text/plain": [
       "0"
      ]
     },
     "execution_count": 214,
     "metadata": {},
     "output_type": "execute_result"
    }
   ],
   "source": [
    "filename = \"Pvalues_Comparison_\" + str(states) + \"_States_\" + str(days) + \"Days\" + '.tex'\n",
    "\n",
    "template = r'''\\documentclass[preview]{{standalone}}\n",
    "\\usepackage{{booktabs}}\n",
    "\\begin{{document}}\n",
    "{}\n",
    "\\end{{document}}\n",
    "'''\n",
    "\n",
    "with open(filename, 'wb') as f:\n",
    "    f.write(template.format(dfr_pvalues.to_latex()))\n",
    "\n",
    "subprocess.call(['pdflatex', filename])"
   ]
  }
 ],
 "metadata": {
  "kernelspec": {
   "display_name": "Python [Root]",
   "language": "python",
   "name": "Python [Root]"
  },
  "language_info": {
   "codemirror_mode": {
    "name": "ipython",
    "version": 2
   },
   "file_extension": ".py",
   "mimetype": "text/x-python",
   "name": "python",
   "nbconvert_exporter": "python",
   "pygments_lexer": "ipython2",
   "version": "2.7.12"
  }
 },
 "nbformat": 4,
 "nbformat_minor": 0
}
