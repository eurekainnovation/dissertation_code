{
 "cells": [
  {
   "cell_type": "code",
   "execution_count": 1,
   "metadata": {
    "collapsed": false
   },
   "outputs": [],
   "source": [
    "import datetime, time\n",
    "import numpy as np\n",
    "import pandas as pd\n",
    "from scipy import stats\n",
    "import os\n",
    "import subprocess"
   ]
  },
  {
   "cell_type": "code",
   "execution_count": 2,
   "metadata": {
    "collapsed": false
   },
   "outputs": [],
   "source": [
    "\n",
    "reference = 'IEF'\n",
    "\n",
    "days = '10days'\n",
    "#days = '90days'\n",
    "#days = 'year'\n",
    "\n",
    "sp = np.genfromtxt(os.path.join('./sims_financials', 'companies_financials.csv'), delimiter=',', dtype=None)\n"
   ]
  },
  {
   "cell_type": "code",
   "execution_count": 3,
   "metadata": {
    "collapsed": false
   },
   "outputs": [],
   "source": [
    "tickers = sp[:,0]\n",
    "industries = sp[:,1]\n",
    "\n",
    "samples = tickers.size\n",
    "states = []\n",
    "for i in range(0,10):\n",
    "    states.append(np.zeros(samples))"
   ]
  },
  {
   "cell_type": "code",
   "execution_count": 4,
   "metadata": {
    "collapsed": true
   },
   "outputs": [],
   "source": [
    "\n",
    "ticker_sub = tickers[:]\n",
    "industry_sub = industries[:]\n",
    "\n",
    "companies_sub = np.vstack((ticker_sub,industry_sub))"
   ]
  },
  {
   "cell_type": "code",
   "execution_count": 5,
   "metadata": {
    "collapsed": false
   },
   "outputs": [
    {
     "data": {
      "text/plain": [
       "array(['AMG', 'ALL', 'AXP', 'AIG', 'AMT', 'AMP', 'AON', 'AIV', 'AJG',\n",
       "       'AIZ', 'AVB', 'BAC', 'BBT', 'BRK-B', 'BLK', 'HRB', 'BXP', 'COF',\n",
       "       'CBG', 'SCHW', 'CB', 'CINF', 'C', 'CME', 'CMA', 'CCI', 'DLR', 'DFS',\n",
       "       'EFX', 'EQR', 'ESS', 'EXR', 'FRT', 'FITB', 'BEN', 'GGP', 'GS',\n",
       "       'HIG', 'HCP', 'HST', 'IVZ', 'JPM', 'KEY', 'KIM', 'LM', 'LUK', 'LNC',\n",
       "       'L', 'MTB', 'MAC', 'MMC', 'MET', 'MCO', 'MS', 'NDAQ', 'NTRS',\n",
       "       'PBCT', 'PNC', 'PFG', 'PGR', 'PLD', 'PRU', 'PSA', 'O', 'RF', 'SPGI',\n",
       "       'SPG', 'SLG', 'STT', 'STI', 'TROW', 'BK', 'TRV', 'TMK', 'USB',\n",
       "       'UDR', 'UNM', 'VTR', 'VNO', 'WFC', 'HCN', 'WY'], \n",
       "      dtype='|S10')"
      ]
     },
     "execution_count": 5,
     "metadata": {},
     "output_type": "execute_result"
    }
   ],
   "source": [
    "companies_sub[0,:]"
   ]
  },
  {
   "cell_type": "code",
   "execution_count": 6,
   "metadata": {
    "collapsed": false
   },
   "outputs": [
    {
     "name": "stdout",
     "output_type": "stream",
     "text": [
      "('AIV', 'Financials')\n",
      "('FITB', 'Financials')\n",
      "('LM', 'Financials')\n",
      "('SLG', 'Financials')\n",
      "('BK', 'Financials')\n",
      "5\n",
      "77\n"
     ]
    }
   ],
   "source": [
    "n=0\n",
    "e=0\n",
    "error_companies = []\n",
    "final_companies = []\n",
    "final_companies_ind = []\n",
    "pd.options.display.float_format = '{:,.4f}'.format\n",
    "\n",
    "for t,i in zip(companies_sub[0,:],companies_sub[1,:]):\n",
    "\n",
    "    if (not (i == 'Financials')):\n",
    "        continue\n",
    "        \n",
    "    try:\n",
    "        fname = t +\"_\"+ i + \"_\" + str(days) + \"_kdes_\" + str(reference) + \"_adv.csv\"\n",
    "        dfrtmp = pd.read_csv(os.path.join('./sims_financials', fname))\n",
    "        for s in range(0,9):\n",
    "            states[s][n] = dfrtmp.at[s,'D']\n",
    "        n=n+1\n",
    "        final_companies.append(t)\n",
    "        final_companies_ind.append(i)\n",
    "    except:\n",
    "        e = e+1\n",
    "        print (t,i)\n",
    "        error_companies.append(t)\n",
    "    \n",
    "print (e)\n",
    "print (n)\n",
    "#ec = np.array((error_companies))\n",
    "#fc1 = np.array((final_companies))\n",
    "#fc2 = np.array((final_companies_ind))\n",
    "#fc = np.vstack((fc1,fc2))\n",
    "#fc=fc.T\n",
    "#print fc\n",
    "#for i in range(0,10):\n",
    "#    states[i] = states[i][:n]\n",
    "#np.savetxt('companies_final.csv',fc,delimiter=',',fmt=\"%s\")"
   ]
  },
  {
   "cell_type": "code",
   "execution_count": 7,
   "metadata": {
    "collapsed": true
   },
   "outputs": [],
   "source": [
    "for i in range(0,10):\n",
    "    states[i] = states[i][:n]"
   ]
  },
  {
   "cell_type": "code",
   "execution_count": 8,
   "metadata": {
    "collapsed": false
   },
   "outputs": [],
   "source": [
    "dfr = pd.DataFrame({  #\"MLS\", \"Rand\",\"Vtr\",\"Psd\",\"Lls\",\"Mlns\n",
    "                    '1 state' : states[0],\n",
    "                    '3 states' : states[2],\n",
    "                    '5 states' : states[4],\n",
    "                    '7 states' : states[6],\n",
    "                    '9 states' : states[8],\n",
    "                    #'6 states' : states[5], \n",
    "                    #'7 states' : states[6],\n",
    "                    #'8 states' : states[7],\n",
    "                    #'9 states' : states[8], \n",
    "                     })"
   ]
  },
  {
   "cell_type": "code",
   "execution_count": 9,
   "metadata": {
    "collapsed": false
   },
   "outputs": [
    {
     "data": {
      "text/html": [
       "<div>\n",
       "<table border=\"1\" class=\"dataframe\">\n",
       "  <thead>\n",
       "    <tr style=\"text-align: right;\">\n",
       "      <th></th>\n",
       "      <th>1 state</th>\n",
       "      <th>3 states</th>\n",
       "      <th>5 states</th>\n",
       "      <th>7 states</th>\n",
       "      <th>9 states</th>\n",
       "    </tr>\n",
       "  </thead>\n",
       "  <tbody>\n",
       "    <tr>\n",
       "      <th>68</th>\n",
       "      <td>0.3118</td>\n",
       "      <td>0.1994</td>\n",
       "      <td>0.1894</td>\n",
       "      <td>0.2895</td>\n",
       "      <td>0.2423</td>\n",
       "    </tr>\n",
       "    <tr>\n",
       "      <th>69</th>\n",
       "      <td>0.2385</td>\n",
       "      <td>0.2657</td>\n",
       "      <td>0.2794</td>\n",
       "      <td>0.2791</td>\n",
       "      <td>0.2186</td>\n",
       "    </tr>\n",
       "    <tr>\n",
       "      <th>70</th>\n",
       "      <td>0.3815</td>\n",
       "      <td>0.3837</td>\n",
       "      <td>0.3641</td>\n",
       "      <td>0.3748</td>\n",
       "      <td>0.3464</td>\n",
       "    </tr>\n",
       "    <tr>\n",
       "      <th>71</th>\n",
       "      <td>0.2838</td>\n",
       "      <td>0.3323</td>\n",
       "      <td>0.3407</td>\n",
       "      <td>0.3170</td>\n",
       "      <td>0.2701</td>\n",
       "    </tr>\n",
       "    <tr>\n",
       "      <th>72</th>\n",
       "      <td>0.1362</td>\n",
       "      <td>0.1010</td>\n",
       "      <td>0.1722</td>\n",
       "      <td>0.1717</td>\n",
       "      <td>0.2066</td>\n",
       "    </tr>\n",
       "    <tr>\n",
       "      <th>73</th>\n",
       "      <td>0.1002</td>\n",
       "      <td>0.1208</td>\n",
       "      <td>0.1508</td>\n",
       "      <td>0.1686</td>\n",
       "      <td>0.1097</td>\n",
       "    </tr>\n",
       "    <tr>\n",
       "      <th>74</th>\n",
       "      <td>0.1762</td>\n",
       "      <td>0.2270</td>\n",
       "      <td>0.1830</td>\n",
       "      <td>0.1761</td>\n",
       "      <td>0.1800</td>\n",
       "    </tr>\n",
       "    <tr>\n",
       "      <th>75</th>\n",
       "      <td>0.1104</td>\n",
       "      <td>0.0887</td>\n",
       "      <td>0.1202</td>\n",
       "      <td>0.0769</td>\n",
       "      <td>0.1351</td>\n",
       "    </tr>\n",
       "    <tr>\n",
       "      <th>76</th>\n",
       "      <td>0.2978</td>\n",
       "      <td>0.2882</td>\n",
       "      <td>0.2635</td>\n",
       "      <td>0.2466</td>\n",
       "      <td>0.2929</td>\n",
       "    </tr>\n",
       "  </tbody>\n",
       "</table>\n",
       "</div>"
      ],
      "text/plain": [
       "    1 state  3 states  5 states  7 states  9 states\n",
       "68   0.3118    0.1994    0.1894    0.2895    0.2423\n",
       "69   0.2385    0.2657    0.2794    0.2791    0.2186\n",
       "70   0.3815    0.3837    0.3641    0.3748    0.3464\n",
       "71   0.2838    0.3323    0.3407    0.3170    0.2701\n",
       "72   0.1362    0.1010    0.1722    0.1717    0.2066\n",
       "73   0.1002    0.1208    0.1508    0.1686    0.1097\n",
       "74   0.1762    0.2270    0.1830    0.1761    0.1800\n",
       "75   0.1104    0.0887    0.1202    0.0769    0.1351\n",
       "76   0.2978    0.2882    0.2635    0.2466    0.2929"
      ]
     },
     "execution_count": 9,
     "metadata": {},
     "output_type": "execute_result"
    }
   ],
   "source": [
    "dfr.tail(9)"
   ]
  },
  {
   "cell_type": "code",
   "execution_count": 10,
   "metadata": {
    "collapsed": false
   },
   "outputs": [
    {
     "data": {
      "text/html": [
       "<div>\n",
       "<table border=\"1\" class=\"dataframe\">\n",
       "  <thead>\n",
       "    <tr style=\"text-align: right;\">\n",
       "      <th></th>\n",
       "      <th>1 state</th>\n",
       "      <th>3 states</th>\n",
       "      <th>5 states</th>\n",
       "      <th>7 states</th>\n",
       "      <th>9 states</th>\n",
       "    </tr>\n",
       "  </thead>\n",
       "  <tbody>\n",
       "    <tr>\n",
       "      <th>count</th>\n",
       "      <td>77.0000</td>\n",
       "      <td>77.0000</td>\n",
       "      <td>77.0000</td>\n",
       "      <td>77.0000</td>\n",
       "      <td>77.0000</td>\n",
       "    </tr>\n",
       "    <tr>\n",
       "      <th>mean</th>\n",
       "      <td>0.1701</td>\n",
       "      <td>0.1848</td>\n",
       "      <td>0.1858</td>\n",
       "      <td>0.1885</td>\n",
       "      <td>0.1901</td>\n",
       "    </tr>\n",
       "    <tr>\n",
       "      <th>std</th>\n",
       "      <td>0.1032</td>\n",
       "      <td>0.1410</td>\n",
       "      <td>0.1333</td>\n",
       "      <td>0.1366</td>\n",
       "      <td>0.1374</td>\n",
       "    </tr>\n",
       "  </tbody>\n",
       "</table>\n",
       "</div>"
      ],
      "text/plain": [
       "       1 state  3 states  5 states  7 states  9 states\n",
       "count  77.0000   77.0000   77.0000   77.0000   77.0000\n",
       "mean    0.1701    0.1848    0.1858    0.1885    0.1901\n",
       "std     0.1032    0.1410    0.1333    0.1366    0.1374"
      ]
     },
     "execution_count": 10,
     "metadata": {},
     "output_type": "execute_result"
    }
   ],
   "source": [
    "dfr.describe()[:3]"
   ]
  },
  {
   "cell_type": "code",
   "execution_count": 11,
   "metadata": {
    "collapsed": false
   },
   "outputs": [],
   "source": [
    "d1 = dfr['1 state']\n",
    "d2 = dfr['3 states']\n",
    "d3 = dfr['5 states']\n",
    "d4 = dfr['7 states']\n",
    "d5 = dfr['9 states']\n"
   ]
  },
  {
   "cell_type": "code",
   "execution_count": 12,
   "metadata": {
    "collapsed": false
   },
   "outputs": [],
   "source": [
    "dfr_alone = pd.read_csv('stand_alone_10days_dfr_financials.csv')"
   ]
  },
  {
   "cell_type": "code",
   "execution_count": 13,
   "metadata": {
    "collapsed": false
   },
   "outputs": [
    {
     "data": {
      "text/html": [
       "<div>\n",
       "<table border=\"1\" class=\"dataframe\">\n",
       "  <thead>\n",
       "    <tr style=\"text-align: right;\">\n",
       "      <th></th>\n",
       "      <th>Unnamed: 0</th>\n",
       "      <th>1 state</th>\n",
       "      <th>3 states</th>\n",
       "      <th>5 states</th>\n",
       "      <th>7 states</th>\n",
       "      <th>9 states</th>\n",
       "    </tr>\n",
       "  </thead>\n",
       "  <tbody>\n",
       "    <tr>\n",
       "      <th>count</th>\n",
       "      <td>82.0000</td>\n",
       "      <td>82.0000</td>\n",
       "      <td>82.0000</td>\n",
       "      <td>82.0000</td>\n",
       "      <td>82.0000</td>\n",
       "      <td>82.0000</td>\n",
       "    </tr>\n",
       "    <tr>\n",
       "      <th>mean</th>\n",
       "      <td>40.5000</td>\n",
       "      <td>0.1709</td>\n",
       "      <td>0.1929</td>\n",
       "      <td>0.1992</td>\n",
       "      <td>0.1980</td>\n",
       "      <td>0.2049</td>\n",
       "    </tr>\n",
       "    <tr>\n",
       "      <th>std</th>\n",
       "      <td>23.8153</td>\n",
       "      <td>0.1035</td>\n",
       "      <td>0.1352</td>\n",
       "      <td>0.1381</td>\n",
       "      <td>0.1399</td>\n",
       "      <td>0.1450</td>\n",
       "    </tr>\n",
       "    <tr>\n",
       "      <th>min</th>\n",
       "      <td>0.0000</td>\n",
       "      <td>0.0130</td>\n",
       "      <td>0.0248</td>\n",
       "      <td>0.0259</td>\n",
       "      <td>0.0230</td>\n",
       "      <td>0.0226</td>\n",
       "    </tr>\n",
       "    <tr>\n",
       "      <th>25%</th>\n",
       "      <td>20.2500</td>\n",
       "      <td>0.0965</td>\n",
       "      <td>0.1004</td>\n",
       "      <td>0.1032</td>\n",
       "      <td>0.1049</td>\n",
       "      <td>0.1094</td>\n",
       "    </tr>\n",
       "    <tr>\n",
       "      <th>50%</th>\n",
       "      <td>40.5000</td>\n",
       "      <td>0.1480</td>\n",
       "      <td>0.1576</td>\n",
       "      <td>0.1725</td>\n",
       "      <td>0.1635</td>\n",
       "      <td>0.1759</td>\n",
       "    </tr>\n",
       "    <tr>\n",
       "      <th>75%</th>\n",
       "      <td>60.7500</td>\n",
       "      <td>0.2188</td>\n",
       "      <td>0.2489</td>\n",
       "      <td>0.2501</td>\n",
       "      <td>0.2626</td>\n",
       "      <td>0.2644</td>\n",
       "    </tr>\n",
       "    <tr>\n",
       "      <th>max</th>\n",
       "      <td>81.0000</td>\n",
       "      <td>0.5673</td>\n",
       "      <td>0.6899</td>\n",
       "      <td>0.7120</td>\n",
       "      <td>0.7502</td>\n",
       "      <td>0.6932</td>\n",
       "    </tr>\n",
       "  </tbody>\n",
       "</table>\n",
       "</div>"
      ],
      "text/plain": [
       "       Unnamed: 0  1 state  3 states  5 states  7 states  9 states\n",
       "count     82.0000  82.0000   82.0000   82.0000   82.0000   82.0000\n",
       "mean      40.5000   0.1709    0.1929    0.1992    0.1980    0.2049\n",
       "std       23.8153   0.1035    0.1352    0.1381    0.1399    0.1450\n",
       "min        0.0000   0.0130    0.0248    0.0259    0.0230    0.0226\n",
       "25%       20.2500   0.0965    0.1004    0.1032    0.1049    0.1094\n",
       "50%       40.5000   0.1480    0.1576    0.1725    0.1635    0.1759\n",
       "75%       60.7500   0.2188    0.2489    0.2501    0.2626    0.2644\n",
       "max       81.0000   0.5673    0.6899    0.7120    0.7502    0.6932"
      ]
     },
     "execution_count": 13,
     "metadata": {},
     "output_type": "execute_result"
    }
   ],
   "source": [
    "dfr_alone.describe()"
   ]
  },
  {
   "cell_type": "code",
   "execution_count": 19,
   "metadata": {
    "collapsed": false
   },
   "outputs": [],
   "source": [
    "d1_alone = dfr_alone['1 state'][:n]\n",
    "d2_alone = dfr_alone['3 states'][:n]\n",
    "d3_alone = dfr_alone['5 states'][:n]\n",
    "d4_alone = dfr_alone['7 states'][:n]\n",
    "d5_alone = dfr_alone['9 states'][:n]"
   ]
  },
  {
   "cell_type": "code",
   "execution_count": 20,
   "metadata": {
    "collapsed": false
   },
   "outputs": [
    {
     "data": {
      "image/png": "[encoded data removed]",
      "text/plain": [
       "<matplotlib.figure.Figure at 0xb634c10>"
      ]
     },
     "metadata": {},
     "output_type": "display_data"
    }
   ],
   "source": [
    "import matplotlib.pyplot as plt\n",
    "from matplotlib.patches import Polygon\n",
    "\n",
    "%matplotlib inline\n",
    "plt.figure(figsize=(13, 7))\n",
    "data = [d1,d1_alone,d3,d3_alone,d5,d5_alone]\n",
    "box = plt.boxplot(data, 0, '',widths=0.75, patch_artist=True);\n",
    "plt.xticks([1,2,3,4,5,6], ['1 state + interest rates', '1 state','5 state + interest rates', '5 state',\n",
    "                         '9 state + interest rates', '9 state']);\n",
    "plt.ylabel(\"Gaussian KDE @Real Price\")\n",
    "colors = ['lightgreen', 'lightblue', 'lightgreen', 'lightblue', 'lightgreen', 'lightblue']\n",
    "for patch, color in zip(box['boxes'], colors):\n",
    "    patch.set_facecolor(color)\n",
    "    \n",
    "plt.savefig('boxplot_financials_interestRates.png', bbox_inches='tight')"
   ]
  },
  {
   "cell_type": "code",
   "execution_count": 21,
   "metadata": {
    "collapsed": true
   },
   "outputs": [],
   "source": [
    "#z_stat, p_val = stats.ranksums(d1,d2)"
   ]
  },
  {
   "cell_type": "code",
   "execution_count": 22,
   "metadata": {
    "collapsed": false
   },
   "outputs": [],
   "source": [
    "#print (p_val)"
   ]
  },
  {
   "cell_type": "code",
   "execution_count": 23,
   "metadata": {
    "collapsed": false
   },
   "outputs": [],
   "source": [
    "p_val1 = stats.wilcoxon(d1,d1_alone, zero_method='wilcox', correction=False)[1]\n",
    "p_val2 = stats.wilcoxon(d2,d2_alone, zero_method='wilcox', correction=False)[1]\n",
    "p_val3 = stats.wilcoxon(d3,d3_alone, zero_method='wilcox', correction=False)[1]\n",
    "p_val4 = stats.wilcoxon(d4,d4_alone, zero_method='wilcox', correction=False)[1]\n",
    "p_val5 = stats.wilcoxon(d5,d5_alone, zero_method='wilcox', correction=False)[1]\n"
   ]
  },
  {
   "cell_type": "code",
   "execution_count": 24,
   "metadata": {
    "collapsed": false
   },
   "outputs": [
    {
     "name": "stdout",
     "output_type": "stream",
     "text": [
      "('P-value 1 ', 0.92919661263113529)\n",
      "('P-value 2 ', 0.58169868496381949)\n",
      "('P-value 3 ', 0.26289215585319714)\n",
      "('P-value 4 ', 0.39788851996690022)\n",
      "('P-value 5 ', 0.30625603002793422)\n"
     ]
    }
   ],
   "source": [
    "print(\"P-value 1 \", p_val1) # Used because data is paired ! :D\n",
    "print(\"P-value 2 \", p_val2)\n",
    "print(\"P-value 3 \", p_val3)\n",
    "print(\"P-value 4 \", p_val4)\n",
    "print(\"P-value 5 \", p_val5)\n"
   ]
  },
  {
   "cell_type": "code",
   "execution_count": null,
   "metadata": {
    "collapsed": false
   },
   "outputs": [],
   "source": [
    "filename = \"States_Table_Comparison_\" + days + '_adv.tex'\n",
    "\n",
    "template = r'''\\documentclass[preview]{{standalone}}\n",
    "\\usepackage{{booktabs}}\n",
    "\\begin{{document}}\n",
    "{}\n",
    "\\end{{document}}\n",
    "'''\n",
    "\n",
    "with open(filename, 'wb') as f:\n",
    "    f.write(template.format(dfr.describe()[:3].to_latex()))\n",
    "\n",
    "subprocess.call(['pdflatex', filename])"
   ]
  },
  {
   "cell_type": "code",
   "execution_count": null,
   "metadata": {
    "collapsed": false
   },
   "outputs": [],
   "source": [
    "dfr_pvalues =  pd.DataFrame({       \n",
    "                    '': pd.Categorical([\"1 state vs.\"]),\n",
    "                    '5 states':p_val1,\n",
    "                    '9 states':p_val2,\n",
    "                    \n",
    "                     }, index=['p-value'])\n",
    "#'D':np.array([0] * 2,dtype='int32'),"
   ]
  },
  {
   "cell_type": "code",
   "execution_count": null,
   "metadata": {
    "collapsed": false
   },
   "outputs": [],
   "source": [
    "dfr_pvalues"
   ]
  },
  {
   "cell_type": "code",
   "execution_count": null,
   "metadata": {
    "collapsed": false
   },
   "outputs": [],
   "source": [
    "filename = \"States_Pvalues_Comparison_\" + days + '_adv.tex'\n",
    "\n",
    "template = r'''\\documentclass[preview]{{standalone}}\n",
    "\\usepackage{{booktabs}}\n",
    "\\begin{{document}}\n",
    "{}\n",
    "\\end{{document}}\n",
    "'''\n",
    "\n",
    "with open(filename, 'wb') as f:\n",
    "    f.write(template.format(dfr_pvalues.to_latex()))\n",
    "\n",
    "subprocess.call(['pdflatex', filename])"
   ]
  },
  {
   "cell_type": "code",
   "execution_count": null,
   "metadata": {
    "collapsed": true
   },
   "outputs": [],
   "source": []
  }
 ],
 "metadata": {
  "kernelspec": {
   "display_name": "Python [Root]",
   "language": "python",
   "name": "Python [Root]"
  },
  "language_info": {
   "codemirror_mode": {
    "name": "ipython",
    "version": 2
   },
   "file_extension": ".py",
   "mimetype": "text/x-python",
   "name": "python",
   "nbconvert_exporter": "python",
   "pygments_lexer": "ipython2",
   "version": "2.7.12"
  }
 },
 "nbformat": 4,
 "nbformat_minor": 0
}
