{
 "cells": [
  {
   "cell_type": "code",
   "execution_count": 1,
   "metadata": {
    "collapsed": false
   },
   "outputs": [],
   "source": [
    "from __future__ import print_function\n",
    "import datetime, time\n",
    "from sklearn.externals import joblib\n",
    "import numpy as np\n",
    "import os\n",
    "import warnings\n",
    "from matplotlib.dates import YearLocator, MonthLocator\n",
    "\n",
    "try:\n",
    "    from matplotlib.finance import quotes_historical_yahoo_ochl\n",
    "except ImportError:\n",
    "    # Matplotlib prior to 1.5.\n",
    "    from matplotlib.finance import (\n",
    "        quotes_historical_yahoo as quotes_historical_yahoo_ochl\n",
    "    )\n",
    "\n",
    "from hmmlearn.hmm import GaussianHMM\n",
    "\n",
    "warnings.filterwarnings('ignore') # Get rid of some annoying divide by zero in log warnings"
   ]
  },
  {
   "cell_type": "code",
   "execution_count": 1,
   "metadata": {
    "collapsed": false,
    "scrolled": false
   },
   "outputs": [],
   "source": [
    "def cmodel(company, refcompany, dt1, dt2, num_of_states):\n",
    "    \n",
    "    quotes = quotes_historical_yahoo_ochl(company, dt1, dt2) #Here we set the time range\n",
    "    quotes2 = quotes_historical_yahoo_ochl(refcompany, dt1, dt2) #Here we set the time range\n",
    "\n",
    "    dates = np.array([q[0] for q in quotes], dtype=int)\n",
    "    close_v = np.array([q[2] for q in quotes])\n",
    "    volume = np.array([q[5] for q in quotes])[1:]\n",
    "\n",
    "    # Take diff of close value. Note that this makes\n",
    "    # len(diff) = len(close_t) - 1 therefore, other quantities also need to be shifted by 1\n",
    "    \n",
    "    diff = np.diff(close_v)\n",
    "    dates = dates[1:]\n",
    "    close_v = close_v[1:]\n",
    "    \n",
    "    # Unpack quotes Company2\n",
    "    close_v2 = np.array([q[2] for q in quotes2])\n",
    "    diff2 = np.diff(close_v2)\n",
    "    close_v2 = close_v2[1:]\n",
    "    \n",
    "    delta = diff2.shape[0]-diff.shape[0]\n",
    "    delta = abs(delta)\n",
    "    \n",
    "    diff0=np.pad(diff, (delta,0), mode='constant', constant_values=0)\n",
    "    close_v=np.pad(close_v, (delta,0), mode='constant', constant_values=0)\n",
    "       \n",
    "    X = np.column_stack([diff0,diff2])\n",
    "\n",
    "    # Create HMM instance and fit\n",
    "    model = GaussianHMM(n_components=num_of_states, covariance_type=\"full\", n_iter=1000).fit(X)\n",
    "    fname = str(company)+\"_\"+str(num_of_states)+\"_states_model_adv.pkl\"\n",
    "    joblib.dump(model, os.path.join('./sims3', fname))"
   ]
  },
  {
   "cell_type": "code",
   "execution_count": null,
   "metadata": {
    "collapsed": true
   },
   "outputs": [],
   "source": []
  }
 ],
 "metadata": {
  "kernelspec": {
   "display_name": "Python 2",
   "language": "python",
   "name": "python2"
  },
  "language_info": {
   "codemirror_mode": {
    "name": "ipython",
    "version": 2
   },
   "file_extension": ".py",
   "mimetype": "text/x-python",
   "name": "python",
   "nbconvert_exporter": "python",
   "pygments_lexer": "ipython2",
   "version": "2.7.5"
  }
 },
 "nbformat": 4,
 "nbformat_minor": 0
}
