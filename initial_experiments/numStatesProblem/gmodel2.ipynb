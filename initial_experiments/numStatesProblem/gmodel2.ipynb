{
 "cells": [
  {
   "cell_type": "code",
   "execution_count": 17,
   "metadata": {
    "collapsed": false
   },
   "outputs": [],
   "source": [
    "from __future__ import print_function\n",
    "import datetime, time\n",
    "from sklearn.externals import joblib\n",
    "import numpy as np\n",
    "import os\n",
    "import warnings\n",
    "from matplotlib.dates import YearLocator, MonthLocator\n",
    "\n",
    "try:\n",
    "    from matplotlib.finance import quotes_historical_yahoo_ochl\n",
    "except ImportError:\n",
    "    # Matplotlib prior to 1.5.\n",
    "    from matplotlib.finance import (\n",
    "        quotes_historical_yahoo as quotes_historical_yahoo_ochl\n",
    "    )\n",
    "\n",
    "from hmmlearn.hmm import GaussianHMM\n",
    "\n",
    "warnings.filterwarnings('ignore') # Get rid of some annoying divide by zero in log warnings"
   ]
  },
  {
   "cell_type": "code",
   "execution_count": 18,
   "metadata": {
    "collapsed": false,
    "scrolled": false
   },
   "outputs": [],
   "source": [
    "def cmodel(company, dt1, dt2, num_of_states=5):\n",
    "    \n",
    "    quotes = quotes_historical_yahoo_ochl(company, dt1, dt2) #Here we set the time range\n",
    "\n",
    "    # Unpack quotes\n",
    "    dates = np.array([q[0] for q in quotes], dtype=int)\n",
    "    close_v = np.array([q[2] for q in quotes])\n",
    "    volume = np.array([q[5] for q in quotes])[1:]\n",
    "\n",
    "    # Take diff of close value. Note that this makes\n",
    "    # len(diff) = len(close_t) - 1 therefore, other quantities also need to be shifted by 1\n",
    "    \n",
    "    diff = np.diff(close_v)\n",
    "    dates = dates[1:]\n",
    "    close_v = close_v[1:]\n",
    "    \n",
    "    #print (diff)\n",
    "    # Pack diff and volume for training.\n",
    "    X = np.column_stack([diff])\n",
    "\n",
    "    # Create HMM instance and fit\n",
    "    model = GaussianHMM(n_components=num_of_states, covariance_type=\"full\", n_iter=1000).fit(X)\n",
    "    fname = str(company)+\"_\"+str(num_of_states)+\"_states_model.pkl\"\n",
    "    joblib.dump(model, os.path.join('./sims1', fname))\n",
    "\n",
    "    #joblib.load(\"filename.pkl\")  "
   ]
  },
  {
   "cell_type": "code",
   "execution_count": 19,
   "metadata": {
    "collapsed": false
   },
   "outputs": [
    {
     "data": {
      "text/plain": [
       "'\\n# Predict the optimal sequence of internal hidden state\\nhidden_states = model.predict(X)\\nhidden_probs = model.predict_proba(X)\\n\\nprint (\"\\nMost likely state of last observation:\",hidden_states[-1])\\n#print (\"# of observations\",hidden_states.size)\\nprint (\"\\nProb. distr. of states for last observation: \\n\")\\n#print (hidden_probs.size,hidden_states.size)\\nprint (np.array_str(hidden_probs[-1], precision=3, suppress_small=True))\\n#print (\"# of hidden states\",model.n_components)\\n'"
      ]
     },
     "execution_count": 19,
     "metadata": {},
     "output_type": "execute_result"
    }
   ],
   "source": [
    "'''\n",
    "# Predict the optimal sequence of internal hidden state\n",
    "hidden_states = model.predict(X)\n",
    "hidden_probs = model.predict_proba(X)\n",
    "\n",
    "print (\"\\nMost likely state of last observation:\",hidden_states[-1])\n",
    "#print (\"# of observations\",hidden_states.size)\n",
    "print (\"\\nProb. distr. of states for last observation: \\n\")\n",
    "#print (hidden_probs.size,hidden_states.size)\n",
    "print (np.array_str(hidden_probs[-1], precision=3, suppress_small=True))\n",
    "#print (\"# of hidden states\",model.n_components)\n",
    "'''"
   ]
  },
  {
   "cell_type": "code",
   "execution_count": null,
   "metadata": {
    "collapsed": true
   },
   "outputs": [],
   "source": []
  }
 ],
 "metadata": {
  "kernelspec": {
   "display_name": "Python 2",
   "language": "python",
   "name": "python2"
  },
  "language_info": {
   "codemirror_mode": {
    "name": "ipython",
    "version": 2
   },
   "file_extension": ".py",
   "mimetype": "text/x-python",
   "name": "python",
   "nbconvert_exporter": "python",
   "pygments_lexer": "ipython2",
   "version": "2.7.5"
  }
 },
 "nbformat": 4,
 "nbformat_minor": 0
}
