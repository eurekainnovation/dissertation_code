{
 "cells": [
  {
   "cell_type": "code",
   "execution_count": 52,
   "metadata": {
    "collapsed": false
   },
   "outputs": [],
   "source": [
    "from __future__ import print_function\n",
    "\n",
    "import generate_final\n",
    "\n",
    "import random\n",
    "import datetime, time\n",
    "import numpy as np\n",
    "import pandas as pd\n",
    "import os\n",
    "import multiprocessing as mp"
   ]
  },
  {
   "cell_type": "code",
   "execution_count": 53,
   "metadata": {
    "collapsed": false
   },
   "outputs": [],
   "source": [
    "company = 'KO'\n",
    "tests= 200"
   ]
  },
  {
   "cell_type": "code",
   "execution_count": 54,
   "metadata": {
    "collapsed": true
   },
   "outputs": [],
   "source": [
    "id_files = []"
   ]
  },
  {
   "cell_type": "code",
   "execution_count": 55,
   "metadata": {
    "collapsed": false,
    "scrolled": false
   },
   "outputs": [
    {
     "name": "stdout",
     "output_type": "stream",
     "text": [
      "KO 0\n",
      "(' Company: ', 'KO', 'Delta start days: ', 100)\n",
      "(' Days into future: ', 2.7244401187433041, 'Transition probability:', 0.63295210890475817)\n",
      "Avg. Prediction:  1 states: 37.3706701426  Real Price: 38.646688  Avg Error: -0.2083488722\n",
      "Avg. Prediction:  5 states: 37.3790519663  Real Price: 38.646688  Avg Error: -0.20164451785\n",
      "KO 1\n",
      "(' Company: ', 'KO', 'Delta start days: ', 105)\n",
      "(' Days into future: ', 1.000457270866058, 'Transition probability:', 0.0004570618649832096)\n",
      "Avg. Prediction:  1 states: 38.4057549721  Real Price: 38.646688  Avg Error: -0.0646009878249\n",
      "Avg. Prediction:  5 states: 38.3388725871  Real Price: 38.646688  Avg Error: -0.0232248510032\n",
      "KO 2\n",
      "(' Company: ', 'KO', 'Delta start days: ', 35)\n",
      "(' Days into future: ', 1.2397080203417696, 'Transition probability:', 0.19335844925459589)\n",
      "Avg. Prediction:  1 states: 34.3203452652  Real Price: 34.870226  Avg Error: -0.0633931757436\n",
      "Avg. Prediction:  5 states: 34.6015245965  Real Price: 34.870226  Avg Error: 0.210757357802\n",
      "KO 3\n",
      "(' Company: ', 'KO', 'Delta start days: ', 285)\n",
      "(' Days into future: ', 1.9552452018511428, 'Transition probability:', 0.48855519550527843)\n",
      "Avg. Prediction:  1 states: 34.7272694953  Real Price: 35.6318  Avg Error: -0.223856691464\n",
      "Avg. Prediction:  5 states: 34.7707558604  Real Price: 35.6318  Avg Error: -0.188802859584\n",
      "KO 4\n",
      "(' Company: ', 'KO', 'Delta start days: ', 178)\n",
      "(' Days into future: ', 1.9622159868099289, 'Transition probability:', 0.49037210647450225)\n",
      "Avg. Prediction:  1 states: 36.6258852974  Real Price: 36.934368  Avg Error: -0.201678833536\n",
      "Avg. Prediction:  5 states: 36.6638071996  Real Price: 36.934368  Avg Error: -0.170182542888\n",
      "KO 5\n",
      "(' Company: ', 'KO', 'Delta start days: ', 49)\n",
      "(' Days into future: ', 1.8143360965897044, 'Transition probability:', 0.44883420338732261)\n",
      "Avg. Prediction:  1 states: 33.9144951391  Real Price: 33.925843  Avg Error: -0.192292214825\n",
      "Avg. Prediction:  5 states: 33.6499795638  Real Price: 33.925843  Avg Error: -0.40829707233\n",
      "KO 6\n",
      "(' Company: ', 'KO', 'Delta start days: ', 354)\n",
      "(' Days into future: ', 2.0042897256301897, 'Transition probability:', 0.50107013611239282)\n",
      "Avg. Prediction:  1 states: 37.0825916867  Real Price: 37.62089  Avg Error: -0.289722616667\n",
      "Avg. Prediction:  5 states: 37.1187712349  Real Price: 37.62089  Avg Error: -0.261778734645\n",
      "KO 7\n",
      "(' Company: ', 'KO', 'Delta start days: ', 335)\n",
      "(' Days into future: ', 1.969538727860521, 'Transition probability:', 0.49226690196324074)\n",
      "Avg. Prediction:  1 states: 37.1239125142  Real Price: 37.435838  Avg Error: -0.0460162608965\n",
      "Avg. Prediction:  5 states: 37.1544106807  Real Price: 37.435838  Avg Error: -0.0228759716621\n",
      "KO 8\n",
      "(' Company: ', 'KO', 'Delta start days: ', 267)\n",
      "(' Days into future: ', 1.625329890593094, 'Transition probability:', 0.38474028824075018)\n",
      "Avg. Prediction:  1 states: 35.2590232867  Real Price: 34.869182  Avg Error: 0.0185469111821\n",
      "Avg. Prediction:  5 states: 35.1651027481  Real Price: 34.869182  Avg Error: -0.0823567602532\n",
      "KO 9\n",
      "(' Company: ', 'KO', 'Delta start days: ', 284)\n",
      "(' Days into future: ', 1.9451763255741195, 'Transition probability:', 0.48590778797143253)\n",
      "Avg. Prediction:  1 states: 34.7346981004  Real Price: 35.6318  Avg Error: -0.221458663386\n",
      "Avg. Prediction:  5 states: 34.766547649  Real Price: 35.6318  Avg Error: -0.191524289853\n",
      "KO 10\n",
      "(' Company: ', 'KO', 'Delta start days: ', 328)\n",
      "(' Days into future: ', 1.9244942075466029, 'Transition probability:', 0.48038295148997778)\n",
      "Avg. Prediction:  1 states: 37.1312008047  Real Price: 37.186019  Avg Error: 0.00677810879197\n",
      "Avg. Prediction:  5 states: 37.1683685178  Real Price: 37.186019  Avg Error: 0.0345551770771\n",
      "KO 11\n",
      "(' Company: ', 'KO', 'Delta start days: ', 145)\n",
      "(' Days into future: ', 1.8934434691027422, 'Transition probability:', 0.47186170787878007)\n",
      "Avg. Prediction:  1 states: 38.3110432254  Real Price: 36.227875  Avg Error: 0.990360826146\n",
      "Avg. Prediction:  5 states: 38.3426290843  Real Price: 36.227875  Avg Error: 1.01695285995\n",
      "KO 12\n",
      "(' Company: ', 'KO', 'Delta start days: ', 279)\n",
      "(' Days into future: ', 1.6788671889250513, 'Transition probability:', 0.40436026947415521)\n",
      "Avg. Prediction:  1 states: 34.0686357428  Real Price: 34.703794  Avg Error: -0.210149675461\n",
      "Avg. Prediction:  5 states: 33.9816827966  Real Price: 34.703794  Avg Error: -0.308626572439\n",
      "KO 13\n",
      "(' Company: ', 'KO', 'Delta start days: ', 90)\n",
      "(' Days into future: ', 2.2266304338504672, 'Transition probability:', 0.55089089558938609)\n",
      "Avg. Prediction:  1 states: 36.6955481219  Real Price: 36.880137  Avg Error: 0.079725113556\n",
      "Avg. Prediction:  5 states: 36.7116017129  Real Price: 36.880137  Avg Error: 0.0965926228171\n",
      "KO 14\n",
      "(' Company: ', 'KO', 'Delta start days: ', 345)\n",
      "(' Days into future: ', 2.9073695205138752, 'Transition probability:', 0.65604647330028731)\n",
      "Avg. Prediction:  1 states: 36.3341628861  Real Price: 37.047233  Avg Error: -0.265889772864\n",
      "Avg. Prediction:  5 states: 35.9848657103  Real Price: 37.047233  Avg Error: -0.52477433548\n",
      "KO 15\n",
      "(' Company: ', 'KO', 'Delta start days: ', 279)\n",
      "(' Days into future: ', 1.6666578595534001, 'Transition probability:', 0.39999682942246978)\n",
      "Avg. Prediction:  1 states: 34.0672843498  Real Price: 34.703794  Avg Error: -0.214232636296\n",
      "Avg. Prediction:  5 states: 33.9765099875  Real Price: 34.703794  Avg Error: -0.314602994478\n",
      "KO 16\n",
      "(' Company: ', 'KO', 'Delta start days: ', 354)\n",
      "(' Days into future: ', 2.0358017910404178, 'Transition probability:', 0.5087930443911538)\n",
      "Avg. Prediction:  1 states: 37.0833415718  Real Price: 37.62089  Avg Error: -0.289120347941\n",
      "Avg. Prediction:  5 states: 37.1092940756  Real Price: 37.62089  Avg Error: -0.267649873459\n",
      "KO 17\n",
      "(' Company: ', 'KO', 'Delta start days: ', 76)\n",
      "(' Days into future: ', 2.2261604686531227, 'Transition probability:', 0.55079608407338998)\n",
      "Avg. Prediction:  1 states: 35.1561571629  Real Price: 36.862018  Avg Error: -0.746804872111\n",
      "Avg. Prediction:  5 states: 35.1836717985  Real Price: 36.862018  Avg Error: -0.729148063309\n",
      "KO 18\n",
      "(' Company: ', 'KO', 'Delta start days: ', 106)\n",
      "(' Days into future: ', 1.1388761756110399, 'Transition probability:', 0.121941417851268)\n",
      "Avg. Prediction:  1 states: 38.5748290037  Real Price: 38.646688  Avg Error: 0.22542278991\n",
      "Avg. Prediction:  5 states: 38.4740703702  Real Price: 38.646688  Avg Error: 0.0668930424609\n",
      "KO 19\n",
      "(' Company: ', 'KO', 'Delta start days: ', 174)\n",
      "(' Days into future: ', 2.3606960478725116, 'Transition probability:', 0.5763961222787608)\n",
      "Avg. Prediction:  1 states: 36.106262084  Real Price: 36.824903  Avg Error: -0.392190012947\n",
      "Avg. Prediction:  5 states: 35.8192994275  Real Price: 36.824903  Avg Error: -0.61694009123\n",
      "KO 20\n",
      "(' Company: ', 'KO', 'Delta start days: ', 116)\n",
      "(' Days into future: ', 1.7306615147996292, 'Transition probability:', 0.42218626146790061)\n",
      "Avg. Prediction:  1 states: 38.1757683683  Real Price: 38.266202  Avg Error: -0.0552870962345\n",
      "Avg. Prediction:  5 states: 38.0784602062  Real Price: 38.266202  Avg Error: -0.160651432168\n",
      "KO 21\n",
      "(' Company: ', 'KO', 'Delta start days: ', 220)\n",
      "(' Days into future: ', 2.0681927654057408, 'Transition probability:', 0.51648607580163419)\n",
      "Avg. Prediction:  1 states: 36.6698351603  Real Price: 35.657308  Avg Error: 0.35732835369\n",
      "Avg. Prediction:  5 states: 36.7007155258  Real Price: 35.657308  Avg Error: 0.381715164146\n",
      "KO 22\n",
      "(' Company: ', 'KO', 'Delta start days: ', 313)\n",
      "(' Days into future: ', 1.9162928909151269, 'Transition probability:', 0.47815910357917712)\n",
      "Avg. Prediction:  1 states: 36.8362893928  Real Price: 36.954902  Avg Error: 0.0526948572102\n",
      "Avg. Prediction:  5 states: 36.8654741111  Real Price: 36.954902  Avg Error: 0.0766513765406\n",
      "KO 23\n",
      "(' Company: ', 'KO', 'Delta start days: ', 102)\n",
      "(' Days into future: ', 2.797621507584187, 'Transition probability:', 0.64255350579445469)\n",
      "Avg. Prediction:  1 states: 37.2654553288  Real Price: 38.646688  Avg Error: -0.761618285027\n",
      "Avg. Prediction:  5 states: 37.2832431299  Real Price: 38.646688  Avg Error: -0.751058822627\n",
      "KO 24\n",
      "(' Company: ', 'KO', 'Delta start days: ', 268)\n",
      "(' Days into future: ', 1.1129124102534591, 'Transition probability:', 0.10145669076306196)\n",
      "Avg. Prediction:  1 states: 35.6147240014  Real Price: 34.804865  Avg Error: 0.171636455185\n",
      "Avg. Prediction:  5 states: 35.9546161274  Real Price: 34.804865  Avg Error: 0.523027665289\n",
      "KO 25\n",
      "(' Company: ', 'KO', 'Delta start days: ', 121)\n",
      "(' Days into future: ', 1.7198166295914903, 'Transition probability:', 0.41854266158739784)\n",
      "Avg. Prediction:  1 states: 38.0538868443  Real Price: 38.465503  Avg Error: -0.230960250594\n",
      "Avg. Prediction:  5 states: 37.945384508  Real Price: 38.465503  Avg Error: -0.346118920926\n",
      "KO 26\n",
      "(' Company: ', 'KO', 'Delta start days: ', 335)\n",
      "(' Days into future: ', 1.981048382904278, 'Transition probability:', 0.49521677076156551)\n",
      "Avg. Prediction:  1 states: 37.1150088667  Real Price: 37.435838  Avg Error: -0.0532198285089\n",
      "Avg. Prediction:  5 states: 37.1474398182  Real Price: 37.435838  Avg Error: -0.0257211678481\n",
      "KO 27\n",
      "(' Company: ', 'KO', 'Delta start days: ', 340)\n",
      "(' Days into future: ', 1.1201973855889955, 'Transition probability:', 0.10730018399908714)\n"
     ]
    },
    {
     "ename": "KeyboardInterrupt",
     "evalue": "",
     "output_type": "error",
     "traceback": [
      "\u001b[1;31m---------------------------------------------------------------------------\u001b[0m",
      "\u001b[1;31mKeyboardInterrupt\u001b[0m                         Traceback (most recent call last)",
      "\u001b[1;32m<ipython-input-55-84466d74f469>\u001b[0m in \u001b[0;36m<module>\u001b[1;34m()\u001b[0m\n\u001b[0;32m      7\u001b[0m     \u001b[0mid_files\u001b[0m\u001b[1;33m.\u001b[0m\u001b[0mappend\u001b[0m\u001b[1;33m(\u001b[0m\u001b[0mid_file\u001b[0m\u001b[1;33m)\u001b[0m\u001b[1;33m\u001b[0m\u001b[0m\n\u001b[0;32m      8\u001b[0m \u001b[1;33m\u001b[0m\u001b[0m\n\u001b[1;32m----> 9\u001b[1;33m     \u001b[0mgenerate_final\u001b[0m\u001b[1;33m.\u001b[0m\u001b[0mcreate\u001b[0m\u001b[1;33m(\u001b[0m\u001b[0mcompany\u001b[0m\u001b[1;33m,\u001b[0m \u001b[0mdelta_st\u001b[0m\u001b[1;33m,\u001b[0m \u001b[0mid_file\u001b[0m\u001b[1;33m)\u001b[0m\u001b[1;33m\u001b[0m\u001b[0m\n\u001b[0m\u001b[0;32m     10\u001b[0m     \u001b[1;31m#pool.apply_async(generate_final.create, args=(company, delta_st, id_file))\u001b[0m\u001b[1;33m\u001b[0m\u001b[1;33m\u001b[0m\u001b[0m\n\u001b[0;32m     11\u001b[0m \u001b[1;33m\u001b[0m\u001b[0m\n",
      "\u001b[1;32mC:\\Users\\Sergio\\Dropbox\\Dissertation_BackUp\\finalVersion_OneCompany\\generate_final.py\u001b[0m in \u001b[0;36mcreate\u001b[1;34m(company, delta_start, id_file)\u001b[0m\n\u001b[0;32m     64\u001b[0m \u001b[1;33m\u001b[0m\u001b[0m\n\u001b[0;32m     65\u001b[0m     np.array(makepredictions_final.predictions_mls(filename1, company, date1, \n\u001b[1;32m---> 66\u001b[1;33m                                                        date2, 1, num_tests, days_into_future, tr_prob, id_file))\n\u001b[0m\u001b[0;32m     67\u001b[0m \u001b[1;33m\u001b[0m\u001b[0m\n\u001b[0;32m     68\u001b[0m     np.array(makepredictions_final.predictions_mls(filename5, company, date1, \n",
      "\u001b[1;32mC:\\Users\\Sergio\\Dropbox\\Dissertation_BackUp\\finalVersion_OneCompany\\makepredictions_final.pyc\u001b[0m in \u001b[0;36mpredictions_mls\u001b[1;34m(filename, company, dt1, dt2, num_of_states, test_num, days_future, tr_prob, id_file)\u001b[0m\n\u001b[0;32m     89\u001b[0m \u001b[1;33m\u001b[0m\u001b[0m\n\u001b[0;32m     90\u001b[0m         \u001b[0mrseed\u001b[0m \u001b[1;33m=\u001b[0m \u001b[0mrandom\u001b[0m\u001b[1;33m.\u001b[0m\u001b[0mrandrange\u001b[0m\u001b[1;33m(\u001b[0m\u001b[1;36m0\u001b[0m\u001b[1;33m,\u001b[0m\u001b[0mmax_int_value\u001b[0m\u001b[1;33m)\u001b[0m\u001b[1;33m\u001b[0m\u001b[0m\n\u001b[1;32m---> 91\u001b[1;33m         \u001b[0mX\u001b[0m\u001b[1;33m,\u001b[0m \u001b[0mZ\u001b[0m \u001b[1;33m=\u001b[0m \u001b[0mmodel_2_sample\u001b[0m\u001b[1;33m.\u001b[0m\u001b[0msample\u001b[0m\u001b[1;33m(\u001b[0m\u001b[0mdays\u001b[0m\u001b[1;33m,\u001b[0m \u001b[0mrandom_state\u001b[0m\u001b[1;33m=\u001b[0m\u001b[0mrseed\u001b[0m\u001b[1;33m)\u001b[0m\u001b[1;33m\u001b[0m\u001b[0m\n\u001b[0m\u001b[0;32m     92\u001b[0m \u001b[1;33m\u001b[0m\u001b[0m\n\u001b[0;32m     93\u001b[0m \u001b[1;33m\u001b[0m\u001b[0m\n",
      "\u001b[1;32mC:\\Users\\Sergio\\AppData\\Roaming\\Python\\Python27\\site-packages\\hmmlearn\\base.pyc\u001b[0m in \u001b[0;36msample\u001b[1;34m(self, n_samples, random_state)\u001b[0m\n\u001b[0;32m    382\u001b[0m         \u001b[0mtransmat_cdf\u001b[0m \u001b[1;33m=\u001b[0m \u001b[0mnp\u001b[0m\u001b[1;33m.\u001b[0m\u001b[0mcumsum\u001b[0m\u001b[1;33m(\u001b[0m\u001b[0mself\u001b[0m\u001b[1;33m.\u001b[0m\u001b[0mtransmat_\u001b[0m\u001b[1;33m,\u001b[0m \u001b[0maxis\u001b[0m\u001b[1;33m=\u001b[0m\u001b[1;36m1\u001b[0m\u001b[1;33m)\u001b[0m\u001b[1;33m\u001b[0m\u001b[0m\n\u001b[0;32m    383\u001b[0m \u001b[1;33m\u001b[0m\u001b[0m\n\u001b[1;32m--> 384\u001b[1;33m         \u001b[0mcurrstate\u001b[0m \u001b[1;33m=\u001b[0m \u001b[1;33m(\u001b[0m\u001b[0mstartprob_cdf\u001b[0m \u001b[1;33m>\u001b[0m \u001b[0mrandom_state\u001b[0m\u001b[1;33m.\u001b[0m\u001b[0mrand\u001b[0m\u001b[1;33m(\u001b[0m\u001b[1;33m)\u001b[0m\u001b[1;33m)\u001b[0m\u001b[1;33m.\u001b[0m\u001b[0margmax\u001b[0m\u001b[1;33m(\u001b[0m\u001b[1;33m)\u001b[0m\u001b[1;33m\u001b[0m\u001b[0m\n\u001b[0m\u001b[0;32m    385\u001b[0m         \u001b[0mstate_sequence\u001b[0m \u001b[1;33m=\u001b[0m \u001b[1;33m[\u001b[0m\u001b[0mcurrstate\u001b[0m\u001b[1;33m]\u001b[0m\u001b[1;33m\u001b[0m\u001b[0m\n\u001b[0;32m    386\u001b[0m         X = [self._generate_sample_from_state(\n",
      "\u001b[1;31mKeyboardInterrupt\u001b[0m: "
     ]
    }
   ],
   "source": [
    "#pool = mp.Pool()\n",
    "\n",
    "for i in xrange(tests):\n",
    "    print (company, i) \n",
    "    delta_st = random.randint(30,365) # random start delta jump, from 30 days to a year\n",
    "    id_file = random.randint(1000000,9000000)\n",
    "    id_files.append(id_file)\n",
    "    \n",
    "    generate_final.create(company, delta_st, id_file)\n",
    "    #pool.apply_async(generate_final.create, args=(company, delta_st, id_file))\n",
    "\n",
    "#pool.close()\n",
    "#pool.join()\n"
   ]
  },
  {
   "cell_type": "code",
   "execution_count": null,
   "metadata": {
    "collapsed": false
   },
   "outputs": [],
   "source": [
    "print (\"ID Files\",id_files)\n",
    "fname = \"Prediction_IDs_\"+str(company)+\".csv\"\n",
    "fname = os.path.join('./sims_final', fname)\n",
    "np.savetxt(fname, id_files, delimiter=\",\")"
   ]
  },
  {
   "cell_type": "code",
   "execution_count": null,
   "metadata": {
    "collapsed": true
   },
   "outputs": [],
   "source": []
  }
 ],
 "metadata": {
  "kernelspec": {
   "display_name": "Python [Root]",
   "language": "python",
   "name": "Python [Root]"
  },
  "language_info": {
   "codemirror_mode": {
    "name": "ipython",
    "version": 2
   },
   "file_extension": ".py",
   "mimetype": "text/x-python",
   "name": "python",
   "nbconvert_exporter": "python",
   "pygments_lexer": "ipython2",
   "version": "2.7.12"
  }
 },
 "nbformat": 4,
 "nbformat_minor": 0
}
