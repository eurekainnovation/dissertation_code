{
 "cells": [
  {
   "cell_type": "code",
   "execution_count": 1,
   "metadata": {
    "collapsed": false
   },
   "outputs": [],
   "source": [
    "import datetime, time\n",
    "import numpy as np\n",
    "import pandas as pd\n",
    "from scipy import stats\n",
    "import os\n",
    "import subprocess"
   ]
  },
  {
   "cell_type": "code",
   "execution_count": 2,
   "metadata": {
    "collapsed": false
   },
   "outputs": [],
   "source": [
    "\n",
    "#days = '10days'\n",
    "#days = '90days'\n",
    "days = 'year'\n",
    "\n",
    "sp = np.genfromtxt(os.path.join('./sims3', 'constituents.csv'), delimiter=',', dtype=None)\n"
   ]
  },
  {
   "cell_type": "code",
   "execution_count": 3,
   "metadata": {
    "collapsed": false
   },
   "outputs": [],
   "source": [
    "tickers = sp[:,0]\n",
    "names = sp[:,1]\n",
    "industries = sp[:,2]\n",
    "\n",
    "samples = tickers.size\n",
    "states = []\n",
    "for i in range(0,10):\n",
    "    states.append(np.zeros(samples))"
   ]
  },
  {
   "cell_type": "code",
   "execution_count": 4,
   "metadata": {
    "collapsed": true
   },
   "outputs": [],
   "source": [
    "\n",
    "ticker_sub = tickers[:samples]\n",
    "names_sub = names[:samples]\n",
    "industry_sub = industries[:samples]\n",
    "\n",
    "companies_sub = np.vstack((ticker_sub,industry_sub))"
   ]
  },
  {
   "cell_type": "code",
   "execution_count": 5,
   "metadata": {
    "collapsed": false,
    "scrolled": false
   },
   "outputs": [],
   "source": [
    "#names"
   ]
  },
  {
   "cell_type": "code",
   "execution_count": 6,
   "metadata": {
    "collapsed": false
   },
   "outputs": [
    {
     "name": "stdout",
     "output_type": "stream",
     "text": [
      "82\n",
      "422\n",
      "[['MMM' '3M Company' 'Industrials']\n",
      " ['ABT' 'Abbott Laboratories' 'Health Care']\n",
      " ['ACN' 'Accenture plc' 'Information Technology']\n",
      " ..., \n",
      " ['YUM' 'Yum! Brands Inc' 'Consumer Discretionary']\n",
      " ['ZBH' 'Zimmer Biomet Holdings' 'Health Care']\n",
      " ['ZION' 'Zions Bancorp' 'Financials']]\n"
     ]
    }
   ],
   "source": [
    "n=0\n",
    "e=0\n",
    "error_companies = []\n",
    "final_companies = []\n",
    "final_companies_name = []\n",
    "final_companies_ind = []\n",
    "pd.options.display.float_format = '{:,.4f}'.format\n",
    "\n",
    "for j in xrange(tickers.size):\n",
    "    try:\n",
    "        t = tickers[j]\n",
    "        name = names[j]\n",
    "        i = industries[j]\n",
    "        fname = t +\"_\"+ i + \"_\" + str(days) + \"_kdes_adv.csv\"\n",
    "        dfrtmp = pd.read_csv(os.path.join('./sims3', fname))\n",
    "        for s in range(0,9):\n",
    "            states[s][n] = dfrtmp.at[s,'D']\n",
    "        n=n+1\n",
    "        final_companies.append(t)\n",
    "        final_companies_name.append(name)\n",
    "        final_companies_ind.append(i)\n",
    "    except:\n",
    "        e = e+1\n",
    "        #print (t,i)\n",
    "        error_companies.append(t)\n",
    "    \n",
    "print (e)\n",
    "print (n)\n",
    "ec = np.array((error_companies))\n",
    "fc1 = np.array((final_companies))\n",
    "fc2 = np.array((final_companies_name))\n",
    "fc3 = np.array((final_companies_ind))\n",
    "fc = np.vstack((fc1,fc2,fc3))\n",
    "fc=fc.T\n",
    "print fc\n",
    "\n",
    "np.savetxt('sp_list.csv',fc,delimiter=',',fmt=\"%s\")"
   ]
  },
  {
   "cell_type": "code",
   "execution_count": null,
   "metadata": {
    "collapsed": true
   },
   "outputs": [],
   "source": [
    "for s in range(10):\n",
    "    fname = company+\"_\"+str(s+1)+\"_states_model_adv.pkl\"\n",
    "    filename.append(os.path.join('./sims3', fname))"
   ]
  },
  {
   "cell_type": "code",
   "execution_count": null,
   "metadata": {
    "collapsed": false
   },
   "outputs": [],
   "source": [
    "dfr = pd.DataFrame({  #\"MLS\", \"Rand\",\"Vtr\",\"Psd\",\"Lls\",\"Mlns\n",
    "                    '1 state' : states[0],\n",
    "                    '3 states' : states[2],\n",
    "                    '5 states' : states[4],\n",
    "                    '7 states' : states[6],\n",
    "                    '9 states' : states[8],\n",
    "                    #'6 states' : states[5], \n",
    "                    #'7 states' : states[6],\n",
    "                    #'8 states' : states[7],\n",
    "                    #'9 states' : states[8], \n",
    "                     })"
   ]
  },
  {
   "cell_type": "code",
   "execution_count": null,
   "metadata": {
    "collapsed": false
   },
   "outputs": [],
   "source": [
    "dfr.tail(3)"
   ]
  },
  {
   "cell_type": "code",
   "execution_count": null,
   "metadata": {
    "collapsed": false
   },
   "outputs": [],
   "source": [
    "dfr.describe()[:3]"
   ]
  },
  {
   "cell_type": "code",
   "execution_count": null,
   "metadata": {
    "collapsed": false
   },
   "outputs": [],
   "source": [
    "d1 = dfr['1 state']\n",
    "d2 = dfr['3 states']\n",
    "d3 = dfr['5 states']\n",
    "d4 = dfr['7 states']\n",
    "d5 = dfr['9 states']\n"
   ]
  },
  {
   "cell_type": "code",
   "execution_count": null,
   "metadata": {
    "collapsed": false
   },
   "outputs": [],
   "source": []
  },
  {
   "cell_type": "code",
   "execution_count": null,
   "metadata": {
    "collapsed": false
   },
   "outputs": [],
   "source": []
  },
  {
   "cell_type": "code",
   "execution_count": null,
   "metadata": {
    "collapsed": false
   },
   "outputs": [],
   "source": []
  },
  {
   "cell_type": "code",
   "execution_count": null,
   "metadata": {
    "collapsed": false
   },
   "outputs": [],
   "source": [
    "import matplotlib.pyplot as plt\n",
    "from matplotlib.patches import Polygon\n",
    "\n",
    "%matplotlib inline\n",
    "plt.figure(figsize=(13, 7))\n",
    "data = [d1,d1_alone,d3,d3_alone,d5,d5_alone]\n",
    "box = plt.boxplot(data, 0, '',widths=0.75, patch_artist=True);\n",
    "plt.xticks([1,2,3,4,5,6], ['1 state + Market', '1 state','5 state + Market', '5 state',\n",
    "                         '9 state + Market', '9 state']);\n",
    "\n",
    "colors = ['lightgreen', 'lightblue', 'lightgreen', 'lightblue', 'lightgreen', 'lightblue']\n",
    "for patch, color in zip(box['boxes'], colors):\n",
    "    patch.set_facecolor(color)\n",
    "    \n",
    "plt.savefig('boxplot_states_plus_market.png', bbox_inches='tight')"
   ]
  },
  {
   "cell_type": "code",
   "execution_count": null,
   "metadata": {
    "collapsed": true
   },
   "outputs": [],
   "source": [
    "#z_stat, p_val = stats.ranksums(d1,d2)"
   ]
  },
  {
   "cell_type": "code",
   "execution_count": null,
   "metadata": {
    "collapsed": false
   },
   "outputs": [],
   "source": [
    "#print (p_val)"
   ]
  },
  {
   "cell_type": "code",
   "execution_count": null,
   "metadata": {
    "collapsed": false
   },
   "outputs": [],
   "source": [
    "p_val1 = stats.wilcoxon(d1,d1_alone, zero_method='wilcox', correction=False)[1]\n",
    "p_val2 = stats.wilcoxon(d2,d2_alone, zero_method='wilcox', correction=False)[1]\n",
    "p_val3 = stats.wilcoxon(d3,d3_alone, zero_method='wilcox', correction=False)[1]\n",
    "p_val4 = stats.wilcoxon(d4,d4_alone, zero_method='wilcox', correction=False)[1]\n",
    "p_val5 = stats.wilcoxon(d5,d5_alone, zero_method='wilcox', correction=False)[1]\n"
   ]
  },
  {
   "cell_type": "code",
   "execution_count": null,
   "metadata": {
    "collapsed": false
   },
   "outputs": [],
   "source": [
    "print(\"P-value 1 \", p_val1) # Used because data is paired ! :D\n",
    "print(\"P-value 2 \", p_val2)\n",
    "print(\"P-value 3 \", p_val3)\n",
    "print(\"P-value 4 \", p_val4)\n",
    "print(\"P-value 5 \", p_val5)\n"
   ]
  },
  {
   "cell_type": "code",
   "execution_count": null,
   "metadata": {
    "collapsed": false
   },
   "outputs": [],
   "source": [
    "filename = \"States_Table_Comparison_\" + days + '_adv.tex'\n",
    "\n",
    "template = r'''\\documentclass[preview]{{standalone}}\n",
    "\\usepackage{{booktabs}}\n",
    "\\begin{{document}}\n",
    "{}\n",
    "\\end{{document}}\n",
    "'''\n",
    "\n",
    "with open(filename, 'wb') as f:\n",
    "    f.write(template.format(dfr.describe()[:3].to_latex()))\n",
    "\n",
    "subprocess.call(['pdflatex', filename])"
   ]
  },
  {
   "cell_type": "code",
   "execution_count": null,
   "metadata": {
    "collapsed": false
   },
   "outputs": [],
   "source": [
    "dfr_pvalues =  pd.DataFrame({       \n",
    "                    '': pd.Categorical([\"1 state vs.\"]),\n",
    "                    '5 states':p_val1,\n",
    "                    '9 states':p_val2,\n",
    "                    \n",
    "                     }, index=['p-value'])\n",
    "#'D':np.array([0] * 2,dtype='int32'),"
   ]
  },
  {
   "cell_type": "code",
   "execution_count": null,
   "metadata": {
    "collapsed": false
   },
   "outputs": [],
   "source": [
    "dfr_pvalues"
   ]
  },
  {
   "cell_type": "code",
   "execution_count": null,
   "metadata": {
    "collapsed": false
   },
   "outputs": [],
   "source": [
    "filename = \"States_Pvalues_Comparison_\" + days + '_adv.tex'\n",
    "\n",
    "template = r'''\\documentclass[preview]{{standalone}}\n",
    "\\usepackage{{booktabs}}\n",
    "\\begin{{document}}\n",
    "{}\n",
    "\\end{{document}}\n",
    "'''\n",
    "\n",
    "with open(filename, 'wb') as f:\n",
    "    f.write(template.format(dfr_pvalues.to_latex()))\n",
    "\n",
    "subprocess.call(['pdflatex', filename])"
   ]
  },
  {
   "cell_type": "code",
   "execution_count": null,
   "metadata": {
    "collapsed": true
   },
   "outputs": [],
   "source": []
  }
 ],
 "metadata": {
  "kernelspec": {
   "display_name": "Python [Root]",
   "language": "python",
   "name": "Python [Root]"
  },
  "language_info": {
   "codemirror_mode": {
    "name": "ipython",
    "version": 2
   },
   "file_extension": ".py",
   "mimetype": "text/x-python",
   "name": "python",
   "nbconvert_exporter": "python",
   "pygments_lexer": "ipython2",
   "version": "2.7.12"
  }
 },
 "nbformat": 4,
 "nbformat_minor": 0
}
