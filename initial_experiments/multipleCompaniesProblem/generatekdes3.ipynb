{
 "cells": [
  {
   "cell_type": "code",
   "execution_count": 22,
   "metadata": {
    "collapsed": false
   },
   "outputs": [],
   "source": [
    "import gmodel3\n",
    "import makepredictions3\n",
    "import datetime, time\n",
    "import numpy as np\n",
    "import pandas as pd\n",
    "import os\n",
    "from scipy.stats.kde import gaussian_kde\n",
    "import scipy.stats as stats\n"
   ]
  },
  {
   "cell_type": "code",
   "execution_count": 23,
   "metadata": {
    "collapsed": false
   },
   "outputs": [],
   "source": [
    "def create(company, reference, industry):\n",
    "\n",
    "    ########################################\n",
    "    num_tests = 2000 \n",
    "    print (num_tests)\n",
    "    \n",
    "    date1 = datetime.date(2005, 1, 1)\n",
    "    date2 = datetime.date(2015, 1, 1)\n",
    "\n",
    "    for num_states in range(1,10):\n",
    "        gmodel3.cmodel(company,reference, date1,date2,num_states)\n",
    "\n",
    "    d1 = datetime.date(2015, 1, 1)\n",
    "    d2 = datetime.date(2015, 7, 1)\n",
    "    \n",
    "    filename = []\n",
    "    \n",
    "    for s in range(10):\n",
    "        fname = company+\"_\"+str(s+1)+\"_states_model_adv.pkl\"\n",
    "        filename.append(os.path.join('./sims3', fname))\n",
    "\n",
    "    results1 = np.array(makepredictions3.predictions_mls(filename[0], company, reference, d1, \n",
    "                                                       d2, 1, num_tests))\n",
    "\n",
    "    results2 = np.array(makepredictions3.predictions_mls(filename[1], company, reference, d1, \n",
    "                                                        d2, 2, num_tests))\n",
    "\n",
    "    results3 = np.array(makepredictions3.predictions_mls(filename[2], company, reference, d1, \n",
    "                                                       d2, 3, num_tests))\n",
    "\n",
    "    results4 = np.array(makepredictions3.predictions_mls(filename[3], company, reference, d1, \n",
    "                                                       d2, 4, num_tests))\n",
    "    \n",
    "    results5 = np.array(makepredictions3.predictions_mls(filename[4], company, reference, d1, \n",
    "                                                       d2, 5, num_tests))\n",
    "    \n",
    "    results6 = np.array(makepredictions3.predictions_mls(filename[5], company, reference, d1, \n",
    "                                                       d2, 6, num_tests))\n",
    "    \n",
    "    results7 = np.array(makepredictions3.predictions_mls(filename[6], company, reference, d1, \n",
    "                                                       d2, 7, num_tests))\n",
    "\n",
    "    results8 = np.array(makepredictions3.predictions_mls(filename[7], company, reference, d1, \n",
    "                                                       d2, 8, num_tests))\n",
    "    \n",
    "    results9 = np.array(makepredictions3.predictions_mls(filename[8], company, reference, d1, \n",
    "                                                       d2, 9, num_tests))\n",
    "    \n",
    "    pd.options.display.float_format = '{:,.6f}'.format\n",
    "    \n",
    "    days = [365,90,10]\n",
    "    names = ['year','90days','10days']\n",
    "    \n",
    "    \n",
    "    for i in range(0,3):\n",
    "        \n",
    "        real = makepredictions3.getrealprice(company, d2, days[i])\n",
    "        \n",
    "        avg_predict = np.array((np.average(results1[i]),np.average(results2[i]),np.average(results3[i]),\n",
    "                               np.average(results4[i]),np.average(results5[i]),np.average(results6[i]),\n",
    "                               np.average(results7[i]),np.average(results8[i]),np.average(results9[i])))\n",
    "\n",
    "        df1_pdf = gaussian_kde(results1[i])\n",
    "        df2_pdf = gaussian_kde(results2[i])\n",
    "        df3_pdf = gaussian_kde(results3[i])\n",
    "        df4_pdf = gaussian_kde(results4[i])\n",
    "        df5_pdf = gaussian_kde(results5[i])\n",
    "        df6_pdf = gaussian_kde(results6[i])\n",
    "        df7_pdf = gaussian_kde(results7[i])\n",
    "        df8_pdf = gaussian_kde(results8[i])\n",
    "        df9_pdf = gaussian_kde(results9[i])\n",
    "\n",
    "        kdes = np.array([df1_pdf(real)[0], df2_pdf(real)[0], df3_pdf(real)[0], \n",
    "                         df4_pdf(real)[0], df5_pdf(real)[0], df6_pdf(real)[0],\n",
    "                         df7_pdf(real)[0], df8_pdf(real)[0], df9_pdf(real)[0]])\n",
    "\n",
    "        rank = stats.rankdata(-1*kdes)\n",
    "\n",
    "        dfkde = pd.DataFrame({ \n",
    "                            'A' : company,\n",
    "                            'B' : pd.Categorical([\"1 state\", \"2 states\",\"3 states\",\"4 states\",\"5 states\",\n",
    "                                                  \"6 states\",\"7 states\",\"8 states\",\"9 states\"]),\n",
    "                            'C' : days[i],\n",
    "                            'D' : kdes,\n",
    "                            'E' : rank,\n",
    "                            'F' : real,\n",
    "                            'G' : avg_predict,\n",
    "                            'H' : avg_predict - real,\n",
    "                             })\n",
    "\n",
    "        fname = str(company) +\"_\"+ str(industry) + \"_\" + names[i] + \"_kdes_\" + str(reference) + \"_adv.csv\"\n",
    "        dfkde.to_csv(os.path.join('./sims3', fname))\n",
    "\n",
    "        '''\n",
    "        import matplotlib.pyplot as plt\n",
    "        x = np.linspace(real/2.0,real*1.5,500)\n",
    "        print (\"Real price:\",i,\" \",real)\n",
    "        plt.plot(x,df1_pdf(x),'r', label='1-state')\n",
    "        plt.plot(x,df3_pdf(x),'c', label='3-state') # distribution function\n",
    "        plt.plot(x,df5_pdf(x),'y', label='5-state') # distribution function\n",
    "        plt.plot(x,df7_pdf(x),'b', label='7-state') # distribution function\n",
    "        plt.plot(x,df9_pdf(x),'k', label='9-state') # distribution function\n",
    "        plt.plot((real, real), (0, df6_pdf(real)+.05), 'g--')\n",
    "        #hist(samp,normed=1,alpha=.3) # histogram\n",
    "        plt.legend(loc='best', shadow=True)\n",
    "        plt.show()\n",
    "        '''"
   ]
  },
  {
   "cell_type": "code",
   "execution_count": 25,
   "metadata": {
    "collapsed": false
   },
   "outputs": [
    {
     "name": "stdout",
     "output_type": "stream",
     "text": [
      "2000\n",
      "260 2016-07-28 17:01:11\n",
      "Avg. Prediction:  58.5820871137\n",
      "260 2016-07-28 17:01:48\n",
      "Avg. Prediction:  58.4310456151\n",
      "260 2016-07-28 17:02:24\n",
      "Avg. Prediction:  58.4673454215\n",
      "260 2016-07-28 17:03:02\n",
      "Avg. Prediction:  59.3520519828\n",
      "260 2016-07-28 17:03:37\n",
      "Avg. Prediction:  60.0220212184\n",
      "260 2016-07-28 17:04:12\n",
      "Avg. Prediction:  59.5677296545\n",
      "260 2016-07-28 17:04:47\n",
      "Avg. Prediction:  58.9372760848\n",
      "260 2016-07-28 17:05:22\n",
      "Avg. Prediction:  60.2889535599\n",
      "260 2016-07-28 17:05:59\n",
      "Avg. Prediction:  59.0176248185\n"
     ]
    }
   ],
   "source": [
    "#create('WFC','XLF','technology')"
   ]
  },
  {
   "cell_type": "code",
   "execution_count": null,
   "metadata": {
    "collapsed": false
   },
   "outputs": [],
   "source": []
  },
  {
   "cell_type": "code",
   "execution_count": null,
   "metadata": {
    "collapsed": false
   },
   "outputs": [],
   "source": []
  },
  {
   "cell_type": "code",
   "execution_count": null,
   "metadata": {
    "collapsed": true
   },
   "outputs": [],
   "source": []
  }
 ],
 "metadata": {
  "kernelspec": {
   "display_name": "Python 2",
   "language": "python",
   "name": "python2"
  },
  "language_info": {
   "codemirror_mode": {
    "name": "ipython",
    "version": 2
   },
   "file_extension": ".py",
   "mimetype": "text/x-python",
   "name": "python",
   "nbconvert_exporter": "python",
   "pygments_lexer": "ipython2",
   "version": "2.7.5"
  }
 },
 "nbformat": 4,
 "nbformat_minor": 0
}
