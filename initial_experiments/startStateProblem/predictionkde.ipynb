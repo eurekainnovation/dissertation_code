{
 "cells": [
  {
   "cell_type": "code",
   "execution_count": 76,
   "metadata": {
    "collapsed": false
   },
   "outputs": [],
   "source": [
    "%matplotlib inline\n",
    "\n",
    "import gmodel\n",
    "import makepredictions\n",
    "import datetime, time\n",
    "import numpy as np\n",
    "import pandas as pd\n",
    "import matplotlib.pyplot as plt\n",
    "from scipy.stats.kde import gaussian_kde"
   ]
  },
  {
   "cell_type": "code",
   "execution_count": 77,
   "metadata": {
    "collapsed": true
   },
   "outputs": [],
   "source": [
    "company = 'SPY'\n",
    "num_states = 5\n",
    "num_tests = 200 #20000 seems to be ideal compromise between quality and time to compute\n",
    "days_into_future = 364\n",
    "\n",
    "#now = datetime.datetime.now()\n",
    "#datetime.date(now.year, now.month, now.day)\n",
    "date1 = datetime.date(2005, 1, 1)\n",
    "date2 = datetime.date(2015, 1, 1)"
   ]
  },
  {
   "cell_type": "code",
   "execution_count": 78,
   "metadata": {
    "collapsed": false
   },
   "outputs": [],
   "source": [
    "gmodel.cmodel(company,date1,date2,num_states)"
   ]
  },
  {
   "cell_type": "code",
   "execution_count": 79,
   "metadata": {
    "collapsed": true
   },
   "outputs": [],
   "source": [
    "d1 = datetime.date(2015, 1, 1)\n",
    "d2 = datetime.date(2015, 7, 1)"
   ]
  },
  {
   "cell_type": "code",
   "execution_count": 80,
   "metadata": {
    "collapsed": false
   },
   "outputs": [],
   "source": [
    "#s = pd.Series([1,3,5,np.nan,6,8])\n",
    "real = makepredictions.getrealprice(company, d2, days_into_future)"
   ]
  },
  {
   "cell_type": "code",
   "execution_count": 81,
   "metadata": {
    "collapsed": false
   },
   "outputs": [
    {
     "name": "stdout",
     "output_type": "stream",
     "text": [
      "364\n"
     ]
    }
   ],
   "source": [
    "results1 = np.array(makepredictions.predictions_mls(company+\"_\"+str(num_states)+\"_states_model.pkl\", company, d1, \n",
    "                                                   d2, num_states, num_tests,days_into_future))\n",
    "#print (results1)\n",
    "#print (np.average(results1))"
   ]
  },
  {
   "cell_type": "code",
   "execution_count": 82,
   "metadata": {
    "collapsed": false
   },
   "outputs": [
    {
     "name": "stdout",
     "output_type": "stream",
     "text": [
      "364\n"
     ]
    }
   ],
   "source": [
    "results2 = np.array(makepredictions.predictions_rand(company+\"_\"+str(num_states)+\"_states_model.pkl\", company, d1, \n",
    "                                                    d2, num_states, num_tests,days_into_future))\n",
    "#print (results2)\n",
    "#print (np.average(results2))"
   ]
  },
  {
   "cell_type": "code",
   "execution_count": 83,
   "metadata": {
    "collapsed": false
   },
   "outputs": [
    {
     "name": "stdout",
     "output_type": "stream",
     "text": [
      "364\n"
     ]
    }
   ],
   "source": [
    "results3 = np.array(makepredictions.predictions_vtr(company+\"_\"+str(num_states)+\"_states_model.pkl\", company, d1, \n",
    "                                                   d2, num_states, num_tests,days_into_future))\n",
    "#print (results3)\n",
    "#print (np.average(results3))"
   ]
  },
  {
   "cell_type": "code",
   "execution_count": 84,
   "metadata": {
    "collapsed": false
   },
   "outputs": [
    {
     "name": "stdout",
     "output_type": "stream",
     "text": [
      "364\n"
     ]
    }
   ],
   "source": [
    "results4 = np.array(makepredictions.predictions_psd(company+\"_\"+str(num_states)+\"_states_model.pkl\", company, d1, \n",
    "                                                   d2, num_states, num_tests,days_into_future))\n",
    "#print (results3)\n",
    "#print (np.average(results3))"
   ]
  },
  {
   "cell_type": "code",
   "execution_count": 85,
   "metadata": {
    "collapsed": true
   },
   "outputs": [],
   "source": [
    "pd.options.display.float_format = '{:,.5f}'.format"
   ]
  },
  {
   "cell_type": "code",
   "execution_count": 86,
   "metadata": {
    "collapsed": false
   },
   "outputs": [],
   "source": [
    "df1 = pd.DataFrame({ \n",
    "                    'A' : num_states,\n",
    "                    'B' : pd.Categorical(results1.size*[\"MLS\"]),\n",
    "                    'C' : days_into_future,\n",
    "                    'D' : results1,\n",
    "                    'E' : real,\n",
    "                    'F' : results1 - real\n",
    "                     })"
   ]
  },
  {
   "cell_type": "code",
   "execution_count": 87,
   "metadata": {
    "collapsed": false
   },
   "outputs": [
    {
     "data": {
      "text/html": [
       "<div style=\"max-height:1000px;max-width:1500px;overflow:auto;\">\n",
       "<table border=\"1\" class=\"dataframe\">\n",
       "  <thead>\n",
       "    <tr style=\"text-align: right;\">\n",
       "      <th></th>\n",
       "      <th>A</th>\n",
       "      <th>B</th>\n",
       "      <th>C</th>\n",
       "      <th>D</th>\n",
       "      <th>E</th>\n",
       "      <th>F</th>\n",
       "    </tr>\n",
       "  </thead>\n",
       "  <tbody>\n",
       "    <tr>\n",
       "      <th>0</th>\n",
       "      <td> 5</td>\n",
       "      <td> MLS</td>\n",
       "      <td> 364</td>\n",
       "      <td>185.89489</td>\n",
       "      <td>206.66000</td>\n",
       "      <td>-20.76512</td>\n",
       "    </tr>\n",
       "    <tr>\n",
       "      <th>1</th>\n",
       "      <td> 5</td>\n",
       "      <td> MLS</td>\n",
       "      <td> 364</td>\n",
       "      <td>202.29254</td>\n",
       "      <td>206.66000</td>\n",
       "      <td> -4.36746</td>\n",
       "    </tr>\n",
       "    <tr>\n",
       "      <th>2</th>\n",
       "      <td> 5</td>\n",
       "      <td> MLS</td>\n",
       "      <td> 364</td>\n",
       "      <td>209.20087</td>\n",
       "      <td>206.66000</td>\n",
       "      <td>  2.54087</td>\n",
       "    </tr>\n",
       "    <tr>\n",
       "      <th>3</th>\n",
       "      <td> 5</td>\n",
       "      <td> MLS</td>\n",
       "      <td> 364</td>\n",
       "      <td>157.24731</td>\n",
       "      <td>206.66000</td>\n",
       "      <td>-49.41270</td>\n",
       "    </tr>\n",
       "  </tbody>\n",
       "</table>\n",
       "</div>"
      ],
      "text/plain": [
       "   A    B    C         D         E         F\n",
       "0  5  MLS  364 185.89489 206.66000 -20.76512\n",
       "1  5  MLS  364 202.29254 206.66000  -4.36746\n",
       "2  5  MLS  364 209.20087 206.66000   2.54087\n",
       "3  5  MLS  364 157.24731 206.66000 -49.41270"
      ]
     },
     "execution_count": 87,
     "metadata": {},
     "output_type": "execute_result"
    }
   ],
   "source": [
    "df1.head(4)"
   ]
  },
  {
   "cell_type": "code",
   "execution_count": 88,
   "metadata": {
    "collapsed": false
   },
   "outputs": [
    {
     "data": {
      "text/html": [
       "<div style=\"max-height:1000px;max-width:1500px;overflow:auto;\">\n",
       "<table border=\"1\" class=\"dataframe\">\n",
       "  <thead>\n",
       "    <tr style=\"text-align: right;\">\n",
       "      <th></th>\n",
       "      <th>A</th>\n",
       "      <th>C</th>\n",
       "      <th>D</th>\n",
       "      <th>E</th>\n",
       "      <th>F</th>\n",
       "    </tr>\n",
       "  </thead>\n",
       "  <tbody>\n",
       "    <tr>\n",
       "      <th>count</th>\n",
       "      <td>50,000.00000</td>\n",
       "      <td>50,000.00000</td>\n",
       "      <td>50,000.00000</td>\n",
       "      <td>50,000.00000</td>\n",
       "      <td>50,000.00000</td>\n",
       "    </tr>\n",
       "    <tr>\n",
       "      <th>mean</th>\n",
       "      <td>     5.00000</td>\n",
       "      <td>   364.00000</td>\n",
       "      <td>   212.33723</td>\n",
       "      <td>   206.66000</td>\n",
       "      <td>     5.67723</td>\n",
       "    </tr>\n",
       "    <tr>\n",
       "      <th>std</th>\n",
       "      <td>     0.00000</td>\n",
       "      <td>     0.00000</td>\n",
       "      <td>    30.77685</td>\n",
       "      <td>     0.00000</td>\n",
       "      <td>    30.77685</td>\n",
       "    </tr>\n",
       "    <tr>\n",
       "      <th>min</th>\n",
       "      <td>     5.00000</td>\n",
       "      <td>   364.00000</td>\n",
       "      <td>    46.95989</td>\n",
       "      <td>   206.66000</td>\n",
       "      <td>  -159.70012</td>\n",
       "    </tr>\n",
       "    <tr>\n",
       "      <th>25%</th>\n",
       "      <td>     5.00000</td>\n",
       "      <td>   364.00000</td>\n",
       "      <td>   193.40062</td>\n",
       "      <td>   206.66000</td>\n",
       "      <td>   -13.25938</td>\n",
       "    </tr>\n",
       "    <tr>\n",
       "      <th>50%</th>\n",
       "      <td>     5.00000</td>\n",
       "      <td>   364.00000</td>\n",
       "      <td>   214.69536</td>\n",
       "      <td>   206.66000</td>\n",
       "      <td>     8.03535</td>\n",
       "    </tr>\n",
       "    <tr>\n",
       "      <th>75%</th>\n",
       "      <td>     5.00000</td>\n",
       "      <td>   364.00000</td>\n",
       "      <td>   233.68552</td>\n",
       "      <td>   206.66000</td>\n",
       "      <td>    27.02551</td>\n",
       "    </tr>\n",
       "    <tr>\n",
       "      <th>max</th>\n",
       "      <td>     5.00000</td>\n",
       "      <td>   364.00000</td>\n",
       "      <td>   318.36544</td>\n",
       "      <td>   206.66000</td>\n",
       "      <td>   111.70544</td>\n",
       "    </tr>\n",
       "  </tbody>\n",
       "</table>\n",
       "</div>"
      ],
      "text/plain": [
       "                 A            C            D            E            F\n",
       "count 50,000.00000 50,000.00000 50,000.00000 50,000.00000 50,000.00000\n",
       "mean       5.00000    364.00000    212.33723    206.66000      5.67723\n",
       "std        0.00000      0.00000     30.77685      0.00000     30.77685\n",
       "min        5.00000    364.00000     46.95989    206.66000   -159.70012\n",
       "25%        5.00000    364.00000    193.40062    206.66000    -13.25938\n",
       "50%        5.00000    364.00000    214.69536    206.66000      8.03535\n",
       "75%        5.00000    364.00000    233.68552    206.66000     27.02551\n",
       "max        5.00000    364.00000    318.36544    206.66000    111.70544"
      ]
     },
     "execution_count": 88,
     "metadata": {},
     "output_type": "execute_result"
    }
   ],
   "source": [
    "df1.describe()"
   ]
  },
  {
   "cell_type": "code",
   "execution_count": 89,
   "metadata": {
    "collapsed": true
   },
   "outputs": [],
   "source": [
    "df2 = pd.DataFrame({ \n",
    "                    'A' : num_states,\n",
    "                    'B' : pd.Categorical(results2.size*[\"Rand\"]),\n",
    "                    'C' : days_into_future,\n",
    "                    'D' : results2,\n",
    "                    'E' : real,\n",
    "                    'F' : results2 - real\n",
    "                     })"
   ]
  },
  {
   "cell_type": "code",
   "execution_count": 90,
   "metadata": {
    "collapsed": false
   },
   "outputs": [
    {
     "data": {
      "text/html": [
       "<div style=\"max-height:1000px;max-width:1500px;overflow:auto;\">\n",
       "<table border=\"1\" class=\"dataframe\">\n",
       "  <thead>\n",
       "    <tr style=\"text-align: right;\">\n",
       "      <th></th>\n",
       "      <th>A</th>\n",
       "      <th>B</th>\n",
       "      <th>C</th>\n",
       "      <th>D</th>\n",
       "      <th>E</th>\n",
       "      <th>F</th>\n",
       "    </tr>\n",
       "  </thead>\n",
       "  <tbody>\n",
       "    <tr>\n",
       "      <th>0</th>\n",
       "      <td> 5</td>\n",
       "      <td> Rand</td>\n",
       "      <td> 364</td>\n",
       "      <td>228.51759</td>\n",
       "      <td>206.66000</td>\n",
       "      <td>21.85758</td>\n",
       "    </tr>\n",
       "    <tr>\n",
       "      <th>1</th>\n",
       "      <td> 5</td>\n",
       "      <td> Rand</td>\n",
       "      <td> 364</td>\n",
       "      <td>197.53084</td>\n",
       "      <td>206.66000</td>\n",
       "      <td>-9.12916</td>\n",
       "    </tr>\n",
       "    <tr>\n",
       "      <th>2</th>\n",
       "      <td> 5</td>\n",
       "      <td> Rand</td>\n",
       "      <td> 364</td>\n",
       "      <td>278.58046</td>\n",
       "      <td>206.66000</td>\n",
       "      <td>71.92045</td>\n",
       "    </tr>\n",
       "    <tr>\n",
       "      <th>3</th>\n",
       "      <td> 5</td>\n",
       "      <td> Rand</td>\n",
       "      <td> 364</td>\n",
       "      <td>211.00249</td>\n",
       "      <td>206.66000</td>\n",
       "      <td> 4.34248</td>\n",
       "    </tr>\n",
       "  </tbody>\n",
       "</table>\n",
       "</div>"
      ],
      "text/plain": [
       "   A     B    C         D         E        F\n",
       "0  5  Rand  364 228.51759 206.66000 21.85758\n",
       "1  5  Rand  364 197.53084 206.66000 -9.12916\n",
       "2  5  Rand  364 278.58046 206.66000 71.92045\n",
       "3  5  Rand  364 211.00249 206.66000  4.34248"
      ]
     },
     "execution_count": 90,
     "metadata": {},
     "output_type": "execute_result"
    }
   ],
   "source": [
    "df2.head(4)"
   ]
  },
  {
   "cell_type": "code",
   "execution_count": 91,
   "metadata": {
    "collapsed": false
   },
   "outputs": [
    {
     "data": {
      "text/html": [
       "<div style=\"max-height:1000px;max-width:1500px;overflow:auto;\">\n",
       "<table border=\"1\" class=\"dataframe\">\n",
       "  <thead>\n",
       "    <tr style=\"text-align: right;\">\n",
       "      <th></th>\n",
       "      <th>A</th>\n",
       "      <th>C</th>\n",
       "      <th>D</th>\n",
       "      <th>E</th>\n",
       "      <th>F</th>\n",
       "    </tr>\n",
       "  </thead>\n",
       "  <tbody>\n",
       "    <tr>\n",
       "      <th>count</th>\n",
       "      <td>50,000.00000</td>\n",
       "      <td>50,000.00000</td>\n",
       "      <td>50,000.00000</td>\n",
       "      <td>50,000.00000</td>\n",
       "      <td>50,000.00000</td>\n",
       "    </tr>\n",
       "    <tr>\n",
       "      <th>mean</th>\n",
       "      <td>     5.00000</td>\n",
       "      <td>   364.00000</td>\n",
       "      <td>   216.79800</td>\n",
       "      <td>   206.66000</td>\n",
       "      <td>    10.13799</td>\n",
       "    </tr>\n",
       "    <tr>\n",
       "      <th>std</th>\n",
       "      <td>     0.00000</td>\n",
       "      <td>     0.00000</td>\n",
       "      <td>    29.42693</td>\n",
       "      <td>     0.00000</td>\n",
       "      <td>    29.42693</td>\n",
       "    </tr>\n",
       "    <tr>\n",
       "      <th>min</th>\n",
       "      <td>     5.00000</td>\n",
       "      <td>   364.00000</td>\n",
       "      <td>    16.63204</td>\n",
       "      <td>   206.66000</td>\n",
       "      <td>  -190.02797</td>\n",
       "    </tr>\n",
       "    <tr>\n",
       "      <th>25%</th>\n",
       "      <td>     5.00000</td>\n",
       "      <td>   364.00000</td>\n",
       "      <td>   199.17118</td>\n",
       "      <td>   206.66000</td>\n",
       "      <td>    -7.48882</td>\n",
       "    </tr>\n",
       "    <tr>\n",
       "      <th>50%</th>\n",
       "      <td>     5.00000</td>\n",
       "      <td>   364.00000</td>\n",
       "      <td>   219.43627</td>\n",
       "      <td>   206.66000</td>\n",
       "      <td>    12.77626</td>\n",
       "    </tr>\n",
       "    <tr>\n",
       "      <th>75%</th>\n",
       "      <td>     5.00000</td>\n",
       "      <td>   364.00000</td>\n",
       "      <td>   237.21691</td>\n",
       "      <td>   206.66000</td>\n",
       "      <td>    30.55691</td>\n",
       "    </tr>\n",
       "    <tr>\n",
       "      <th>max</th>\n",
       "      <td>     5.00000</td>\n",
       "      <td>   364.00000</td>\n",
       "      <td>   329.85015</td>\n",
       "      <td>   206.66000</td>\n",
       "      <td>   123.19015</td>\n",
       "    </tr>\n",
       "  </tbody>\n",
       "</table>\n",
       "</div>"
      ],
      "text/plain": [
       "                 A            C            D            E            F\n",
       "count 50,000.00000 50,000.00000 50,000.00000 50,000.00000 50,000.00000\n",
       "mean       5.00000    364.00000    216.79800    206.66000     10.13799\n",
       "std        0.00000      0.00000     29.42693      0.00000     29.42693\n",
       "min        5.00000    364.00000     16.63204    206.66000   -190.02797\n",
       "25%        5.00000    364.00000    199.17118    206.66000     -7.48882\n",
       "50%        5.00000    364.00000    219.43627    206.66000     12.77626\n",
       "75%        5.00000    364.00000    237.21691    206.66000     30.55691\n",
       "max        5.00000    364.00000    329.85015    206.66000    123.19015"
      ]
     },
     "execution_count": 91,
     "metadata": {},
     "output_type": "execute_result"
    }
   ],
   "source": [
    "df2.describe()"
   ]
  },
  {
   "cell_type": "code",
   "execution_count": 92,
   "metadata": {
    "collapsed": true
   },
   "outputs": [],
   "source": [
    "df3 = pd.DataFrame({ \n",
    "                    'A' : num_states,\n",
    "                    'B' : pd.Categorical(results3.size*[\"Rand\"]),\n",
    "                    'C' : days_into_future,\n",
    "                    'D' : results3,\n",
    "                    'E' : real,\n",
    "                    'F' : results3 - real\n",
    "                     })"
   ]
  },
  {
   "cell_type": "code",
   "execution_count": 93,
   "metadata": {
    "collapsed": false
   },
   "outputs": [
    {
     "data": {
      "text/html": [
       "<div style=\"max-height:1000px;max-width:1500px;overflow:auto;\">\n",
       "<table border=\"1\" class=\"dataframe\">\n",
       "  <thead>\n",
       "    <tr style=\"text-align: right;\">\n",
       "      <th></th>\n",
       "      <th>A</th>\n",
       "      <th>B</th>\n",
       "      <th>C</th>\n",
       "      <th>D</th>\n",
       "      <th>E</th>\n",
       "      <th>F</th>\n",
       "    </tr>\n",
       "  </thead>\n",
       "  <tbody>\n",
       "    <tr>\n",
       "      <th>0</th>\n",
       "      <td> 5</td>\n",
       "      <td> Rand</td>\n",
       "      <td> 364</td>\n",
       "      <td>192.52090</td>\n",
       "      <td>206.66000</td>\n",
       "      <td>-14.13910</td>\n",
       "    </tr>\n",
       "    <tr>\n",
       "      <th>1</th>\n",
       "      <td> 5</td>\n",
       "      <td> Rand</td>\n",
       "      <td> 364</td>\n",
       "      <td>249.90422</td>\n",
       "      <td>206.66000</td>\n",
       "      <td> 43.24421</td>\n",
       "    </tr>\n",
       "    <tr>\n",
       "      <th>2</th>\n",
       "      <td> 5</td>\n",
       "      <td> Rand</td>\n",
       "      <td> 364</td>\n",
       "      <td>204.17480</td>\n",
       "      <td>206.66000</td>\n",
       "      <td> -2.48520</td>\n",
       "    </tr>\n",
       "  </tbody>\n",
       "</table>\n",
       "</div>"
      ],
      "text/plain": [
       "   A     B    C         D         E         F\n",
       "0  5  Rand  364 192.52090 206.66000 -14.13910\n",
       "1  5  Rand  364 249.90422 206.66000  43.24421\n",
       "2  5  Rand  364 204.17480 206.66000  -2.48520"
      ]
     },
     "execution_count": 93,
     "metadata": {},
     "output_type": "execute_result"
    }
   ],
   "source": [
    "df3.head(3)"
   ]
  },
  {
   "cell_type": "code",
   "execution_count": 94,
   "metadata": {
    "collapsed": false
   },
   "outputs": [
    {
     "data": {
      "text/html": [
       "<div style=\"max-height:1000px;max-width:1500px;overflow:auto;\">\n",
       "<table border=\"1\" class=\"dataframe\">\n",
       "  <thead>\n",
       "    <tr style=\"text-align: right;\">\n",
       "      <th></th>\n",
       "      <th>A</th>\n",
       "      <th>C</th>\n",
       "      <th>D</th>\n",
       "      <th>E</th>\n",
       "      <th>F</th>\n",
       "    </tr>\n",
       "  </thead>\n",
       "  <tbody>\n",
       "    <tr>\n",
       "      <th>count</th>\n",
       "      <td>50,000.00000</td>\n",
       "      <td>50,000.00000</td>\n",
       "      <td>50,000.00000</td>\n",
       "      <td>50,000.00000</td>\n",
       "      <td>50,000.00000</td>\n",
       "    </tr>\n",
       "    <tr>\n",
       "      <th>mean</th>\n",
       "      <td>     5.00000</td>\n",
       "      <td>   364.00000</td>\n",
       "      <td>   212.43611</td>\n",
       "      <td>   206.66000</td>\n",
       "      <td>     5.77611</td>\n",
       "    </tr>\n",
       "    <tr>\n",
       "      <th>std</th>\n",
       "      <td>     0.00000</td>\n",
       "      <td>     0.00000</td>\n",
       "      <td>    30.74605</td>\n",
       "      <td>     0.00000</td>\n",
       "      <td>    30.74605</td>\n",
       "    </tr>\n",
       "    <tr>\n",
       "      <th>min</th>\n",
       "      <td>     5.00000</td>\n",
       "      <td>   364.00000</td>\n",
       "      <td>    46.83902</td>\n",
       "      <td>   206.66000</td>\n",
       "      <td>  -159.82098</td>\n",
       "    </tr>\n",
       "    <tr>\n",
       "      <th>25%</th>\n",
       "      <td>     5.00000</td>\n",
       "      <td>   364.00000</td>\n",
       "      <td>   193.66869</td>\n",
       "      <td>   206.66000</td>\n",
       "      <td>   -12.99131</td>\n",
       "    </tr>\n",
       "    <tr>\n",
       "      <th>50%</th>\n",
       "      <td>     5.00000</td>\n",
       "      <td>   364.00000</td>\n",
       "      <td>   214.83687</td>\n",
       "      <td>   206.66000</td>\n",
       "      <td>     8.17687</td>\n",
       "    </tr>\n",
       "    <tr>\n",
       "      <th>75%</th>\n",
       "      <td>     5.00000</td>\n",
       "      <td>   364.00000</td>\n",
       "      <td>   233.86853</td>\n",
       "      <td>   206.66000</td>\n",
       "      <td>    27.20852</td>\n",
       "    </tr>\n",
       "    <tr>\n",
       "      <th>max</th>\n",
       "      <td>     5.00000</td>\n",
       "      <td>   364.00000</td>\n",
       "      <td>   324.15006</td>\n",
       "      <td>   206.66000</td>\n",
       "      <td>   117.49005</td>\n",
       "    </tr>\n",
       "  </tbody>\n",
       "</table>\n",
       "</div>"
      ],
      "text/plain": [
       "                 A            C            D            E            F\n",
       "count 50,000.00000 50,000.00000 50,000.00000 50,000.00000 50,000.00000\n",
       "mean       5.00000    364.00000    212.43611    206.66000      5.77611\n",
       "std        0.00000      0.00000     30.74605      0.00000     30.74605\n",
       "min        5.00000    364.00000     46.83902    206.66000   -159.82098\n",
       "25%        5.00000    364.00000    193.66869    206.66000    -12.99131\n",
       "50%        5.00000    364.00000    214.83687    206.66000      8.17687\n",
       "75%        5.00000    364.00000    233.86853    206.66000     27.20852\n",
       "max        5.00000    364.00000    324.15006    206.66000    117.49005"
      ]
     },
     "execution_count": 94,
     "metadata": {},
     "output_type": "execute_result"
    }
   ],
   "source": [
    "df3.describe()"
   ]
  },
  {
   "cell_type": "code",
   "execution_count": 95,
   "metadata": {
    "collapsed": true
   },
   "outputs": [],
   "source": [
    "df4 = pd.DataFrame({ \n",
    "                    'A' : num_states,\n",
    "                    'B' : pd.Categorical(results4.size*[\"Rand\"]),\n",
    "                    'C' : days_into_future,\n",
    "                    'D' : results4,\n",
    "                    'E' : real,\n",
    "                    'F' : results4 - real\n",
    "                     })"
   ]
  },
  {
   "cell_type": "code",
   "execution_count": 96,
   "metadata": {
    "collapsed": false
   },
   "outputs": [
    {
     "data": {
      "text/html": [
       "<div style=\"max-height:1000px;max-width:1500px;overflow:auto;\">\n",
       "<table border=\"1\" class=\"dataframe\">\n",
       "  <thead>\n",
       "    <tr style=\"text-align: right;\">\n",
       "      <th></th>\n",
       "      <th>A</th>\n",
       "      <th>B</th>\n",
       "      <th>C</th>\n",
       "      <th>D</th>\n",
       "      <th>E</th>\n",
       "      <th>F</th>\n",
       "    </tr>\n",
       "  </thead>\n",
       "  <tbody>\n",
       "    <tr>\n",
       "      <th>0</th>\n",
       "      <td> 5</td>\n",
       "      <td> Rand</td>\n",
       "      <td> 364</td>\n",
       "      <td>226.55399</td>\n",
       "      <td>206.66000</td>\n",
       "      <td>19.89399</td>\n",
       "    </tr>\n",
       "    <tr>\n",
       "      <th>1</th>\n",
       "      <td> 5</td>\n",
       "      <td> Rand</td>\n",
       "      <td> 364</td>\n",
       "      <td>253.88903</td>\n",
       "      <td>206.66000</td>\n",
       "      <td>47.22903</td>\n",
       "    </tr>\n",
       "    <tr>\n",
       "      <th>2</th>\n",
       "      <td> 5</td>\n",
       "      <td> Rand</td>\n",
       "      <td> 364</td>\n",
       "      <td>241.78462</td>\n",
       "      <td>206.66000</td>\n",
       "      <td>35.12462</td>\n",
       "    </tr>\n",
       "  </tbody>\n",
       "</table>\n",
       "</div>"
      ],
      "text/plain": [
       "   A     B    C         D         E        F\n",
       "0  5  Rand  364 226.55399 206.66000 19.89399\n",
       "1  5  Rand  364 253.88903 206.66000 47.22903\n",
       "2  5  Rand  364 241.78462 206.66000 35.12462"
      ]
     },
     "execution_count": 96,
     "metadata": {},
     "output_type": "execute_result"
    }
   ],
   "source": [
    "df4.head(3)"
   ]
  },
  {
   "cell_type": "code",
   "execution_count": 97,
   "metadata": {
    "collapsed": false
   },
   "outputs": [
    {
     "data": {
      "text/html": [
       "<div style=\"max-height:1000px;max-width:1500px;overflow:auto;\">\n",
       "<table border=\"1\" class=\"dataframe\">\n",
       "  <thead>\n",
       "    <tr style=\"text-align: right;\">\n",
       "      <th></th>\n",
       "      <th>A</th>\n",
       "      <th>C</th>\n",
       "      <th>D</th>\n",
       "      <th>E</th>\n",
       "      <th>F</th>\n",
       "    </tr>\n",
       "  </thead>\n",
       "  <tbody>\n",
       "    <tr>\n",
       "      <th>count</th>\n",
       "      <td>50,000.00000</td>\n",
       "      <td>50,000.00000</td>\n",
       "      <td>50,000.00000</td>\n",
       "      <td>50,000.00000</td>\n",
       "      <td>50,000.00000</td>\n",
       "    </tr>\n",
       "    <tr>\n",
       "      <th>mean</th>\n",
       "      <td>     5.00000</td>\n",
       "      <td>   364.00000</td>\n",
       "      <td>   215.67708</td>\n",
       "      <td>   206.66000</td>\n",
       "      <td>     9.01708</td>\n",
       "    </tr>\n",
       "    <tr>\n",
       "      <th>std</th>\n",
       "      <td>     0.00000</td>\n",
       "      <td>     0.00000</td>\n",
       "      <td>    29.69843</td>\n",
       "      <td>     0.00000</td>\n",
       "      <td>    29.69843</td>\n",
       "    </tr>\n",
       "    <tr>\n",
       "      <th>min</th>\n",
       "      <td>     5.00000</td>\n",
       "      <td>   364.00000</td>\n",
       "      <td>    55.75335</td>\n",
       "      <td>   206.66000</td>\n",
       "      <td>  -150.90665</td>\n",
       "    </tr>\n",
       "    <tr>\n",
       "      <th>25%</th>\n",
       "      <td>     5.00000</td>\n",
       "      <td>   364.00000</td>\n",
       "      <td>   197.76564</td>\n",
       "      <td>   206.66000</td>\n",
       "      <td>    -8.89436</td>\n",
       "    </tr>\n",
       "    <tr>\n",
       "      <th>50%</th>\n",
       "      <td>     5.00000</td>\n",
       "      <td>   364.00000</td>\n",
       "      <td>   218.28945</td>\n",
       "      <td>   206.66000</td>\n",
       "      <td>    11.62944</td>\n",
       "    </tr>\n",
       "    <tr>\n",
       "      <th>75%</th>\n",
       "      <td>     5.00000</td>\n",
       "      <td>   364.00000</td>\n",
       "      <td>   236.29729</td>\n",
       "      <td>   206.66000</td>\n",
       "      <td>    29.63728</td>\n",
       "    </tr>\n",
       "    <tr>\n",
       "      <th>max</th>\n",
       "      <td>     5.00000</td>\n",
       "      <td>   364.00000</td>\n",
       "      <td>   314.34596</td>\n",
       "      <td>   206.66000</td>\n",
       "      <td>   107.68595</td>\n",
       "    </tr>\n",
       "  </tbody>\n",
       "</table>\n",
       "</div>"
      ],
      "text/plain": [
       "                 A            C            D            E            F\n",
       "count 50,000.00000 50,000.00000 50,000.00000 50,000.00000 50,000.00000\n",
       "mean       5.00000    364.00000    215.67708    206.66000      9.01708\n",
       "std        0.00000      0.00000     29.69843      0.00000     29.69843\n",
       "min        5.00000    364.00000     55.75335    206.66000   -150.90665\n",
       "25%        5.00000    364.00000    197.76564    206.66000     -8.89436\n",
       "50%        5.00000    364.00000    218.28945    206.66000     11.62944\n",
       "75%        5.00000    364.00000    236.29729    206.66000     29.63728\n",
       "max        5.00000    364.00000    314.34596    206.66000    107.68595"
      ]
     },
     "execution_count": 97,
     "metadata": {},
     "output_type": "execute_result"
    }
   ],
   "source": [
    "df4.describe()"
   ]
  },
  {
   "cell_type": "code",
   "execution_count": 98,
   "metadata": {
    "collapsed": false
   },
   "outputs": [
    {
     "data": {
      "text/plain": [
       "array([[<matplotlib.axes.AxesSubplot object at 0x121C3530>]], dtype=object)"
      ]
     },
     "execution_count": 98,
     "metadata": {},
     "output_type": "execute_result"
    },
    {
     "data": {
      "image/png": "[encoded data removed]",
      "text/plain": [
       "<matplotlib.figure.Figure at 0x121c3770>"
      ]
     },
     "metadata": {},
     "output_type": "display_data"
    }
   ],
   "source": [
    "df1.hist(5)"
   ]
  },
  {
   "cell_type": "code",
   "execution_count": 99,
   "metadata": {
    "collapsed": false
   },
   "outputs": [
    {
     "data": {
      "text/plain": [
       "array([[<matplotlib.axes.AxesSubplot object at 0x11CC99F0>]], dtype=object)"
      ]
     },
     "execution_count": 99,
     "metadata": {},
     "output_type": "execute_result"
    },
    {
     "data": {
      "image/png": "[encoded data removed]",
      "text/plain": [
       "<matplotlib.figure.Figure at 0x12016350>"
      ]
     },
     "metadata": {},
     "output_type": "display_data"
    }
   ],
   "source": [
    "df2.hist(5)"
   ]
  },
  {
   "cell_type": "code",
   "execution_count": 100,
   "metadata": {
    "collapsed": false
   },
   "outputs": [
    {
     "data": {
      "text/plain": [
       "array([[<matplotlib.axes.AxesSubplot object at 0x120B4B70>]], dtype=object)"
      ]
     },
     "execution_count": 100,
     "metadata": {},
     "output_type": "execute_result"
    },
    {
     "data": {
      "image/png": "[encoded data removed]",
      "text/plain": [
       "<matplotlib.figure.Figure at 0x121c99b0>"
      ]
     },
     "metadata": {},
     "output_type": "display_data"
    }
   ],
   "source": [
    "df3.hist(5)"
   ]
  },
  {
   "cell_type": "code",
   "execution_count": 101,
   "metadata": {
    "collapsed": false
   },
   "outputs": [
    {
     "data": {
      "text/plain": [
       "array([[<matplotlib.axes.AxesSubplot object at 0x1253E490>]], dtype=object)"
      ]
     },
     "execution_count": 101,
     "metadata": {},
     "output_type": "execute_result"
    },
    {
     "data": {
      "image/png": "[encoded data removed]",
      "text/plain": [
       "<matplotlib.figure.Figure at 0x11c93dd0>"
      ]
     },
     "metadata": {},
     "output_type": "display_data"
    }
   ],
   "source": [
    "df4.hist(5)"
   ]
  },
  {
   "cell_type": "code",
   "execution_count": 102,
   "metadata": {
    "collapsed": false
   },
   "outputs": [],
   "source": [
    "samp1 = df1['D'].values\n",
    "samp2 = df2['D'].values\n",
    "samp3 = df3['D'].values\n",
    "samp4 = df4['D'].values\n",
    "\n",
    "df1_pdf = gaussian_kde(samp1)\n",
    "df2_pdf = gaussian_kde(samp2)\n",
    "df3_pdf = gaussian_kde(samp3)\n",
    "df4_pdf = gaussian_kde(samp4)"
   ]
  },
  {
   "cell_type": "code",
   "execution_count": 103,
   "metadata": {
    "collapsed": false
   },
   "outputs": [],
   "source": [
    "x = np.linspace(np.amin(df1['D'].values),np.amax(df1['D'].values)*.77,200)"
   ]
  },
  {
   "cell_type": "code",
   "execution_count": null,
   "metadata": {
    "collapsed": false
   },
   "outputs": [],
   "source": []
  },
  {
   "cell_type": "code",
   "execution_count": 104,
   "metadata": {
    "collapsed": false
   },
   "outputs": [
    {
     "data": {
      "image/png": "[encoded data removed]",
      "text/plain": [
       "<matplotlib.figure.Figure at 0x121e2af0>"
      ]
     },
     "metadata": {},
     "output_type": "display_data"
    }
   ],
   "source": [
    "# plotting the result\n",
    "\n",
    "plt.plot(x,df1_pdf(x),'r', label='MLS') # distribution function\n",
    "plt.plot(x,df2_pdf(x),'c', label='Rand') # distribution function\n",
    "plt.plot(x,df3_pdf(x),'y', label='Vtr') # distribution function\n",
    "plt.plot(x,df4_pdf(x),'b', label='Psd') # distribution function\n",
    "plt.plot((real, real), (0, df1_pdf(real)+.004), 'g--')\n",
    "#hist(samp,normed=1,alpha=.3) # histogram\n",
    "plt.legend(loc='best', shadow=True)\n",
    "plt.show()"
   ]
  },
  {
   "cell_type": "code",
   "execution_count": 105,
   "metadata": {
    "collapsed": false
   },
   "outputs": [
    {
     "name": "stdout",
     "output_type": "stream",
     "text": [
      "('True Value: ', 206.66000399999999)\n",
      "('MLS', 0.012507502326964379, 'Rand', 0.011596410054399844, 'Vtr', 0.012414647002155997, 'Psd', 0.011876849331816855)\n",
      "[1 3 4 2]\n"
     ]
    }
   ],
   "source": [
    "print (\"True Value: \",real)\n",
    "print (\"MLS\",df1_pdf(real)[0], \"Rand\",df2_pdf(real)[0], \"Vtr\",df3_pdf(real)[0], \"Psd\",df4_pdf(real)[0])\n",
    "kdes = np.array([df1_pdf(real)[0], df2_pdf(real)[0], df3_pdf(real)[0], df4_pdf(real)[0]])\n",
    "rank = np.argsort(-1*kdes) + 1\n",
    "print (rank)"
   ]
  },
  {
   "cell_type": "code",
   "execution_count": 106,
   "metadata": {
    "collapsed": false
   },
   "outputs": [],
   "source": [
    "dfkde = pd.DataFrame({ \n",
    "                    'A' : company,\n",
    "                    'B' : num_states,\n",
    "                    'C' : pd.Categorical([\"MLS\", \"Rand\",\"Vtr\",\"Psd\"]),\n",
    "                    'D' : days_into_future,\n",
    "                    'E' : kdes,\n",
    "                    'F' : rank,\n",
    "                     })"
   ]
  },
  {
   "cell_type": "code",
   "execution_count": 107,
   "metadata": {
    "collapsed": false
   },
   "outputs": [
    {
     "data": {
      "text/html": [
       "<div style=\"max-height:1000px;max-width:1500px;overflow:auto;\">\n",
       "<table border=\"1\" class=\"dataframe\">\n",
       "  <thead>\n",
       "    <tr style=\"text-align: right;\">\n",
       "      <th></th>\n",
       "      <th>A</th>\n",
       "      <th>B</th>\n",
       "      <th>C</th>\n",
       "      <th>D</th>\n",
       "      <th>E</th>\n",
       "      <th>F</th>\n",
       "    </tr>\n",
       "  </thead>\n",
       "  <tbody>\n",
       "    <tr>\n",
       "      <th>0</th>\n",
       "      <td> SPY</td>\n",
       "      <td> 5</td>\n",
       "      <td>  MLS</td>\n",
       "      <td> 364</td>\n",
       "      <td>0.01251</td>\n",
       "      <td> 1</td>\n",
       "    </tr>\n",
       "    <tr>\n",
       "      <th>1</th>\n",
       "      <td> SPY</td>\n",
       "      <td> 5</td>\n",
       "      <td> Rand</td>\n",
       "      <td> 364</td>\n",
       "      <td>0.01160</td>\n",
       "      <td> 3</td>\n",
       "    </tr>\n",
       "    <tr>\n",
       "      <th>2</th>\n",
       "      <td> SPY</td>\n",
       "      <td> 5</td>\n",
       "      <td>  Vtr</td>\n",
       "      <td> 364</td>\n",
       "      <td>0.01241</td>\n",
       "      <td> 4</td>\n",
       "    </tr>\n",
       "    <tr>\n",
       "      <th>3</th>\n",
       "      <td> SPY</td>\n",
       "      <td> 5</td>\n",
       "      <td>  Psd</td>\n",
       "      <td> 364</td>\n",
       "      <td>0.01188</td>\n",
       "      <td> 2</td>\n",
       "    </tr>\n",
       "  </tbody>\n",
       "</table>\n",
       "</div>"
      ],
      "text/plain": [
       "     A  B     C    D       E  F\n",
       "0  SPY  5   MLS  364 0.01251  1\n",
       "1  SPY  5  Rand  364 0.01160  3\n",
       "2  SPY  5   Vtr  364 0.01241  4\n",
       "3  SPY  5   Psd  364 0.01188  2"
      ]
     },
     "execution_count": 107,
     "metadata": {},
     "output_type": "execute_result"
    }
   ],
   "source": [
    "dfkde"
   ]
  },
  {
   "cell_type": "code",
   "execution_count": 110,
   "metadata": {
    "collapsed": false
   },
   "outputs": [],
   "source": [
    "fname = company +\"_\"+ str(num_states) + \"_\" + str(days_into_future) + \"_kdes\"\n",
    "dfkde.to_csv(fname+\".csv\")\n",
    "#pd.read_csv('foo.csv')\n",
    "dfkde.to_excel(fname + '.xlsx', sheet_name='Sheet1')"
   ]
  },
  {
   "cell_type": "code",
   "execution_count": null,
   "metadata": {
    "collapsed": true
   },
   "outputs": [],
   "source": []
  }
 ],
 "metadata": {
  "kernelspec": {
   "display_name": "Python 2",
   "language": "python",
   "name": "python2"
  },
  "language_info": {
   "codemirror_mode": {
    "name": "ipython",
    "version": 2
   },
   "file_extension": ".py",
   "mimetype": "text/x-python",
   "name": "python",
   "nbconvert_exporter": "python",
   "pygments_lexer": "ipython2",
   "version": "2.7.5"
  }
 },
 "nbformat": 4,
 "nbformat_minor": 0
}
