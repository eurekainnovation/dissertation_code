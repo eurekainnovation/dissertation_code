{
 "cells": [
  {
   "cell_type": "code",
   "execution_count": 654,
   "metadata": {
    "collapsed": false
   },
   "outputs": [],
   "source": [
    "import generatekdes\n",
    "import datetime, time\n",
    "import numpy as np\n",
    "import pandas as pd\n",
    "from scipy import stats\n",
    "import os\n",
    "import subprocess"
   ]
  },
  {
   "cell_type": "code",
   "execution_count": 655,
   "metadata": {
    "collapsed": false
   },
   "outputs": [],
   "source": [
    "states = 5\n",
    "days = 10\n",
    "samples =495\n",
    "sp = np.genfromtxt(os.path.join('./sims1', 'constituents2.csv'), delimiter=',', dtype=None)\n",
    "m=np.zeros(samples)\n",
    "r=np.zeros(samples)\n",
    "v=np.zeros(samples)\n",
    "p=np.zeros(samples)\n",
    "l=np.zeros(samples)\n",
    "ml=np.zeros(samples)"
   ]
  },
  {
   "cell_type": "code",
   "execution_count": 656,
   "metadata": {
    "collapsed": true
   },
   "outputs": [],
   "source": [
    "tickers = sp[:,0]"
   ]
  },
  {
   "cell_type": "code",
   "execution_count": 657,
   "metadata": {
    "collapsed": false
   },
   "outputs": [
    {
     "name": "stdout",
     "output_type": "stream",
     "text": [
      "['MMM' 'ABT' 'ABBV' 'ACN' 'ATVI' 'AYI' 'ADBE' 'AAP' 'AES' 'AET' 'AMG' 'AFL'\n",
      " 'A' 'APD' 'AKAM' 'ALK' 'ALB' 'AA' 'ALXN' 'ALLE' 'AGN' 'ADS' 'LNT' 'ALL'\n",
      " 'GOOGL' 'GOOG' 'MO' 'AMZN' 'AEE' 'AAL' 'AEP' 'AXP' 'AIG' 'AMT' 'AWK' 'AMP'\n",
      " 'ABC' 'AME' 'AMGN' 'APH' 'APC' 'ADI' 'ANTM' 'AON' 'APA' 'AIV' 'AAPL'\n",
      " 'AMAT' 'ADM' 'AJG' 'AIZ' 'T' 'ADSK' 'ADP' 'AN' 'AZO' 'AVGO' 'AVB' 'AVY'\n",
      " 'BHI' 'BLL' 'BAC' 'BCR' 'BAX' 'BBT' 'BDX' 'BBBY' 'BRK-B' 'BBY' 'BIIB'\n",
      " 'BLK' 'HRB' 'BA' 'BWA' 'BXP' 'BSX' 'BMY' 'BF-B' 'CHRW' 'CA' 'COG' 'CPB'\n",
      " 'COF' 'CAH' 'KMX' 'CCL' 'CAT' 'CBG' 'CBS' 'CELG' 'CNC' 'CNP' 'CTL' 'CERN'\n",
      " 'CF' 'SCHW' 'CHK' 'CVX' 'CMG' 'CB' 'CHD' 'CI' 'XEC' 'CINF' 'CTAS' 'CSCO'\n",
      " 'C' 'CFG' 'CTXS' 'CME' 'CMS' 'COH' 'CTSH' 'CL' 'CMCSA' 'CMA' 'CAG' 'CXO'\n",
      " 'COP' 'ED' 'STZ' 'GLW' 'COST' 'CCI' 'CSX' 'CMI' 'CVS' 'DHI' 'DHR' 'DRI'\n",
      " 'DVA' 'DE' 'DLPH' 'DAL' 'XRAY' 'DVN' 'DO' 'DLR' 'DFS' 'DISCA' 'DISCK' 'DG'\n",
      " 'DLTR' 'D' 'DOV' 'DOW' 'DPS' 'DTE' 'DD' 'DUK' 'DNB' 'ETFC' 'EMN' 'ETN'\n",
      " 'EBAY' 'ECL' 'EIX' 'EW' 'EA' 'EMC' 'EMR' 'ENDP' 'ETR' 'EOG' 'EQT' 'EFX'\n",
      " 'EQIX' 'EQR' 'ESS' 'EL' 'ES' 'EXC' 'EXPE' 'EXPD' 'ESRX' 'EXR' 'XOM' 'FFIV'\n",
      " 'FB' 'FAST' 'FRT' 'FDX' 'FIS' 'FITB' 'FSLR' 'FE' 'FISV' 'FLIR' 'FLS' 'FLR'\n",
      " 'FMC' 'FTI' 'FL' 'F' 'FBHS' 'BEN' 'FCX' 'FTR' 'GPS' 'GRMN' 'GD' 'GE' 'GGP'\n",
      " 'GIS' 'GM' 'GPC' 'GILD' 'GPN' 'GS' 'GT' 'GWW' 'HAL' 'HBI' 'HOG' 'HAR'\n",
      " 'HRS' 'HIG' 'HAS' 'HCA' 'HCP' 'HP' 'HSIC' 'HES' 'HOLX' 'HD' 'HON' 'HRL'\n",
      " 'HST' 'HPQ' 'HUM' 'HBAN' 'ITW' 'ILMN' 'IR' 'INTC' 'ICE' 'IBM' 'IP' 'IPG'\n",
      " 'IFF' 'INTU' 'ISRG' 'IVZ' 'IRM' 'JBHT' 'JEC' 'JNJ' 'JCI' 'JPM' 'JNPR'\n",
      " 'KSU' 'K' 'KEY' 'KMB' 'KIM' 'KMI' 'KLAC' 'KSS' 'KR' 'LB' 'LLL' 'LH' 'LRCX'\n",
      " 'LM' 'LEG' 'LEN' 'LUK' 'LVLT' 'LLY' 'LNC' 'LLTC' 'LKQ' 'LMT' 'L' 'LOW'\n",
      " 'LYB' 'MTB' 'MAC' 'M' 'MNK' 'MRO' 'MPC' 'MAR' 'MMC' 'MLM' 'MAS' 'MA' 'MAT'\n",
      " 'MKC' 'MCD' 'MCK' 'MJN' 'MDT' 'MRK' 'MET' 'KORS' 'MCHP' 'MU' 'MSFT' 'MHK'\n",
      " 'TAP' 'MDLZ' 'MON' 'MNST' 'MCO' 'MS' 'MSI' 'MUR' 'MYL' 'NDAQ' 'NOV' 'NAVI'\n",
      " 'NTAP' 'NFLX' 'NWL' 'NFX' 'NEM' 'NWSA' 'NWS' 'NLSN' 'NKE' 'NI' 'NBL' 'JWN'\n",
      " 'NSC' 'NTRS' 'NOC' 'NRG' 'NUE' 'NVDA' 'ORLY' 'OXY' 'OMC' 'OKE' 'ORCL' 'OI'\n",
      " 'PCAR' 'PH' 'PDCO' 'PAYX' 'PNR' 'PBCT' 'PEP' 'PKI' 'PRGO' 'PFE' 'PCG' 'PM'\n",
      " 'PSX' 'PNW' 'PXD' 'PBI' 'PNC' 'RL' 'PPG' 'PPL' 'PX' 'PCLN' 'PFG' 'PG'\n",
      " 'PGR' 'PLD' 'PRU' 'PEG' 'PSA' 'PHM' 'PVH' 'QCOM' 'PWR' 'DGX' 'RRC' 'RTN'\n",
      " 'O' 'RHT' 'REGN' 'RF' 'RSG' 'RAI' 'RHI' 'ROK' 'COL' 'ROP' 'ROST' 'RCL' 'R'\n",
      " 'SPGI' 'CRM' 'SCG' 'SLB' 'SNI' 'STX' 'SEE' 'SRE' 'SHW' 'SIG' 'SPG' 'SWKS'\n",
      " 'SLG' 'SJM' 'SNA' 'SO' 'LUV' 'SWN' 'SE' 'STJ' 'SWK' 'SPLS' 'SBUX' 'HOT'\n",
      " 'STT' 'SRCL' 'SYK' 'STI' 'SYMC' 'SYF' 'SYY' 'TROW' 'TGT' 'TEL' 'TGNA'\n",
      " 'TDC' 'TSO' 'TXN' 'TXT' 'BK' 'CLX' 'KO' 'HSY' 'MOS' 'TRV' 'DIS' 'TMO'\n",
      " 'TIF' 'TWX' 'TJX' 'TMK' 'TSS' 'TSCO' 'TDG' 'RIG' 'TRIP' 'FOXA' 'FOX' 'TYC'\n",
      " 'TSN' 'USB' 'UDR' 'ULTA' 'UA' 'UNP' 'UAL' 'UNH' 'UPS' 'URI' 'UTX' 'UHS'\n",
      " 'UNM' 'URBN' 'VFC' 'VLO' 'VAR' 'VTR' 'VRSN' 'VRSK' 'VZ' 'VRTX' 'VIAB' 'V'\n",
      " 'VNO' 'VMC' 'WMT' 'WBA' 'WM' 'WAT' 'WFC' 'HCN' 'WDC' 'WU' 'WY' 'WHR' 'WFM'\n",
      " 'WMB' 'WEC' 'WYN' 'WYNN' 'XEL' 'XRX' 'XLNX' 'XL' 'XYL' 'YHOO' 'YUM' 'ZBH'\n",
      " 'ZION' 'ZTS']\n"
     ]
    }
   ],
   "source": [
    "t = tickers[0:samples]\n",
    "print (t)"
   ]
  },
  {
   "cell_type": "code",
   "execution_count": 658,
   "metadata": {
    "collapsed": false
   },
   "outputs": [],
   "source": [
    "i=0\n",
    "pd.options.display.float_format = '{:,.4f}'.format\n",
    "for company in t:\n",
    "    fname = company +\"_\"+ str(states) + \"_\" + str(days) + \"_kdes.csv\"\n",
    "    dfrtmp = pd.read_csv(os.path.join('./sims1', fname))\n",
    "    #print (dfrtmp)\n",
    "    #print(dfrtmp.at[0,'E']) #MLS\n",
    "    m[i] = dfrtmp.at[0,'E']\n",
    "    #print(dfrtmp.at[1,'E']) #RAND\n",
    "    r[i] = dfrtmp.at[1,'E']\n",
    "    #print(dfrtmp.at[2,'E']) #MLS\n",
    "    v[i] = dfrtmp.at[2,'E']\n",
    "    #print(dfrtmp.at[3,'E']) #MLS\n",
    "    p[i] = dfrtmp.at[3,'E']\n",
    "    #print(dfrtmp.at[4,'E']) #MLS\n",
    "    l[i] = dfrtmp.at[4,'E']\n",
    "    #print(dfrtmp.at[5,'E']) #MLS\n",
    "    ml[i] = dfrtmp.at[5,'E']\n",
    "    i=i+1"
   ]
  },
  {
   "cell_type": "code",
   "execution_count": 659,
   "metadata": {
    "collapsed": false
   },
   "outputs": [],
   "source": [
    "dfr = pd.DataFrame({  #\"MLS\", \"Rand\",\"Vtr\",\"Psd\",\"Lls\",\"Mlns\n",
    "                    'MLS' : m,\n",
    "                    'RAND' : r,\n",
    "                    'VTR' : v,\n",
    "                    'PSD' : p,\n",
    "                    'LLS' : l,\n",
    "                    'MLNS' : ml,        \n",
    "                     })"
   ]
  },
  {
   "cell_type": "code",
   "execution_count": 660,
   "metadata": {
    "collapsed": false
   },
   "outputs": [
    {
     "data": {
      "text/html": [
       "<div style=\"max-height:1000px;max-width:1500px;overflow:auto;\">\n",
       "<table border=\"1\" class=\"dataframe\">\n",
       "  <thead>\n",
       "    <tr style=\"text-align: right;\">\n",
       "      <th></th>\n",
       "      <th>LLS</th>\n",
       "      <th>MLNS</th>\n",
       "      <th>MLS</th>\n",
       "      <th>PSD</th>\n",
       "      <th>RAND</th>\n",
       "      <th>VTR</th>\n",
       "    </tr>\n",
       "  </thead>\n",
       "  <tbody>\n",
       "    <tr>\n",
       "      <th>492</th>\n",
       "      <td>0.0609</td>\n",
       "      <td>0.0801</td>\n",
       "      <td>0.0808</td>\n",
       "      <td>0.0786</td>\n",
       "      <td>0.0749</td>\n",
       "      <td>0.0823</td>\n",
       "    </tr>\n",
       "    <tr>\n",
       "      <th>493</th>\n",
       "      <td>0.0431</td>\n",
       "      <td>0.2263</td>\n",
       "      <td>0.2239</td>\n",
       "      <td>0.2060</td>\n",
       "      <td>0.1361</td>\n",
       "      <td>0.2242</td>\n",
       "    </tr>\n",
       "    <tr>\n",
       "      <th>494</th>\n",
       "      <td>0.1187</td>\n",
       "      <td>0.1655</td>\n",
       "      <td>0.1613</td>\n",
       "      <td>0.1192</td>\n",
       "      <td>0.1073</td>\n",
       "      <td>0.1618</td>\n",
       "    </tr>\n",
       "  </tbody>\n",
       "</table>\n",
       "</div>"
      ],
      "text/plain": [
       "       LLS   MLNS    MLS    PSD   RAND    VTR\n",
       "492 0.0609 0.0801 0.0808 0.0786 0.0749 0.0823\n",
       "493 0.0431 0.2263 0.2239 0.2060 0.1361 0.2242\n",
       "494 0.1187 0.1655 0.1613 0.1192 0.1073 0.1618"
      ]
     },
     "execution_count": 660,
     "metadata": {},
     "output_type": "execute_result"
    }
   ],
   "source": [
    "dfr.tail(3)"
   ]
  },
  {
   "cell_type": "code",
   "execution_count": 661,
   "metadata": {
    "collapsed": false
   },
   "outputs": [
    {
     "data": {
      "text/html": [
       "<div style=\"max-height:1000px;max-width:1500px;overflow:auto;\">\n",
       "<table border=\"1\" class=\"dataframe\">\n",
       "  <thead>\n",
       "    <tr style=\"text-align: right;\">\n",
       "      <th></th>\n",
       "      <th>LLS</th>\n",
       "      <th>MLNS</th>\n",
       "      <th>MLS</th>\n",
       "      <th>PSD</th>\n",
       "      <th>RAND</th>\n",
       "      <th>VTR</th>\n",
       "    </tr>\n",
       "  </thead>\n",
       "  <tbody>\n",
       "    <tr>\n",
       "      <th>count</th>\n",
       "      <td>495.0000</td>\n",
       "      <td>495.0000</td>\n",
       "      <td>495.0000</td>\n",
       "      <td>495.0000</td>\n",
       "      <td>495.0000</td>\n",
       "      <td>495.0000</td>\n",
       "    </tr>\n",
       "    <tr>\n",
       "      <th>mean</th>\n",
       "      <td>  0.1647</td>\n",
       "      <td>  0.1699</td>\n",
       "      <td>  0.1760</td>\n",
       "      <td>  0.1747</td>\n",
       "      <td>  0.1708</td>\n",
       "      <td>  0.1694</td>\n",
       "    </tr>\n",
       "    <tr>\n",
       "      <th>std</th>\n",
       "      <td>  0.1922</td>\n",
       "      <td>  0.1535</td>\n",
       "      <td>  0.1568</td>\n",
       "      <td>  0.1514</td>\n",
       "      <td>  0.1405</td>\n",
       "      <td>  0.1510</td>\n",
       "    </tr>\n",
       "    <tr>\n",
       "      <th>min</th>\n",
       "      <td>  0.0000</td>\n",
       "      <td>  0.0000</td>\n",
       "      <td>  0.0000</td>\n",
       "      <td>  0.0003</td>\n",
       "      <td>  0.0004</td>\n",
       "      <td>  0.0001</td>\n",
       "    </tr>\n",
       "    <tr>\n",
       "      <th>25%</th>\n",
       "      <td>  0.0331</td>\n",
       "      <td>  0.0836</td>\n",
       "      <td>  0.0833</td>\n",
       "      <td>  0.0857</td>\n",
       "      <td>  0.0804</td>\n",
       "      <td>  0.0839</td>\n",
       "    </tr>\n",
       "    <tr>\n",
       "      <th>50%</th>\n",
       "      <td>  0.0974</td>\n",
       "      <td>  0.1354</td>\n",
       "      <td>  0.1411</td>\n",
       "      <td>  0.1434</td>\n",
       "      <td>  0.1361</td>\n",
       "      <td>  0.1355</td>\n",
       "    </tr>\n",
       "    <tr>\n",
       "      <th>75%</th>\n",
       "      <td>  0.2194</td>\n",
       "      <td>  0.2084</td>\n",
       "      <td>  0.2186</td>\n",
       "      <td>  0.2137</td>\n",
       "      <td>  0.2252</td>\n",
       "      <td>  0.2082</td>\n",
       "    </tr>\n",
       "    <tr>\n",
       "      <th>max</th>\n",
       "      <td>  1.4648</td>\n",
       "      <td>  2.0857</td>\n",
       "      <td>  2.0518</td>\n",
       "      <td>  2.0173</td>\n",
       "      <td>  1.3328</td>\n",
       "      <td>  2.0393</td>\n",
       "    </tr>\n",
       "  </tbody>\n",
       "</table>\n",
       "</div>"
      ],
      "text/plain": [
       "           LLS     MLNS      MLS      PSD     RAND      VTR\n",
       "count 495.0000 495.0000 495.0000 495.0000 495.0000 495.0000\n",
       "mean    0.1647   0.1699   0.1760   0.1747   0.1708   0.1694\n",
       "std     0.1922   0.1535   0.1568   0.1514   0.1405   0.1510\n",
       "min     0.0000   0.0000   0.0000   0.0003   0.0004   0.0001\n",
       "25%     0.0331   0.0836   0.0833   0.0857   0.0804   0.0839\n",
       "50%     0.0974   0.1354   0.1411   0.1434   0.1361   0.1355\n",
       "75%     0.2194   0.2084   0.2186   0.2137   0.2252   0.2082\n",
       "max     1.4648   2.0857   2.0518   2.0173   1.3328   2.0393"
      ]
     },
     "execution_count": 661,
     "metadata": {},
     "output_type": "execute_result"
    }
   ],
   "source": [
    "dfr.describe()"
   ]
  },
  {
   "cell_type": "code",
   "execution_count": 662,
   "metadata": {
    "collapsed": false
   },
   "outputs": [],
   "source": [
    "d1 = dfr['MLS']\n",
    "d2 = dfr['RAND']\n",
    "d3 = dfr['LLS']"
   ]
  },
  {
   "cell_type": "code",
   "execution_count": 663,
   "metadata": {
    "collapsed": true
   },
   "outputs": [],
   "source": [
    "#z_stat, p_val = stats.ranksums(d1,d2)"
   ]
  },
  {
   "cell_type": "code",
   "execution_count": 664,
   "metadata": {
    "collapsed": false
   },
   "outputs": [],
   "source": [
    "#print (p_val)"
   ]
  },
  {
   "cell_type": "code",
   "execution_count": 665,
   "metadata": {
    "collapsed": true
   },
   "outputs": [],
   "source": [
    "p_val1 = stats.wilcoxon(d1,d2, zero_method='wilcox', correction=False)[1]\n",
    "p_val2 = stats.wilcoxon(d1,d3, zero_method='wilcox', correction=False)[1]"
   ]
  },
  {
   "cell_type": "code",
   "execution_count": 666,
   "metadata": {
    "collapsed": false
   },
   "outputs": [
    {
     "name": "stdout",
     "output_type": "stream",
     "text": [
      "('P-value comparison between MLS and RAND: ', 0.0037302572271222896)\n",
      "('P-value comparison between MLS and LLS: ', 0.00081311349600215912)\n"
     ]
    }
   ],
   "source": [
    "print(\"P-value comparison between MLS and RAND: \", p_val1) # Used because data is paired ! :D\n",
    "print(\"P-value comparison between MLS and LLS: \", p_val2)"
   ]
  },
  {
   "cell_type": "code",
   "execution_count": 667,
   "metadata": {
    "collapsed": false
   },
   "outputs": [
    {
     "data": {
      "text/plain": [
       "0"
      ]
     },
     "execution_count": 667,
     "metadata": {},
     "output_type": "execute_result"
    }
   ],
   "source": [
    "filename = \"Table_Comparison_\" + str(states) + \"_States_\" + str(days) + \"Days\" + '.tex'\n",
    "\n",
    "template = r'''\\documentclass[preview]{{standalone}}\n",
    "\\usepackage{{booktabs}}\n",
    "\\begin{{document}}\n",
    "{}\n",
    "\\end{{document}}\n",
    "'''\n",
    "\n",
    "with open(filename, 'wb') as f:\n",
    "    f.write(template.format(dfr.describe().to_latex()))\n",
    "\n",
    "subprocess.call(['pdflatex', filename])"
   ]
  },
  {
   "cell_type": "code",
   "execution_count": 668,
   "metadata": {
    "collapsed": false
   },
   "outputs": [],
   "source": [
    "dfr_pvalues =  pd.DataFrame({       \n",
    "                    '': pd.Categorical([\"MLS vs.\"]),\n",
    "                    'RAND':p_val1,\n",
    "                    'LLS':p_val2,\n",
    "                    \n",
    "                     }, index=['p-value'])\n",
    "#'D':np.array([0] * 2,dtype='int32'),"
   ]
  },
  {
   "cell_type": "code",
   "execution_count": 669,
   "metadata": {
    "collapsed": false
   },
   "outputs": [
    {
     "data": {
      "text/html": [
       "<div style=\"max-height:1000px;max-width:1500px;overflow:auto;\">\n",
       "<table border=\"1\" class=\"dataframe\">\n",
       "  <thead>\n",
       "    <tr style=\"text-align: right;\">\n",
       "      <th></th>\n",
       "      <th></th>\n",
       "      <th>LLS</th>\n",
       "      <th>RAND</th>\n",
       "    </tr>\n",
       "  </thead>\n",
       "  <tbody>\n",
       "    <tr>\n",
       "      <th>p-value</th>\n",
       "      <td> MLS vs.</td>\n",
       "      <td>0.0008</td>\n",
       "      <td>0.0037</td>\n",
       "    </tr>\n",
       "  </tbody>\n",
       "</table>\n",
       "</div>"
      ],
      "text/plain": [
       "                    LLS   RAND\n",
       "p-value  MLS vs. 0.0008 0.0037"
      ]
     },
     "execution_count": 669,
     "metadata": {},
     "output_type": "execute_result"
    }
   ],
   "source": [
    "dfr_pvalues"
   ]
  },
  {
   "cell_type": "code",
   "execution_count": 670,
   "metadata": {
    "collapsed": false
   },
   "outputs": [
    {
     "data": {
      "text/plain": [
       "0"
      ]
     },
     "execution_count": 670,
     "metadata": {},
     "output_type": "execute_result"
    }
   ],
   "source": [
    "filename = \"Pvalues_Comparison_\" + str(states) + \"_States_\" + str(days) + \"Days\" + '.tex'\n",
    "\n",
    "template = r'''\\documentclass[preview]{{standalone}}\n",
    "\\usepackage{{booktabs}}\n",
    "\\begin{{document}}\n",
    "{}\n",
    "\\end{{document}}\n",
    "'''\n",
    "\n",
    "with open(filename, 'wb') as f:\n",
    "    f.write(template.format(dfr_pvalues.describe().to_latex()))\n",
    "\n",
    "subprocess.call(['pdflatex', filename])"
   ]
  }
 ],
 "metadata": {
  "kernelspec": {
   "display_name": "Python [Root]",
   "language": "python",
   "name": "Python [Root]"
  },
  "language_info": {
   "codemirror_mode": {
    "name": "ipython",
    "version": 2
   },
   "file_extension": ".py",
   "mimetype": "text/x-python",
   "name": "python",
   "nbconvert_exporter": "python",
   "pygments_lexer": "ipython2",
   "version": "2.7.12"
  }
 },
 "nbformat": 4,
 "nbformat_minor": 0
}
