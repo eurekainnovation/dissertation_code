{
 "cells": [
  {
   "cell_type": "code",
   "execution_count": 167,
   "metadata": {
    "collapsed": false
   },
   "outputs": [],
   "source": [
    "import datetime, time\n",
    "import numpy as np\n",
    "import pandas as pd\n",
    "from scipy import stats\n",
    "import os\n",
    "import subprocess"
   ]
  },
  {
   "cell_type": "code",
   "execution_count": 168,
   "metadata": {
    "collapsed": false
   },
   "outputs": [],
   "source": [
    "company = 'SPY'"
   ]
  },
  {
   "cell_type": "code",
   "execution_count": 169,
   "metadata": {
    "collapsed": true
   },
   "outputs": [],
   "source": [
    "fname = \"Prediction_IDs_\"+str(company)+\".csv\"\n",
    "fname = os.path.join('./sims_final', fname)\n"
   ]
  },
  {
   "cell_type": "code",
   "execution_count": 170,
   "metadata": {
    "collapsed": false
   },
   "outputs": [],
   "source": [
    "ids = np.genfromtxt(fname, delimiter=',', dtype=None)"
   ]
  },
  {
   "cell_type": "code",
   "execution_count": 171,
   "metadata": {
    "collapsed": true
   },
   "outputs": [],
   "source": [
    "\n",
    "samples = ids.size\n",
    "states = []\n",
    "for i in range(0,11):\n",
    "    states.append(np.zeros(samples))"
   ]
  },
  {
   "cell_type": "code",
   "execution_count": 172,
   "metadata": {
    "collapsed": true
   },
   "outputs": [],
   "source": [
    "threshold = 0.25"
   ]
  },
  {
   "cell_type": "code",
   "execution_count": 173,
   "metadata": {
    "collapsed": false
   },
   "outputs": [
    {
     "name": "stdout",
     "output_type": "stream",
     "text": [
      "0\n",
      "200\n"
     ]
    }
   ],
   "source": [
    "n=0\n",
    "e=0\n",
    "\n",
    "pd.options.display.float_format = '{:,.4f}'.format\n",
    "\n",
    "for i in xrange(samples):\n",
    "\n",
    "    try:\n",
    "        fname = \"Predictions_\" + company + \"_States_1\" + str(int(ids[i])) + \"_stats.csv\"\n",
    "        data = np.genfromtxt(os.path.join('./sims_final', fname), delimiter=',', dtype=None)\n",
    "        err = data[2]\n",
    "        var = data[4]\n",
    "        med = data[5]\n",
    "        stop = data[3]\n",
    "        avg_pr1 = data[0]\n",
    "        rp = data[1]\n",
    "        \n",
    "        if (err.size >1):\n",
    "            \n",
    "            stop = stop[-1]\n",
    "            rp = rp[-1]\n",
    "            \n",
    "            if (stop ==1):\n",
    "                stop = -1\n",
    "            else:\n",
    "                stop = int(np.log(threshold)/np.log(stop))\n",
    "                \n",
    "            err = err[stop]\n",
    "            var =  var[stop]\n",
    "            med = med[stop]\n",
    "            avg_pr1 = avg_pr1[stop]\n",
    "            \n",
    "        states[0][n] = err\n",
    "        states[2][n] = var\n",
    "        states[4][n] = med\n",
    "\n",
    "        \n",
    "        \n",
    "        \n",
    "        \n",
    "        \n",
    "        \n",
    "        fname = \"Predictions_\" + company + \"_States_5\" + str(int(ids[i])) + \"_stats.csv\"\n",
    "        data = np.genfromtxt(os.path.join('./sims_final', fname), delimiter=',', dtype=None)\n",
    "        err = data[2]\n",
    "        var = data[4]\n",
    "        med = data[5]\n",
    "        stop = data[3]\n",
    "        avg_pr5 = data[0]\n",
    "        \n",
    "        if (err.size >1):\n",
    "            \n",
    "            stop = stop[-1]\n",
    "            \n",
    "            if (stop ==1):\n",
    "                stop = -1\n",
    "            else:\n",
    "                stop = int(np.log(threshold)/np.log(stop))\n",
    "                \n",
    "            err = err[stop]\n",
    "            var =  var[stop]\n",
    "            med = med[stop]\n",
    "            avg_pr5 = avg_pr5[stop]\n",
    "        \n",
    "            \n",
    "        states[1][n] = err\n",
    "        states[3][n] = var\n",
    "        states[5][n] = med\n",
    "        \n",
    "        states[6][n] = rp\n",
    "        states[7][n] = avg_pr1\n",
    "        states[8][n] = avg_pr5\n",
    "\n",
    "        if (stop == -1):\n",
    "            stop = 1\n",
    "            \n",
    "        states[9][n] = stop\n",
    "        \n",
    "        better_worse  = 0\n",
    "        if (states[0][n] > states[1][n]):\n",
    "            better_worse = 1\n",
    "        if (states[0][n] < states[1][n]):\n",
    "            better_worse = -1\n",
    "        \n",
    "        states[10][n] = better_worse\n",
    "        \n",
    "        n=n+1\n",
    "\n",
    "    except:\n",
    "        \n",
    "        e = e+1\n",
    "    \n",
    "print (e)\n",
    "print (n)\n"
   ]
  },
  {
   "cell_type": "code",
   "execution_count": 174,
   "metadata": {
    "collapsed": false
   },
   "outputs": [],
   "source": [
    "dfr = pd.DataFrame({  \n",
    "                    'error 1 state' : states[0],\n",
    "                    'error 5 states' : states[1],\n",
    "                    'var 1 state' : states[2]/states[6],\n",
    "                    'var 5 states' : states[3]/states[6],\n",
    "                    'median 1 state' : states[4]-states[6],\n",
    "                    'median 5 states' : states[5]-states[6],\n",
    "                    'better or worse' : states[10]\n",
    "                     })"
   ]
  },
  {
   "cell_type": "code",
   "execution_count": 175,
   "metadata": {
    "collapsed": false
   },
   "outputs": [
    {
     "data": {
      "text/html": [
       "<div>\n",
       "<table border=\"1\" class=\"dataframe\">\n",
       "  <thead>\n",
       "    <tr style=\"text-align: right;\">\n",
       "      <th></th>\n",
       "      <th>better or worse</th>\n",
       "      <th>error 1 state</th>\n",
       "      <th>error 5 states</th>\n",
       "      <th>median 1 state</th>\n",
       "      <th>median 5 states</th>\n",
       "      <th>var 1 state</th>\n",
       "      <th>var 5 states</th>\n",
       "    </tr>\n",
       "  </thead>\n",
       "  <tbody>\n",
       "    <tr>\n",
       "      <th>193</th>\n",
       "      <td>-1.0000</td>\n",
       "      <td>-1.7291</td>\n",
       "      <td>-1.0773</td>\n",
       "      <td>-3.4355</td>\n",
       "      <td>-2.7233</td>\n",
       "      <td>0.0568</td>\n",
       "      <td>0.0141</td>\n",
       "    </tr>\n",
       "    <tr>\n",
       "      <th>194</th>\n",
       "      <td>-1.0000</td>\n",
       "      <td>5.3495</td>\n",
       "      <td>5.6609</td>\n",
       "      <td>0.6798</td>\n",
       "      <td>1.3224</td>\n",
       "      <td>0.2156</td>\n",
       "      <td>0.1512</td>\n",
       "    </tr>\n",
       "    <tr>\n",
       "      <th>195</th>\n",
       "      <td>-1.0000</td>\n",
       "      <td>-5.5120</td>\n",
       "      <td>-5.2848</td>\n",
       "      <td>-5.3991</td>\n",
       "      <td>-4.9239</td>\n",
       "      <td>0.2303</td>\n",
       "      <td>0.1622</td>\n",
       "    </tr>\n",
       "    <tr>\n",
       "      <th>196</th>\n",
       "      <td>-1.0000</td>\n",
       "      <td>-0.1021</td>\n",
       "      <td>0.7942</td>\n",
       "      <td>2.9914</td>\n",
       "      <td>4.0279</td>\n",
       "      <td>0.0894</td>\n",
       "      <td>0.0282</td>\n",
       "    </tr>\n",
       "    <tr>\n",
       "      <th>197</th>\n",
       "      <td>-1.0000</td>\n",
       "      <td>-6.4467</td>\n",
       "      <td>-6.2923</td>\n",
       "      <td>-9.9646</td>\n",
       "      <td>-9.5701</td>\n",
       "      <td>0.2138</td>\n",
       "      <td>0.1407</td>\n",
       "    </tr>\n",
       "    <tr>\n",
       "      <th>198</th>\n",
       "      <td>-1.0000</td>\n",
       "      <td>-4.8669</td>\n",
       "      <td>-4.6402</td>\n",
       "      <td>-5.0180</td>\n",
       "      <td>-4.3982</td>\n",
       "      <td>0.2187</td>\n",
       "      <td>0.1648</td>\n",
       "    </tr>\n",
       "    <tr>\n",
       "      <th>199</th>\n",
       "      <td>-1.0000</td>\n",
       "      <td>4.4542</td>\n",
       "      <td>5.0832</td>\n",
       "      <td>3.1949</td>\n",
       "      <td>3.8921</td>\n",
       "      <td>0.0603</td>\n",
       "      <td>0.0153</td>\n",
       "    </tr>\n",
       "  </tbody>\n",
       "</table>\n",
       "</div>"
      ],
      "text/plain": [
       "     better or worse  error 1 state  error 5 states  median 1 state  \\\n",
       "193          -1.0000        -1.7291         -1.0773         -3.4355   \n",
       "194          -1.0000         5.3495          5.6609          0.6798   \n",
       "195          -1.0000        -5.5120         -5.2848         -5.3991   \n",
       "196          -1.0000        -0.1021          0.7942          2.9914   \n",
       "197          -1.0000        -6.4467         -6.2923         -9.9646   \n",
       "198          -1.0000        -4.8669         -4.6402         -5.0180   \n",
       "199          -1.0000         4.4542          5.0832          3.1949   \n",
       "\n",
       "     median 5 states  var 1 state  var 5 states  \n",
       "193          -2.7233       0.0568        0.0141  \n",
       "194           1.3224       0.2156        0.1512  \n",
       "195          -4.9239       0.2303        0.1622  \n",
       "196           4.0279       0.0894        0.0282  \n",
       "197          -9.5701       0.2138        0.1407  \n",
       "198          -4.3982       0.2187        0.1648  \n",
       "199           3.8921       0.0603        0.0153  "
      ]
     },
     "execution_count": 175,
     "metadata": {},
     "output_type": "execute_result"
    }
   ],
   "source": [
    "dfr.tail(7)"
   ]
  },
  {
   "cell_type": "code",
   "execution_count": 176,
   "metadata": {
    "collapsed": false
   },
   "outputs": [
    {
     "data": {
      "text/html": [
       "<div>\n",
       "<table border=\"1\" class=\"dataframe\">\n",
       "  <thead>\n",
       "    <tr style=\"text-align: right;\">\n",
       "      <th></th>\n",
       "      <th>better or worse</th>\n",
       "      <th>error 1 state</th>\n",
       "      <th>error 5 states</th>\n",
       "      <th>median 1 state</th>\n",
       "      <th>median 5 states</th>\n",
       "      <th>var 1 state</th>\n",
       "      <th>var 5 states</th>\n",
       "    </tr>\n",
       "  </thead>\n",
       "  <tbody>\n",
       "    <tr>\n",
       "      <th>count</th>\n",
       "      <td>200.0000</td>\n",
       "      <td>200.0000</td>\n",
       "      <td>200.0000</td>\n",
       "      <td>200.0000</td>\n",
       "      <td>200.0000</td>\n",
       "      <td>200.0000</td>\n",
       "      <td>200.0000</td>\n",
       "    </tr>\n",
       "    <tr>\n",
       "      <th>mean</th>\n",
       "      <td>-0.9600</td>\n",
       "      <td>-1.6280</td>\n",
       "      <td>-1.2710</td>\n",
       "      <td>-2.2156</td>\n",
       "      <td>-1.6481</td>\n",
       "      <td>0.1661</td>\n",
       "      <td>0.1123</td>\n",
       "    </tr>\n",
       "    <tr>\n",
       "      <th>std</th>\n",
       "      <td>0.2807</td>\n",
       "      <td>3.3404</td>\n",
       "      <td>3.4879</td>\n",
       "      <td>3.6140</td>\n",
       "      <td>3.7519</td>\n",
       "      <td>0.0798</td>\n",
       "      <td>0.0741</td>\n",
       "    </tr>\n",
       "  </tbody>\n",
       "</table>\n",
       "</div>"
      ],
      "text/plain": [
       "       better or worse  error 1 state  error 5 states  median 1 state  \\\n",
       "count         200.0000       200.0000        200.0000        200.0000   \n",
       "mean           -0.9600        -1.6280         -1.2710         -2.2156   \n",
       "std             0.2807         3.3404          3.4879          3.6140   \n",
       "\n",
       "       median 5 states  var 1 state  var 5 states  \n",
       "count         200.0000     200.0000      200.0000  \n",
       "mean           -1.6481       0.1661        0.1123  \n",
       "std             3.7519       0.0798        0.0741  "
      ]
     },
     "execution_count": 176,
     "metadata": {},
     "output_type": "execute_result"
    }
   ],
   "source": [
    "dfr.describe()[:3]"
   ]
  },
  {
   "cell_type": "code",
   "execution_count": 177,
   "metadata": {
    "collapsed": false
   },
   "outputs": [],
   "source": [
    "d1 = dfr['error 1 state']\n",
    "d2 = dfr['error 5 states']\n",
    "d3 = dfr['var 1 state']\n",
    "d4 = dfr['var 5 states']\n",
    "d5 = dfr['median 1 state']\n",
    "d6 = dfr['median 5 states']\n"
   ]
  },
  {
   "cell_type": "code",
   "execution_count": 178,
   "metadata": {
    "collapsed": false
   },
   "outputs": [
    {
     "data": {
      "image/png": "[encoded data removed]",
      "text/plain": [
       "<matplotlib.figure.Figure at 0xb775cd0>"
      ]
     },
     "metadata": {},
     "output_type": "display_data"
    }
   ],
   "source": [
    "import matplotlib.pyplot as plt\n",
    "from matplotlib.patches import Polygon\n",
    "\n",
    "%matplotlib inline\n",
    "plt.figure(figsize=(9, 9))\n",
    "data = [d1,d2]\n",
    "box = plt.boxplot(data, 0, '',widths=0.5, patch_artist=True);\n",
    "plt.xticks([1,2], ['error 1 state', 'error 5 states']);\n",
    "\n",
    "colors = ['lightgreen', 'lightblue']\n",
    "for patch, color in zip(box['boxes'], colors):\n",
    "    patch.set_facecolor(color)\n",
    "    \n",
    "plt.savefig('Accuracy to Percentage.png', bbox_inches='tight')"
   ]
  },
  {
   "cell_type": "code",
   "execution_count": 179,
   "metadata": {
    "collapsed": true
   },
   "outputs": [],
   "source": [
    "#z_stat, p_val = stats.ranksums(d1,d2)"
   ]
  },
  {
   "cell_type": "code",
   "execution_count": 180,
   "metadata": {
    "collapsed": false
   },
   "outputs": [],
   "source": [
    "#print (p_val)"
   ]
  },
  {
   "cell_type": "code",
   "execution_count": 181,
   "metadata": {
    "collapsed": false
   },
   "outputs": [],
   "source": [
    "p_val1 = stats.wilcoxon(d1,d2, zero_method='wilcox', correction=False)[1]\n",
    "p_val2 = stats.wilcoxon(d3,d4, zero_method='wilcox', correction=False)[1]\n",
    "p_val3 = stats.wilcoxon(d5,d6, zero_method='wilcox', correction=False)[1]\n",
    "\n"
   ]
  },
  {
   "cell_type": "code",
   "execution_count": 182,
   "metadata": {
    "collapsed": false
   },
   "outputs": [
    {
     "name": "stdout",
     "output_type": "stream",
     "text": [
      "('P-value 1 ', 1.4066170475483968e-29)\n",
      "('P-value 2 ', 1.4066170475483968e-29)\n",
      "('P-value 3 ', 1.4066170475483968e-29)\n"
     ]
    }
   ],
   "source": [
    "print(\"P-value 1 \", p_val1) # Used because data is paired ! :D\n",
    "print(\"P-value 2 \", p_val2)\n",
    "print(\"P-value 3 \", p_val3)\n",
    "\n"
   ]
  },
  {
   "cell_type": "code",
   "execution_count": 183,
   "metadata": {
    "collapsed": false
   },
   "outputs": [],
   "source": [
    "def prob_graph(threshold):\n",
    "    n=0\n",
    "    for i in xrange(samples):\n",
    "\n",
    "        try:\n",
    "            fname = \"Predictions_\" + company + \"_States_1\" + str(int(ids[i])) + \"_stats.csv\"\n",
    "            data = np.genfromtxt(os.path.join('./sims_final', fname), delimiter=',', dtype=None)\n",
    "            err = data[2]\n",
    "            var = data[4]\n",
    "            med = data[5]\n",
    "            stop = data[3]\n",
    "            avg_pr1 = data[0]\n",
    "            rp = data[1]\n",
    "\n",
    "            if (err.size >1):\n",
    "\n",
    "                stop = stop[-1]\n",
    "                rp = rp[-1]\n",
    "\n",
    "                if (stop ==1):\n",
    "                    stop = -1\n",
    "                else:\n",
    "                    stop = int(np.log(threshold)/np.log(stop))\n",
    "\n",
    "                err = err[stop]\n",
    "                var =  var[stop]\n",
    "                med = med[stop]\n",
    "                avg_pr1 = avg_pr1[stop]\n",
    "\n",
    "            states[0][n] = err\n",
    "            states[2][n] = var\n",
    "            states[4][n] = med\n",
    "\n",
    "\n",
    "\n",
    "            fname = \"Predictions_\" + company + \"_States_5\" + str(int(ids[i])) + \"_stats.csv\"\n",
    "            data = np.genfromtxt(os.path.join('./sims_final', fname), delimiter=',', dtype=None)\n",
    "            err = data[2]\n",
    "            var = data[4]\n",
    "            med = data[5]\n",
    "            stop = data[3]\n",
    "            avg_pr5 = data[0]\n",
    "\n",
    "            if (err.size >1):\n",
    "\n",
    "                stop = stop[-1]\n",
    "\n",
    "                if (stop ==1):\n",
    "                    stop = -1\n",
    "                else:\n",
    "                    stop = int(np.log(threshold)/np.log(stop))\n",
    "\n",
    "                err = err[stop]\n",
    "                var =  var[stop]\n",
    "                med = med[stop]\n",
    "                avg_pr5 = avg_pr5[stop]\n",
    "\n",
    "\n",
    "            states[1][n] = err\n",
    "            states[3][n] = var\n",
    "            states[5][n] = med\n",
    "\n",
    "            states[6][n] = rp\n",
    "            states[7][n] = avg_pr1\n",
    "            states[8][n] = avg_pr5\n",
    "            \n",
    "            if (stop == -1):\n",
    "                stop = 1\n",
    "            \n",
    "            states[9][n] = stop\n",
    "            stop_avg = np.mean(states[9])\n",
    "\n",
    "            n=n+1\n",
    "\n",
    "        except:\n",
    "\n",
    "            pass\n",
    "    \n",
    "    \n",
    "    mse =  (np.sqrt(np.average(np.square(states[0]))), \n",
    "            np.sqrt(np.average(np.square(states[1]))), stop_avg + 1)\n",
    "    \n",
    "    #tmp =  (np.average(np.absolute(states[0])), \n",
    "    #    np.average(np.absolute(states[1])), stop_avg + 1)\n",
    "    \n",
    "    return mse\n",
    "\n",
    "    #return np.mean(np.absolute(states[0])), np.mean(np.absolute(states[1])), stop_avg"
   ]
  },
  {
   "cell_type": "code",
   "execution_count": 184,
   "metadata": {
    "collapsed": false
   },
   "outputs": [
    {
     "data": {
      "text/plain": [
       "(3.7084882187705541, 3.7040557069168765, 12.205)"
      ]
     },
     "execution_count": 184,
     "metadata": {},
     "output_type": "execute_result"
    }
   ],
   "source": [
    "prob_graph(.25)"
   ]
  },
  {
   "cell_type": "code",
   "execution_count": 185,
   "metadata": {
    "collapsed": true
   },
   "outputs": [],
   "source": [
    "def prob_graph1(x):\n",
    "    return [prob_graph(e)[0] for e in x]"
   ]
  },
  {
   "cell_type": "code",
   "execution_count": 186,
   "metadata": {
    "collapsed": true
   },
   "outputs": [],
   "source": [
    "def prob_graph5(x):\n",
    "    return [prob_graph(e)[1] for e in x]"
   ]
  },
  {
   "cell_type": "code",
   "execution_count": 187,
   "metadata": {
    "collapsed": true
   },
   "outputs": [],
   "source": [
    "def stop_days(x):\n",
    "    return [prob_graph(e)[2] for e in x]"
   ]
  },
  {
   "cell_type": "code",
   "execution_count": 188,
   "metadata": {
    "collapsed": false,
    "scrolled": false
   },
   "outputs": [
    {
     "data": {
      "image/png": "[encoded data removed]",
      "text/plain": [
       "<matplotlib.figure.Figure at 0xb67c330>"
      ]
     },
     "metadata": {},
     "output_type": "display_data"
    }
   ],
   "source": [
    "%matplotlib inline\n",
    "\n",
    "import matplotlib.pyplot as plt\n",
    "x = np.linspace(0.2,.8,100)\n",
    "plt.figure(figsize=(13, 9))\n",
    "plt.title(\"Accuracy as probability of being in starting state\")\n",
    "plt.ylabel(\"MSE\")\n",
    "plt.xlabel(\"Probability\")\n",
    "plt.plot(x,prob_graph1(x),'r', label='1-state')\n",
    "plt.plot(x,prob_graph5(x),'g', label='5-states') \n",
    "\n",
    "plt.legend(loc='best', shadow=True)\n",
    "plt.show()\n"
   ]
  },
  {
   "cell_type": "code",
   "execution_count": 189,
   "metadata": {
    "collapsed": false
   },
   "outputs": [
    {
     "data": {
      "image/png": "[encoded data removed]",
      "text/plain": [
       "<matplotlib.figure.Figure at 0xb775d30>"
      ]
     },
     "metadata": {},
     "output_type": "display_data"
    }
   ],
   "source": [
    "%matplotlib inline\n",
    "\n",
    "import matplotlib.pyplot as plt\n",
    "x = np.linspace(0.2,.8,20)\n",
    "plt.figure(figsize=(13, 9))\n",
    "plt.title(\"Average days as function of probability of being in starting state\")\n",
    "plt.ylabel(\"Average days\")\n",
    "plt.xlabel(\"Probability\")\n",
    "plt.plot(x,stop_days(x),'b', label='days')\n",
    "\n",
    "\n",
    "plt.legend(loc='best', shadow=True)\n",
    "plt.show()"
   ]
  },
  {
   "cell_type": "code",
   "execution_count": null,
   "metadata": {
    "collapsed": true
   },
   "outputs": [],
   "source": []
  }
 ],
 "metadata": {
  "kernelspec": {
   "display_name": "Python [Root]",
   "language": "python",
   "name": "Python [Root]"
  },
  "language_info": {
   "codemirror_mode": {
    "name": "ipython",
    "version": 2
   },
   "file_extension": ".py",
   "mimetype": "text/x-python",
   "name": "python",
   "nbconvert_exporter": "python",
   "pygments_lexer": "ipython2",
   "version": "2.7.12"
  }
 },
 "nbformat": 4,
 "nbformat_minor": 0
}
