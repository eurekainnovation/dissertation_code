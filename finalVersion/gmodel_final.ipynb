{
 "cells": [
  {
   "cell_type": "code",
   "execution_count": 2,
   "metadata": {
    "collapsed": false
   },
   "outputs": [],
   "source": [
    "from __future__ import print_function\n",
    "import datetime, time\n",
    "from sklearn.externals import joblib\n",
    "import numpy as np\n",
    "import os\n",
    "import warnings\n",
    "from matplotlib.dates import YearLocator, MonthLocator\n",
    "\n",
    "try:\n",
    "    from matplotlib.finance import quotes_historical_yahoo_ochl\n",
    "except ImportError:\n",
    "    # Matplotlib prior to 1.5.\n",
    "    from matplotlib.finance import (\n",
    "        quotes_historical_yahoo as quotes_historical_yahoo_ochl\n",
    "    )\n",
    "\n",
    "from hmmlearn.hmm import GaussianHMM\n",
    "\n",
    "warnings.filterwarnings('ignore') # Get rid of some annoying divide by zero in log warnings"
   ]
  },
  {
   "cell_type": "code",
   "execution_count": 3,
   "metadata": {
    "collapsed": false,
    "scrolled": false
   },
   "outputs": [],
   "source": [
    "def cmodel(company, dt1, dt2, num_of_states):\n",
    "    \n",
    "    quotes = quotes_historical_yahoo_ochl(company, dt1, dt2) #Here we set the time range\n",
    "\n",
    "    # Unpack the quotes !\n",
    "    dates = np.array([q[0] for q in quotes], dtype=int)\n",
    "    close_v = np.array([q[2] for q in quotes])\n",
    "\n",
    "    # Take diff of close value and shift by 1\n",
    "    \n",
    "    diff = np.diff(close_v)  \n",
    "    \n",
    "    dates = dates[1:]\n",
    "    close_v = close_v[1:]\n",
    "    \n",
    "    # Pack diff for training.\n",
    "    X = np.column_stack([diff])\n",
    "\n",
    "    # Create HMM instance and fit \n",
    "    model = GaussianHMM(n_components=num_of_states, covariance_type=\"full\", n_iter=1000).fit(X)\n",
    "    #print (\"Model Covars: \", model.covars_)\n",
    "\n",
    "    expected_days = 1\n",
    "    tr_mls = 1\n",
    "    \n",
    "    if (num_of_states > 1):\n",
    "        #Identify the most likely last hidden state\n",
    "        \n",
    "        try:\n",
    "            hidden_probs = model.predict_proba(X)\n",
    "        except:\n",
    "            model = GaussianHMM(n_components=num_of_states, covariance_type=\"diag\", n_iter=1000).fit(X)\n",
    "            hidden_probs = model.predict_proba(X)\n",
    "            \n",
    "        lstate_prob = hidden_probs[-1] \n",
    "        mls = lstate_prob.argmax()\n",
    "\n",
    "        # self transition probability for the most likely last hidden state\n",
    "        tr_mls = model.transmat_[mls][mls]\n",
    "\n",
    "        # we make use of the geometric series formula to calculate the number\n",
    "        # of days expected to stay at the current state\n",
    "        expected_days = (1.0 / (1 - tr_mls))\n",
    "    \n",
    "    # we save the model for future use\n",
    "    fname = str(company)+\"_\"+str(num_of_states)+\"_states_model_final.pkl\"\n",
    "    joblib.dump(model, os.path.join('./sims_final', fname)) \n",
    "    \n",
    "    #return expected days\n",
    "    return expected_days, tr_mls"
   ]
  }
 ],
 "metadata": {
  "kernelspec": {
   "display_name": "Python [Root]",
   "language": "python",
   "name": "Python [Root]"
  },
  "language_info": {
   "codemirror_mode": {
    "name": "ipython",
    "version": 2
   },
   "file_extension": ".py",
   "mimetype": "text/x-python",
   "name": "python",
   "nbconvert_exporter": "python",
   "pygments_lexer": "ipython2",
   "version": "2.7.12"
  }
 },
 "nbformat": 4,
 "nbformat_minor": 0
}
