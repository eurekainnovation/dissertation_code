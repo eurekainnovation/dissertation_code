{
 "cells": [
  {
   "cell_type": "code",
   "execution_count": null,
   "metadata": {
    "collapsed": false
   },
   "outputs": [],
   "source": [
    "import matplotlib.pyplot as plt\n",
    "%matplotlib inline\n",
    "\n",
    "\n",
    "import datetime, time\n",
    "import numpy as np\n",
    "import pandas as pd\n",
    "from scipy import stats\n",
    "import os\n",
    "import subprocess"
   ]
  },
  {
   "cell_type": "code",
   "execution_count": null,
   "metadata": {
    "collapsed": false
   },
   "outputs": [],
   "source": [
    "states = 5\n",
    "days = 10\n",
    "\n",
    "sp = np.genfromtxt(os.path.join('./sims1', 'companies_final.csv'), delimiter=',', dtype=None)\n",
    "tickers = sp[:,0]\n",
    "t = tickers[0:]\n",
    "samples = t.size\n",
    "m=np.zeros(samples)\n",
    "r=np.zeros(samples)\n",
    "v=np.zeros(samples)\n",
    "p=np.zeros(samples)\n",
    "l=np.zeros(samples)\n",
    "ml=np.zeros(samples)"
   ]
  },
  {
   "cell_type": "code",
   "execution_count": null,
   "metadata": {
    "collapsed": false
   },
   "outputs": [],
   "source": [
    "\n",
    "print (t)"
   ]
  },
  {
   "cell_type": "code",
   "execution_count": null,
   "metadata": {
    "collapsed": false
   },
   "outputs": [],
   "source": [
    "i=0\n",
    "pd.options.display.float_format = '{:,.4f}'.format\n",
    "for company in t:\n",
    "    fname = company +\"_\"+ str(states) + \"_\" + str(days) + \"_kdes.csv\"\n",
    "    dfrtmp = pd.read_csv(os.path.join('./sims1', fname))\n",
    "    #print (dfrtmp)\n",
    "    #print(dfrtmp.at[0,'E']) #MLS\n",
    "    m[i] = dfrtmp.at[0,'E']\n",
    "    #print(dfrtmp.at[1,'E']) #RAND\n",
    "    r[i] = dfrtmp.at[1,'E']\n",
    "    #print(dfrtmp.at[2,'E']) #MLS\n",
    "    v[i] = dfrtmp.at[2,'E']\n",
    "    #print(dfrtmp.at[3,'E']) #MLS\n",
    "    p[i] = dfrtmp.at[3,'E']\n",
    "    #print(dfrtmp.at[4,'E']) #MLS\n",
    "    l[i] = dfrtmp.at[4,'E']\n",
    "    #print(dfrtmp.at[5,'E']) #MLS\n",
    "    ml[i] = dfrtmp.at[5,'E']\n",
    "    i=i+1"
   ]
  },
  {
   "cell_type": "code",
   "execution_count": null,
   "metadata": {
    "collapsed": false
   },
   "outputs": [],
   "source": [
    "dfr = pd.DataFrame({  #\"MLS\", \"Rand\",\"Vtr\",\"Psd\",\"Lls\",\"Mlns\n",
    "                    'MLS' : m,\n",
    "                    'RAND' : r,\n",
    "                    'VTR' : v,\n",
    "                    'PSD' : p,\n",
    "                    'LLS' : l,\n",
    "                    'MLNS' : ml,        \n",
    "                     })"
   ]
  },
  {
   "cell_type": "code",
   "execution_count": null,
   "metadata": {
    "collapsed": false
   },
   "outputs": [],
   "source": [
    "dfr.tail(3)"
   ]
  },
  {
   "cell_type": "code",
   "execution_count": null,
   "metadata": {
    "collapsed": false
   },
   "outputs": [],
   "source": [
    "dfr.describe()[:3]"
   ]
  },
  {
   "cell_type": "code",
   "execution_count": null,
   "metadata": {
    "collapsed": false
   },
   "outputs": [],
   "source": [
    "import matplotlib.pyplot as plt\n",
    "%matplotlib inline\n",
    "plt.figure(figsize=(9, 6))\n",
    "data = [l,ml,m,p,r,v]\n",
    "plt.boxplot(data, 0, '',widths=0.75);\n",
    "plt.xticks([1, 2, 3,4,5,6], ['LLS', 'MLNS', 'MLS', 'PSD', 'RAND', 'VTR']);\n",
    "plt.ylabel(\"Gaussian KDE @real price\")\n",
    "plt.savefig('boxplot_starting_states.png', bbox_inches='tight')"
   ]
  },
  {
   "cell_type": "code",
   "execution_count": null,
   "metadata": {
    "collapsed": false
   },
   "outputs": [],
   "source": []
  },
  {
   "cell_type": "code",
   "execution_count": null,
   "metadata": {
    "collapsed": false
   },
   "outputs": [],
   "source": [
    "d1 = dfr['MLS']\n",
    "d2 = dfr['RAND']\n",
    "d3 = dfr['LLS']\n",
    "d4 = dfr['PSD']\n",
    "d5 = dfr['VTR']\n",
    "d6 = dfr['MLNS']"
   ]
  },
  {
   "cell_type": "code",
   "execution_count": null,
   "metadata": {
    "collapsed": true
   },
   "outputs": [],
   "source": [
    "#z_stat, p_val = stats.ranksums(d1,d2)"
   ]
  },
  {
   "cell_type": "code",
   "execution_count": null,
   "metadata": {
    "collapsed": false
   },
   "outputs": [],
   "source": [
    "#print (p_val)"
   ]
  },
  {
   "cell_type": "code",
   "execution_count": null,
   "metadata": {
    "collapsed": true
   },
   "outputs": [],
   "source": [
    "p_val1 = stats.wilcoxon(d1,d2, zero_method='wilcox', correction=False)[1]\n",
    "p_val2 = stats.wilcoxon(d1,d3, zero_method='wilcox', correction=False)[1]\n",
    "p_val3 = stats.wilcoxon(d1,d4, zero_method='wilcox', correction=False)[1]\n",
    "p_val4 = stats.wilcoxon(d1,d5, zero_method='wilcox', correction=False)[1]\n",
    "p_val5 = stats.wilcoxon(d1,d6, zero_method='wilcox', correction=False)[1]"
   ]
  },
  {
   "cell_type": "code",
   "execution_count": null,
   "metadata": {
    "collapsed": false
   },
   "outputs": [],
   "source": [
    "print(\"P-value comparison between MLS and RAND: \", p_val1) # Used because data is paired  :D\n",
    "print(\"P-value comparison between MLS and LLS: \", p_val2)\n",
    "print(\"P-value comparison between MLS and PSD: \", p_val3)\n",
    "print(\"P-value comparison between MLS and VTR: \", p_val4)\n",
    "print(\"P-value comparison between MLS and MLNS: \", p_val5)"
   ]
  },
  {
   "cell_type": "code",
   "execution_count": null,
   "metadata": {
    "collapsed": false
   },
   "outputs": [],
   "source": [
    "filename = \"Table_Comparison_\" + str(states) + \"_States_\" + str(days) + \"Days\" + '.tex'\n",
    "\n",
    "template = r'''\\documentclass[preview]{{standalone}}\n",
    "\\usepackage{{booktabs}}\n",
    "\\begin{{document}}\n",
    "{}\n",
    "\\end{{document}}\n",
    "'''\n",
    "\n",
    "with open(filename, 'wb') as f:\n",
    "    f.write(template.format(dfr.describe()[:3].to_latex()))\n",
    "\n",
    "subprocess.call(['pdflatex', filename])"
   ]
  },
  {
   "cell_type": "code",
   "execution_count": null,
   "metadata": {
    "collapsed": false
   },
   "outputs": [],
   "source": [
    "pd.options.display.float_format = '{:,.6f}'.format\n",
    "dfr_pvalues =  pd.DataFrame({       \n",
    "                    '': pd.Categorical([\"MLS vs.\"]),\n",
    "                    'RAND':p_val1,\n",
    "                    'LLS':p_val2,\n",
    "                    'PSD':p_val3,\n",
    "                    'VTR':p_val4,\n",
    "                    'MLNS':p_val5,\n",
    "                    \n",
    "                     }, index=['p-value'])\n",
    "#'D':np.array([0] * 2,dtype='int32'),"
   ]
  },
  {
   "cell_type": "code",
   "execution_count": null,
   "metadata": {
    "collapsed": false
   },
   "outputs": [],
   "source": [
    "dfr_pvalues"
   ]
  },
  {
   "cell_type": "code",
   "execution_count": null,
   "metadata": {
    "collapsed": false
   },
   "outputs": [],
   "source": [
    "filename = \"Pvalues_Comparison_\" + str(states) + \"_States_\" + str(days) + \"Days\" + '.tex'\n",
    "\n",
    "template = r'''\\documentclass[preview]{{standalone}}\n",
    "\\usepackage{{booktabs}}\n",
    "\\begin{{document}}\n",
    "{}\n",
    "\\end{{document}}\n",
    "'''\n",
    "\n",
    "with open(filename, 'wb') as f:\n",
    "    f.write(template.format(dfr_pvalues.to_latex()))\n",
    "\n",
    "subprocess.call(['pdflatex', filename])"
   ]
  }
 ],
 "metadata": {
  "kernelspec": {
   "display_name": "Python [Root]",
   "language": "python",
   "name": "Python [Root]"
  },
  "language_info": {
   "codemirror_mode": {
    "name": "ipython",
    "version": 2
   },
   "file_extension": ".py",
   "mimetype": "text/x-python",
   "name": "python",
   "nbconvert_exporter": "python",
   "pygments_lexer": "ipython2",
   "version": "2.7.12"
  }
 },
 "nbformat": 4,
 "nbformat_minor": 0
}
