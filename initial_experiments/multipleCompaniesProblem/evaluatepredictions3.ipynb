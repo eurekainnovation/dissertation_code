{
 "cells": [
  {
   "cell_type": "code",
   "execution_count": 1,
   "metadata": {
    "collapsed": false
   },
   "outputs": [],
   "source": [
    "import datetime, time\n",
    "import numpy as np\n",
    "import pandas as pd\n",
    "from scipy import stats\n",
    "import os\n",
    "import subprocess"
   ]
  },
  {
   "cell_type": "code",
   "execution_count": 2,
   "metadata": {
    "collapsed": false
   },
   "outputs": [],
   "source": [
    "\n",
    "days = '10days'\n",
    "#days = '90days'\n",
    "#days = 'year'\n",
    "\n",
    "sp = np.genfromtxt(os.path.join('./sims3', 'companies_final.csv'), delimiter=',', dtype=None)\n"
   ]
  },
  {
   "cell_type": "code",
   "execution_count": 3,
   "metadata": {
    "collapsed": false
   },
   "outputs": [],
   "source": [
    "tickers = sp[:,0]\n",
    "industries = sp[:,1]\n",
    "\n",
    "samples = tickers.size\n",
    "states = []\n",
    "for i in range(0,10):\n",
    "    states.append(np.zeros(samples))"
   ]
  },
  {
   "cell_type": "code",
   "execution_count": 4,
   "metadata": {
    "collapsed": true
   },
   "outputs": [],
   "source": [
    "\n",
    "ticker_sub = tickers[:samples]\n",
    "industry_sub = industries[:samples]\n",
    "\n",
    "companies_sub = np.vstack((ticker_sub,industry_sub))"
   ]
  },
  {
   "cell_type": "code",
   "execution_count": 5,
   "metadata": {
    "collapsed": false
   },
   "outputs": [
    {
     "data": {
      "text/plain": [
       "array(['MMM', 'ABT', 'ACN', 'ATVI', 'AET', 'AMG', 'A', 'APD', 'AKAM',\n",
       "       'ALK', 'ALB', 'AA', 'AGN', 'ADS', 'LNT', 'ALL', 'GOOGL', 'GOOG',\n",
       "       'MO', 'AMZN', 'AEE', 'AAL', 'AEP', 'AXP', 'AIG', 'AMT', 'AMP',\n",
       "       'ABC', 'AME', 'AMGN', 'APH', 'APC', 'ADI', 'AON', 'APA', 'AIV',\n",
       "       'AAPL', 'AMAT', 'ADM', 'AJG', 'AIZ', 'T', 'ADSK', 'AN', 'AZO',\n",
       "       'AVB', 'AVY', 'BHI', 'BLL', 'BAC', 'BCR', 'BAX', 'BBT', 'BDX',\n",
       "       'BBBY', 'BRK-B', 'BBY', 'BIIB', 'BLK', 'HRB', 'BA', 'BWA', 'BXP',\n",
       "       'BSX', 'BMY', 'BF-B', 'CHRW', 'CA', 'COG', 'CPB', 'COF', 'CAH',\n",
       "       'KMX', 'CCL', 'CAT', 'CBG', 'CBS', 'CELG', 'CNC', 'CNP', 'CTL',\n",
       "       'CERN', 'CF', 'SCHW', 'CHK', 'CVX', 'CB', 'CHD', 'CI', 'XEC',\n",
       "       'CINF', 'CTAS', 'CSCO', 'C', 'CTXS', 'CME', 'CMS', 'COH', 'CTSH',\n",
       "       'CL', 'CMCSA', 'CMA', 'CAG', 'CXO', 'COP', 'ED', 'STZ', 'GLW',\n",
       "       'COST', 'CCI', 'CSX', 'CMI', 'CVS', 'DHI', 'DHR', 'DRI', 'DVA',\n",
       "       'DE', 'DAL', 'XRAY', 'DVN', 'DO', 'DLR', 'DFS', 'DISCA', 'DLTR',\n",
       "       'D', 'DOV', 'DOW', 'DPS', 'DTE', 'DD', 'DUK', 'DNB', 'EMN', 'ETN',\n",
       "       'EBAY', 'ECL', 'EIX', 'EW', 'EA', 'EMC', 'EMR', 'ETR', 'EOG', 'EQT',\n",
       "       'EFX', 'EQR', 'ESS', 'EL', 'ES', 'EXC', 'EXPE', 'EXPD', 'ESRX',\n",
       "       'EXR', 'XOM', 'FFIV', 'FAST', 'FRT', 'FDX', 'FIS', 'FITB', 'FSLR',\n",
       "       'FE', 'FISV', 'FLIR', 'FLS', 'FLR', 'FMC', 'FTI', 'FL', 'F', 'BEN',\n",
       "       'FCX', 'FTR', 'GPS', 'GRMN', 'GD', 'GE', 'GGP', 'GIS', 'GPC', 'GPN',\n",
       "       'GS', 'GT', 'GWW', 'HAL', 'HBI', 'HOG', 'HAR', 'HRS', 'HIG', 'HAS',\n",
       "       'HCP', 'HP', 'HSIC', 'HES', 'HOLX', 'HD', 'HON', 'HRL', 'HST',\n",
       "       'HPQ', 'HUM', 'ITW', 'ILMN', 'IR', 'INTC', 'IBM', 'IP', 'IPG',\n",
       "       'IFF', 'INTU', 'ISRG', 'IVZ', 'IRM', 'JBHT', 'JEC', 'JNJ', 'JCI',\n",
       "       'JPM', 'JNPR', 'K', 'KEY', 'KMB', 'KIM', 'KLAC', 'KSS', 'KR', 'LB',\n",
       "       'LLL', 'LH', 'LRCX', 'LM', 'LEG', 'LEN', 'LUK', 'LVLT', 'LLY',\n",
       "       'LNC', 'LLTC', 'LKQ', 'LMT', 'L', 'LOW', 'MTB', 'MAC', 'M', 'MRO',\n",
       "       'MAR', 'MMC', 'MLM', 'MAS', 'MA', 'MAT', 'MKC', 'MCD', 'MCK', 'MDT',\n",
       "       'MRK', 'MET', 'MCHP', 'MU', 'MSFT', 'MHK', 'TAP', 'MDLZ', 'MON',\n",
       "       'MCO', 'MS', 'MSI', 'MUR', 'MYL', 'NDAQ', 'NOV', 'NTAP', 'NFLX',\n",
       "       'NWL', 'NFX', 'NEM', 'NKE', 'NI', 'NBL', 'JWN', 'NSC', 'NTRS',\n",
       "       'NOC', 'NRG', 'NUE', 'NVDA', 'ORLY', 'OXY', 'OMC', 'OKE', 'ORCL',\n",
       "       'OI', 'PCAR', 'PH', 'PDCO', 'PAYX', 'PNR', 'PBCT', 'PKI', 'PRGO',\n",
       "       'PFE', 'PCG', 'PNW', 'PXD', 'PBI', 'PNC', 'RL', 'PPG', 'PPL', 'PX',\n",
       "       'PCLN', 'PFG', 'PGR', 'PLD', 'PRU', 'PEG', 'PSA', 'PHM', 'PVH',\n",
       "       'QCOM', 'PWR', 'DGX', 'RRC', 'RTN', 'O', 'RHT', 'REGN', 'RF', 'RSG',\n",
       "       'RHI', 'ROK', 'COL', 'ROP', 'ROST', 'RCL', 'R', 'SPGI', 'CRM',\n",
       "       'SCG', 'SLB', 'STX', 'SEE', 'SRE', 'SHW', 'SIG', 'SPG', 'SWKS',\n",
       "       'SLG', 'SNA', 'SO', 'LUV', 'SWN', 'SE', 'STJ', 'SPLS', 'SBUX',\n",
       "       'HOT', 'STT', 'SRCL', 'SYK', 'STI', 'SYMC', 'TROW', 'TGT', 'TGNA',\n",
       "       'TDC', 'TSO', 'TXT', 'BK', 'TRV', 'DIS', 'TMO', 'TIF', 'TJX', 'TMK',\n",
       "       'TSCO', 'TDG', 'RIG', 'FOXA', 'FOX', 'USB', 'UDR', 'ULTA', 'UNP',\n",
       "       'UAL', 'UNH', 'UPS', 'URI', 'UTX', 'UHS', 'UNM', 'URBN', 'VFC',\n",
       "       'VLO', 'VAR', 'VTR', 'VRSK', 'VZ', 'VRTX', 'VIAB', 'VNO', 'VMC',\n",
       "       'WM', 'WAT', 'WFC', 'HCN', 'WY', 'WHR', 'WMB', 'WEC', 'WYN', 'WYNN',\n",
       "       'XEL'], \n",
       "      dtype='|S27')"
      ]
     },
     "execution_count": 5,
     "metadata": {},
     "output_type": "execute_result"
    }
   ],
   "source": [
    "companies_sub[0,:]"
   ]
  },
  {
   "cell_type": "code",
   "execution_count": 6,
   "metadata": {
    "collapsed": false
   },
   "outputs": [
    {
     "name": "stdout",
     "output_type": "stream",
     "text": [
      "0\n",
      "418\n"
     ]
    }
   ],
   "source": [
    "n=0\n",
    "e=0\n",
    "error_companies = []\n",
    "final_companies = []\n",
    "final_companies_ind = []\n",
    "pd.options.display.float_format = '{:,.4f}'.format\n",
    "\n",
    "for t,i in zip(companies_sub[0,:],companies_sub[1,:]):\n",
    "    try:\n",
    "        fname = t +\"_\"+ i + \"_\" + str(days) + \"_kdes_adv.csv\"\n",
    "        dfrtmp = pd.read_csv(os.path.join('./sims3', fname))\n",
    "        for s in range(0,9):\n",
    "            states[s][n] = dfrtmp.at[s,'D']\n",
    "        n=n+1\n",
    "        final_companies.append(t)\n",
    "        final_companies_ind.append(i)\n",
    "    except:\n",
    "        e = e+1\n",
    "        #print (t,i)\n",
    "        error_companies.append(t)\n",
    "    \n",
    "print (e)\n",
    "print (n)\n",
    "#ec = np.array((error_companies))\n",
    "#fc1 = np.array((final_companies))\n",
    "#fc2 = np.array((final_companies_ind))\n",
    "#fc = np.vstack((fc1,fc2))\n",
    "#fc=fc.T\n",
    "#print fc\n",
    "#for i in range(0,10):\n",
    "#    states[i] = states[i][:n]\n",
    "#np.savetxt('companies_final.csv',fc,delimiter=',',fmt=\"%s\")"
   ]
  },
  {
   "cell_type": "code",
   "execution_count": 7,
   "metadata": {
    "collapsed": false
   },
   "outputs": [],
   "source": [
    "dfr = pd.DataFrame({  #\"MLS\", \"Rand\",\"Vtr\",\"Psd\",\"Lls\",\"Mlns\n",
    "                    '1 state' : states[0],\n",
    "                    '3 states' : states[2],\n",
    "                    '5 states' : states[4],\n",
    "                    '7 states' : states[6],\n",
    "                    '9 states' : states[8],\n",
    "                    #'6 states' : states[5], \n",
    "                    #'7 states' : states[6],\n",
    "                    #'8 states' : states[7],\n",
    "                    #'9 states' : states[8], \n",
    "                     })"
   ]
  },
  {
   "cell_type": "code",
   "execution_count": 8,
   "metadata": {
    "collapsed": false
   },
   "outputs": [
    {
     "data": {
      "text/html": [
       "<div>\n",
       "<table border=\"1\" class=\"dataframe\">\n",
       "  <thead>\n",
       "    <tr style=\"text-align: right;\">\n",
       "      <th></th>\n",
       "      <th>1 state</th>\n",
       "      <th>3 states</th>\n",
       "      <th>5 states</th>\n",
       "      <th>7 states</th>\n",
       "      <th>9 states</th>\n",
       "    </tr>\n",
       "  </thead>\n",
       "  <tbody>\n",
       "    <tr>\n",
       "      <th>415</th>\n",
       "      <td>0.1892</td>\n",
       "      <td>0.1616</td>\n",
       "      <td>0.2148</td>\n",
       "      <td>0.1592</td>\n",
       "      <td>0.1618</td>\n",
       "    </tr>\n",
       "    <tr>\n",
       "      <th>416</th>\n",
       "      <td>0.0583</td>\n",
       "      <td>0.0442</td>\n",
       "      <td>0.0426</td>\n",
       "      <td>0.0381</td>\n",
       "      <td>0.0326</td>\n",
       "    </tr>\n",
       "    <tr>\n",
       "      <th>417</th>\n",
       "      <td>0.1854</td>\n",
       "      <td>0.2041</td>\n",
       "      <td>0.2208</td>\n",
       "      <td>0.2340</td>\n",
       "      <td>0.2377</td>\n",
       "    </tr>\n",
       "  </tbody>\n",
       "</table>\n",
       "</div>"
      ],
      "text/plain": [
       "     1 state  3 states  5 states  7 states  9 states\n",
       "415   0.1892    0.1616    0.2148    0.1592    0.1618\n",
       "416   0.0583    0.0442    0.0426    0.0381    0.0326\n",
       "417   0.1854    0.2041    0.2208    0.2340    0.2377"
      ]
     },
     "execution_count": 8,
     "metadata": {},
     "output_type": "execute_result"
    }
   ],
   "source": [
    "dfr.tail(3)"
   ]
  },
  {
   "cell_type": "code",
   "execution_count": 9,
   "metadata": {
    "collapsed": false
   },
   "outputs": [
    {
     "data": {
      "text/html": [
       "<div>\n",
       "<table border=\"1\" class=\"dataframe\">\n",
       "  <thead>\n",
       "    <tr style=\"text-align: right;\">\n",
       "      <th></th>\n",
       "      <th>1 state</th>\n",
       "      <th>3 states</th>\n",
       "      <th>5 states</th>\n",
       "      <th>7 states</th>\n",
       "      <th>9 states</th>\n",
       "    </tr>\n",
       "  </thead>\n",
       "  <tbody>\n",
       "    <tr>\n",
       "      <th>count</th>\n",
       "      <td>418.0000</td>\n",
       "      <td>418.0000</td>\n",
       "      <td>418.0000</td>\n",
       "      <td>418.0000</td>\n",
       "      <td>418.0000</td>\n",
       "    </tr>\n",
       "    <tr>\n",
       "      <th>mean</th>\n",
       "      <td>0.1712</td>\n",
       "      <td>0.1694</td>\n",
       "      <td>0.1712</td>\n",
       "      <td>0.1709</td>\n",
       "      <td>0.1729</td>\n",
       "    </tr>\n",
       "    <tr>\n",
       "      <th>std</th>\n",
       "      <td>0.1352</td>\n",
       "      <td>0.1414</td>\n",
       "      <td>0.1398</td>\n",
       "      <td>0.1503</td>\n",
       "      <td>0.1372</td>\n",
       "    </tr>\n",
       "  </tbody>\n",
       "</table>\n",
       "</div>"
      ],
      "text/plain": [
       "       1 state  3 states  5 states  7 states  9 states\n",
       "count 418.0000  418.0000  418.0000  418.0000  418.0000\n",
       "mean    0.1712    0.1694    0.1712    0.1709    0.1729\n",
       "std     0.1352    0.1414    0.1398    0.1503    0.1372"
      ]
     },
     "execution_count": 9,
     "metadata": {},
     "output_type": "execute_result"
    }
   ],
   "source": [
    "dfr.describe()[:3]"
   ]
  },
  {
   "cell_type": "code",
   "execution_count": 10,
   "metadata": {
    "collapsed": false
   },
   "outputs": [],
   "source": [
    "d1 = dfr['1 state']\n",
    "d2 = dfr['3 states']\n",
    "d3 = dfr['5 states']\n",
    "d4 = dfr['7 states']\n",
    "d5 = dfr['9 states']\n"
   ]
  },
  {
   "cell_type": "code",
   "execution_count": 11,
   "metadata": {
    "collapsed": false
   },
   "outputs": [],
   "source": [
    "dfr_alone = pd.read_csv('stand_alone_10days_dfr.csv')"
   ]
  },
  {
   "cell_type": "code",
   "execution_count": 12,
   "metadata": {
    "collapsed": false
   },
   "outputs": [
    {
     "data": {
      "text/html": [
       "<div>\n",
       "<table border=\"1\" class=\"dataframe\">\n",
       "  <thead>\n",
       "    <tr style=\"text-align: right;\">\n",
       "      <th></th>\n",
       "      <th>Unnamed: 0</th>\n",
       "      <th>1 state</th>\n",
       "      <th>3 states</th>\n",
       "      <th>5 states</th>\n",
       "      <th>7 states</th>\n",
       "      <th>9 states</th>\n",
       "    </tr>\n",
       "  </thead>\n",
       "  <tbody>\n",
       "    <tr>\n",
       "      <th>count</th>\n",
       "      <td>418.0000</td>\n",
       "      <td>418.0000</td>\n",
       "      <td>418.0000</td>\n",
       "      <td>418.0000</td>\n",
       "      <td>418.0000</td>\n",
       "      <td>418.0000</td>\n",
       "    </tr>\n",
       "    <tr>\n",
       "      <th>mean</th>\n",
       "      <td>208.5000</td>\n",
       "      <td>0.1711</td>\n",
       "      <td>0.1768</td>\n",
       "      <td>0.1781</td>\n",
       "      <td>0.1794</td>\n",
       "      <td>0.1825</td>\n",
       "    </tr>\n",
       "    <tr>\n",
       "      <th>std</th>\n",
       "      <td>120.8105</td>\n",
       "      <td>0.1367</td>\n",
       "      <td>0.1648</td>\n",
       "      <td>0.1629</td>\n",
       "      <td>0.1630</td>\n",
       "      <td>0.1640</td>\n",
       "    </tr>\n",
       "    <tr>\n",
       "      <th>min</th>\n",
       "      <td>0.0000</td>\n",
       "      <td>0.0000</td>\n",
       "      <td>0.0006</td>\n",
       "      <td>0.0000</td>\n",
       "      <td>0.0000</td>\n",
       "      <td>0.0000</td>\n",
       "    </tr>\n",
       "    <tr>\n",
       "      <th>25%</th>\n",
       "      <td>104.2500</td>\n",
       "      <td>0.0869</td>\n",
       "      <td>0.0815</td>\n",
       "      <td>0.0868</td>\n",
       "      <td>0.0832</td>\n",
       "      <td>0.0876</td>\n",
       "    </tr>\n",
       "    <tr>\n",
       "      <th>50%</th>\n",
       "      <td>208.5000</td>\n",
       "      <td>0.1453</td>\n",
       "      <td>0.1364</td>\n",
       "      <td>0.1443</td>\n",
       "      <td>0.1422</td>\n",
       "      <td>0.1441</td>\n",
       "    </tr>\n",
       "    <tr>\n",
       "      <th>75%</th>\n",
       "      <td>312.7500</td>\n",
       "      <td>0.2175</td>\n",
       "      <td>0.2232</td>\n",
       "      <td>0.2198</td>\n",
       "      <td>0.2268</td>\n",
       "      <td>0.2291</td>\n",
       "    </tr>\n",
       "    <tr>\n",
       "      <th>max</th>\n",
       "      <td>417.0000</td>\n",
       "      <td>1.5989</td>\n",
       "      <td>2.2190</td>\n",
       "      <td>2.1588</td>\n",
       "      <td>2.0581</td>\n",
       "      <td>2.0752</td>\n",
       "    </tr>\n",
       "  </tbody>\n",
       "</table>\n",
       "</div>"
      ],
      "text/plain": [
       "       Unnamed: 0  1 state  3 states  5 states  7 states  9 states\n",
       "count    418.0000 418.0000  418.0000  418.0000  418.0000  418.0000\n",
       "mean     208.5000   0.1711    0.1768    0.1781    0.1794    0.1825\n",
       "std      120.8105   0.1367    0.1648    0.1629    0.1630    0.1640\n",
       "min        0.0000   0.0000    0.0006    0.0000    0.0000    0.0000\n",
       "25%      104.2500   0.0869    0.0815    0.0868    0.0832    0.0876\n",
       "50%      208.5000   0.1453    0.1364    0.1443    0.1422    0.1441\n",
       "75%      312.7500   0.2175    0.2232    0.2198    0.2268    0.2291\n",
       "max      417.0000   1.5989    2.2190    2.1588    2.0581    2.0752"
      ]
     },
     "execution_count": 12,
     "metadata": {},
     "output_type": "execute_result"
    }
   ],
   "source": [
    "dfr_alone.describe()"
   ]
  },
  {
   "cell_type": "code",
   "execution_count": 13,
   "metadata": {
    "collapsed": false
   },
   "outputs": [],
   "source": [
    "d1_alone = dfr_alone['1 state']\n",
    "d2_alone = dfr_alone['3 states']\n",
    "d3_alone = dfr_alone['5 states']\n",
    "d4_alone = dfr_alone['7 states']\n",
    "d5_alone = dfr_alone['9 states']"
   ]
  },
  {
   "cell_type": "code",
   "execution_count": 23,
   "metadata": {
    "collapsed": false
   },
   "outputs": [
    {
     "data": {
      "image/png": "[encoded data removed]",
      "text/plain": [
       "<matplotlib.figure.Figure at 0xbec58d0>"
      ]
     },
     "metadata": {},
     "output_type": "display_data"
    }
   ],
   "source": [
    "import matplotlib.pyplot as plt\n",
    "from matplotlib.patches import Polygon\n",
    "\n",
    "%matplotlib inline\n",
    "plt.figure(figsize=(13, 9))\n",
    "data = [d1,d1_alone,d3,d3_alone,d5,d5_alone]\n",
    "#data = [d1_alone,d3_alone,d5_alone]\n",
    "box = plt.boxplot(data, 0, '',widths=0.5, patch_artist=True);\n",
    "plt.ylabel(\"Gaussian KDE @Real Price\")\n",
    "#plt.xticks([1,2,3], ['1 state', '5 state', '9 state']);\n",
    "plt.xticks([1,2,3,4,5,6], ['1 state + Market', '1 state','5 state + Market', '5 state',\n",
    "                         '9 state + Market', '9 state']);\n",
    "\n",
    "colors = ['lightgreen', 'lightblue', 'lightgreen', 'lightblue', 'lightgreen', 'lightblue']\n",
    "for patch, color in zip(box['boxes'], colors):\n",
    "    patch.set_facecolor(color)\n",
    "    \n",
    "plt.savefig('boxplot_state_number.png', bbox_inches='tight')"
   ]
  },
  {
   "cell_type": "code",
   "execution_count": 92,
   "metadata": {
    "collapsed": true
   },
   "outputs": [],
   "source": [
    "#z_stat, p_val = stats.ranksums(d1,d2)"
   ]
  },
  {
   "cell_type": "code",
   "execution_count": 93,
   "metadata": {
    "collapsed": false
   },
   "outputs": [],
   "source": [
    "#print (p_val)"
   ]
  },
  {
   "cell_type": "code",
   "execution_count": 94,
   "metadata": {
    "collapsed": false
   },
   "outputs": [],
   "source": [
    "p_val1 = stats.wilcoxon(d1,d1_alone, zero_method='wilcox', correction=False)[1]\n",
    "p_val2 = stats.wilcoxon(d2,d2_alone, zero_method='wilcox', correction=False)[1]\n",
    "p_val3 = stats.wilcoxon(d3,d3_alone, zero_method='wilcox', correction=False)[1]\n",
    "p_val4 = stats.wilcoxon(d4,d4_alone, zero_method='wilcox', correction=False)[1]\n",
    "p_val5 = stats.wilcoxon(d5,d5_alone, zero_method='wilcox', correction=False)[1]\n"
   ]
  },
  {
   "cell_type": "code",
   "execution_count": 95,
   "metadata": {
    "collapsed": false
   },
   "outputs": [
    {
     "name": "stdout",
     "output_type": "stream",
     "text": [
      "('P-value 1 ', 0.41942458147718431)\n",
      "('P-value 2 ', 0.12923536332835392)\n",
      "('P-value 3 ', 0.35656639067304241)\n",
      "('P-value 4 ', 0.0069967889096886494)\n",
      "('P-value 5 ', 0.012126420002870982)\n"
     ]
    }
   ],
   "source": [
    "print(\"P-value 1 \", p_val1) # Used because data is paired ! :D\n",
    "print(\"P-value 2 \", p_val2)\n",
    "print(\"P-value 3 \", p_val3)\n",
    "print(\"P-value 4 \", p_val4)\n",
    "print(\"P-value 5 \", p_val5)\n"
   ]
  },
  {
   "cell_type": "code",
   "execution_count": 96,
   "metadata": {
    "collapsed": false
   },
   "outputs": [
    {
     "data": {
      "text/plain": [
       "0"
      ]
     },
     "execution_count": 96,
     "metadata": {},
     "output_type": "execute_result"
    }
   ],
   "source": [
    "filename = \"States_Table_Comparison_\" + days + '_adv.tex'\n",
    "\n",
    "template = r'''\\documentclass[preview]{{standalone}}\n",
    "\\usepackage{{booktabs}}\n",
    "\\begin{{document}}\n",
    "{}\n",
    "\\end{{document}}\n",
    "'''\n",
    "\n",
    "with open(filename, 'wb') as f:\n",
    "    f.write(template.format(dfr.describe()[:3].to_latex()))\n",
    "\n",
    "subprocess.call(['pdflatex', filename])"
   ]
  },
  {
   "cell_type": "code",
   "execution_count": 97,
   "metadata": {
    "collapsed": false
   },
   "outputs": [],
   "source": [
    "dfr_pvalues =  pd.DataFrame({       \n",
    "                    '': pd.Categorical([\"1 state vs.\"]),\n",
    "                    '5 states':p_val1,\n",
    "                    '9 states':p_val2,\n",
    "                    \n",
    "                     }, index=['p-value'])\n",
    "#'D':np.array([0] * 2,dtype='int32'),"
   ]
  },
  {
   "cell_type": "code",
   "execution_count": 98,
   "metadata": {
    "collapsed": false
   },
   "outputs": [
    {
     "data": {
      "text/html": [
       "<div style=\"max-height:1000px;max-width:1500px;overflow:auto;\">\n",
       "<table border=\"1\" class=\"dataframe\">\n",
       "  <thead>\n",
       "    <tr style=\"text-align: right;\">\n",
       "      <th></th>\n",
       "      <th></th>\n",
       "      <th>5 states</th>\n",
       "      <th>9 states</th>\n",
       "    </tr>\n",
       "  </thead>\n",
       "  <tbody>\n",
       "    <tr>\n",
       "      <th>p-value</th>\n",
       "      <td> 1 state vs.</td>\n",
       "      <td>0.4194</td>\n",
       "      <td>0.1292</td>\n",
       "    </tr>\n",
       "  </tbody>\n",
       "</table>\n",
       "</div>"
      ],
      "text/plain": [
       "                      5 states  9 states\n",
       "p-value  1 state vs.    0.4194    0.1292"
      ]
     },
     "execution_count": 98,
     "metadata": {},
     "output_type": "execute_result"
    }
   ],
   "source": [
    "dfr_pvalues"
   ]
  },
  {
   "cell_type": "code",
   "execution_count": 99,
   "metadata": {
    "collapsed": false
   },
   "outputs": [
    {
     "data": {
      "text/plain": [
       "0"
      ]
     },
     "execution_count": 99,
     "metadata": {},
     "output_type": "execute_result"
    }
   ],
   "source": [
    "filename = \"States_Pvalues_Comparison_\" + days + '_adv.tex'\n",
    "\n",
    "template = r'''\\documentclass[preview]{{standalone}}\n",
    "\\usepackage{{booktabs}}\n",
    "\\begin{{document}}\n",
    "{}\n",
    "\\end{{document}}\n",
    "'''\n",
    "\n",
    "with open(filename, 'wb') as f:\n",
    "    f.write(template.format(dfr_pvalues.to_latex()))\n",
    "\n",
    "subprocess.call(['pdflatex', filename])"
   ]
  },
  {
   "cell_type": "code",
   "execution_count": null,
   "metadata": {
    "collapsed": true
   },
   "outputs": [],
   "source": []
  }
 ],
 "metadata": {
  "kernelspec": {
   "display_name": "Python [Root]",
   "language": "python",
   "name": "Python [Root]"
  },
  "language_info": {
   "codemirror_mode": {
    "name": "ipython",
    "version": 2
   },
   "file_extension": ".py",
   "mimetype": "text/x-python",
   "name": "python",
   "nbconvert_exporter": "python",
   "pygments_lexer": "ipython2",
   "version": "2.7.12"
  }
 },
 "nbformat": 4,
 "nbformat_minor": 0
}
