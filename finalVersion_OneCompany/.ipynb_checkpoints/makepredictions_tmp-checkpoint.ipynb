{
 "cells": [
  {
   "cell_type": "code",
   "execution_count": 51,
   "metadata": {
    "collapsed": false
   },
   "outputs": [],
   "source": [
    "from __future__ import print_function\n",
    "import datetime, time\n",
    "from sklearn.externals import joblib\n",
    "\n",
    "import numpy as np\n",
    "import pandas as pd\n",
    "import random\n",
    "import os\n",
    "import warnings\n",
    "\n",
    "from time import gmtime, strftime\n",
    "from matplotlib.dates import YearLocator, MonthLocator\n",
    "from math import ceil\n",
    "\n",
    "try:\n",
    "    from matplotlib.finance import quotes_historical_yahoo_ochl\n",
    "except ImportError:\n",
    "    from matplotlib.finance import (\n",
    "        quotes_historical_yahoo as quotes_historical_yahoo_ochl\n",
    "    )\n",
    "\n",
    "from hmmlearn.hmm import GaussianHMM\n",
    "\n",
    "warnings.filterwarnings('ignore') # Get rid of some annoying divide by zero in log warnings\n",
    "max_int_value = 4294967295\n",
    "total2active = 7/5.0 # Ratio of days the market is open to all days"
   ]
  },
  {
   "cell_type": "code",
   "execution_count": 52,
   "metadata": {
    "collapsed": false
   },
   "outputs": [],
   "source": [
    "def predictions_mls(filename, company, dt1, dt2,num_of_states,test_num, days_future, tr_prob, id_file):\n",
    "# Generate samples starting in the most likely actual current state\n",
    "       \n",
    "    model = joblib.load(filename) \n",
    "    days_future = 2*days_future # some extra simulation days in case they are needed\n",
    "    \n",
    "    quotes = quotes_historical_yahoo_ochl(company, dt1, dt2) \n",
    "    dates = np.array([q[0] for q in quotes], dtype=int)\n",
    "    close_v = np.array([q[2] for q in quotes])\n",
    "\n",
    "    # Take diff of close value and shift by 1    \n",
    "    diff = np.diff(close_v)\n",
    "    dates = dates[1:]\n",
    "    close_v = close_v[1:]\n",
    "    \n",
    "    X = np.column_stack([diff])\n",
    "\n",
    "    # Predict the most likely current internal hidden state\n",
    "    hidden_probs = model.predict_proba(X)\n",
    "    lstate_prob = hidden_probs[-1] \n",
    "\n",
    "    days = int(ceil((days_future//total2active)))\n",
    "    \n",
    "    # If more than one state, make sure we start at the most likely current state\n",
    "    if (num_of_states>1):\n",
    "        startprob = np.zeros(num_of_states)\n",
    "        startprob[lstate_prob.argmax()] = 1.0\n",
    "    else:\n",
    "        startprob = [ 1.]\n",
    "\n",
    "    # Prepare the model for sampling\n",
    "    model_2_sample = GaussianHMM(n_components=num_of_states, covariance_type=\"full\")\n",
    "    model_2_sample.startprob_ = startprob\n",
    "    model_2_sample.transmat_ = model.transmat_\n",
    "    model_2_sample.means_ = model.means_\n",
    "    model_2_sample.covars_ = model.covars_\n",
    "\n",
    "    #Make sure to randomize the samples\n",
    "    random.seed()\n",
    "    rseed = random.randrange(0,max_int_value)\n",
    "    X, Z = model_2_sample.sample(days, random_state=rseed)\n",
    "    \n",
    "    # Make predictions\n",
    "    avg_prediction = 0 \n",
    "    allpredictions = np.zeros((test_num, days)) #added two in case there was a weekend at the end\n",
    "    \n",
    "    for test in range(test_num):  \n",
    "        final_price = close_v[-1]\n",
    "        for i in range(days):\n",
    "            if ((final_price+X[i][0]) > 0 ):\n",
    "                final_price += X[i][0]\n",
    "\n",
    "            allpredictions[test][i] = final_price\n",
    "            \n",
    "        rseed = random.randrange(0,max_int_value)\n",
    "        X, Z = model_2_sample.sample(days, random_state=rseed)\n",
    "\n",
    "\n",
    "\n",
    "    predictions = allpredictions.mean(axis=0)\n",
    "    predictions_var = allpredictions.var(axis=0)\n",
    "    predictions_median =  np.median(allpredictions, axis=0)    \n",
    "    rp = getrealprice_series(company, dt2,days_future)\n",
    "    \n",
    "    #err_array = allpredictions.copy()\n",
    "    #for i in range(err_array.shape[1]):\n",
    "    #    err_array[:,i] = err_array[:,i] -rp[i]\n",
    "    \n",
    "    errors = predictions[:rp.size] - rp[:predictions.size] \n",
    "    tr_prob_vector = np.full((predictions.size),tr_prob)[:rp.size]\n",
    "    \n",
    "    data = [predictions[:rp.size],rp[:predictions.size], errors, tr_prob_vector, \n",
    "            predictions_var[:rp.size],predictions_median[:rp.size]]\n",
    "\n",
    "    err_avg = np.average(errors)\n",
    "    print (\"Avg. Prediction: \",str(num_of_states),\"states:\" ,predictions[-1], \n",
    "           \" Real Price:\", rp[-1], \" Avg Error:\", err_avg)\n",
    "    \n",
    "    fname = \"Predictions_\"+str(company)+\"_States_\"+str(num_of_states)+str(id_file)+\"_stats.csv\"\n",
    "    fname = os.path.join('./sims_final', fname)\n",
    "    np.savetxt(fname, data, delimiter=\",\")\n",
    "    \n",
    "    return\n",
    "\n"
   ]
  },
  {
   "cell_type": "code",
   "execution_count": null,
   "metadata": {
    "collapsed": true
   },
   "outputs": [],
   "source": [
    "def getrealprice_series(company, dt2, days_future):\n",
    "    \n",
    "    dt3 = dt2 + datetime.timedelta(days=days_future)\n",
    "    quotes = quotes_historical_yahoo_ochl(company, dt2,dt3) \n",
    "    close_v = np.array([q[2] for q in quotes])\n",
    "    \n",
    "    return close_v"
   ]
  },
  {
   "cell_type": "code",
   "execution_count": 53,
   "metadata": {
    "collapsed": true
   },
   "outputs": [],
   "source": [
    "def getrealprice(company, dt2, days_future):\n",
    "    \n",
    "    dt3 = dt2 + datetime.timedelta(days=days_future)\n",
    "    quotes = quotes_historical_yahoo_ochl(company, dt2,dt3) \n",
    "    close_v = np.array([q[2] for q in quotes])\n",
    "    \n",
    "    return close_v[-1]"
   ]
  },
  {
   "cell_type": "code",
   "execution_count": 54,
   "metadata": {
    "collapsed": false
   },
   "outputs": [
    {
     "name": "stdout",
     "output_type": "stream",
     "text": [
      "260 2016-07-28 15:35:29\n",
      "Avg. Prediction:  7.77822532588\n"
     ]
    }
   ],
   "source": [
    "'''\n",
    "import os\n",
    "import gmodel3\n",
    "\n",
    "d1 = datetime.date(2015, 1, 1)\n",
    "d2 = datetime.date(2015, 7, 1)\n",
    "\n",
    "company = 'PAAS'\n",
    "refcompany = 'SPY'\n",
    "\n",
    "num_tests = 2000\n",
    "num_states = 5\n",
    "\n",
    "date1 = datetime.date(2007, 1, 1)\n",
    "date2 = datetime.date(2015, 1, 1)\n",
    "gmodel3.cmodel(company,refcompany,date1,date2,num_states)\n",
    "\n",
    "filename = company+\"_\"+str(num_states)+\"_states_model_adv.pkl\"\n",
    "filename = os.path.join('./sims3', filename)\n",
    "rslt = predictions_mls(filename, company, refcompany, d1, d2, num_states, num_tests)\n",
    "'''"
   ]
  },
  {
   "cell_type": "code",
   "execution_count": 55,
   "metadata": {
    "collapsed": false
   },
   "outputs": [
    {
     "name": "stdout",
     "output_type": "stream",
     "text": [
      "Starting price:  8.174336\n",
      "Prediction 10 days out  7.8699178734\n",
      "1 qtr out:  7.08602888233\n",
      "1 year out: 7.77822532588\n",
      "Real ending price:  16.450001\n"
     ]
    }
   ],
   "source": [
    "'''\n",
    "print (\"Starting price: \",getrealprice(company, d2, 0))\n",
    "print (\"Prediction 10 days out \",np.average(rslt[2]))\n",
    "print (\"1 qtr out: \",np.average(rslt[1]))\n",
    "print (\"1 year out:\",np.average(rslt[0]))\n",
    "print (\"Real ending price: \",getrealprice(company, d2, 365))\n",
    "'''"
   ]
  },
  {
   "cell_type": "code",
   "execution_count": null,
   "metadata": {
    "collapsed": true
   },
   "outputs": [],
   "source": []
  }
 ],
 "metadata": {
  "kernelspec": {
   "display_name": "Python [Root]",
   "language": "python",
   "name": "Python [Root]"
  },
  "language_info": {
   "codemirror_mode": {
    "name": "ipython",
    "version": 2
   },
   "file_extension": ".py",
   "mimetype": "text/x-python",
   "name": "python",
   "nbconvert_exporter": "python",
   "pygments_lexer": "ipython2",
   "version": "2.7.12"
  }
 },
 "nbformat": 4,
 "nbformat_minor": 0
}
